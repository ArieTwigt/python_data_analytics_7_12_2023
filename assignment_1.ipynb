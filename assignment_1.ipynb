{
 "cells": [
  {
   "cell_type": "code",
   "execution_count": 46,
   "metadata": {},
   "outputs": [],
   "source": [
    "import numpy as np\n",
    "from math import pi, pow\n",
    "from typing import Union, Tuple"
   ]
  },
  {
   "cell_type": "code",
   "execution_count": 7,
   "metadata": {},
   "outputs": [
    {
     "data": {
      "text/plain": [
       "3.141592653589793"
      ]
     },
     "execution_count": 7,
     "metadata": {},
     "output_type": "execute_result"
    }
   ],
   "source": [
    "pi"
   ]
  },
  {
   "cell_type": "code",
   "execution_count": null,
   "metadata": {},
   "outputs": [],
   "source": []
  },
  {
   "cell_type": "markdown",
   "metadata": {},
   "source": [
    "# Assignments"
   ]
  },
  {
   "cell_type": "markdown",
   "metadata": {},
   "source": [
    "## Assignment 1\n",
    "\n",
    "Create 3 Numpy arrays from the following three lists:\n",
    "\n",
    "* [20, 56]\n",
    "* [11, 78]\n",
    "* [43, 65]"
   ]
  },
  {
   "cell_type": "code",
   "execution_count": 9,
   "metadata": {},
   "outputs": [
    {
     "data": {
      "text/plain": [
       "numpy.ndarray"
      ]
     },
     "execution_count": 9,
     "metadata": {},
     "output_type": "execute_result"
    }
   ],
   "source": [
    "# create the lists\n",
    "list_1 = [20, 56]\n",
    "list_2 = [11, 78]\n",
    "list_3 = [43, 65]\n",
    "\n",
    "# create the arrays\n",
    "array_1 = np.array(list_1)\n",
    "array_2 = np.array(list_2)\n",
    "array_3 = np.array(list_3)\n",
    "\n",
    "type(array_1)"
   ]
  },
  {
   "cell_type": "markdown",
   "metadata": {},
   "source": [
    "## Assignment 2\n",
    "\n",
    "Combine the arrays to a single array called diameters"
   ]
  },
  {
   "cell_type": "code",
   "execution_count": 11,
   "metadata": {},
   "outputs": [
    {
     "data": {
      "text/plain": [
       "array([20, 56, 11, 78, 43, 65])"
      ]
     },
     "execution_count": 11,
     "metadata": {},
     "output_type": "execute_result"
    }
   ],
   "source": [
    "# combine the arrays\n",
    "diameters = np.concatenate([array_1, array_2, array_3])\n",
    "diameters"
   ]
  },
  {
   "cell_type": "markdown",
   "metadata": {},
   "source": [
    "## Assignment 3\n",
    "\n",
    "Define a function (calc_circle) that calculates the size of a circle: (diameter / 2) ^ 2 * pi"
   ]
  },
  {
   "cell_type": "code",
   "execution_count": 13,
   "metadata": {},
   "outputs": [],
   "source": [
    "# define the function\n",
    "\n",
    "\n",
    "def calc_circle(diameter: Union[int, float]) -> Union[int, float]:\n",
    "    '''\n",
    "    Function to calculate the size of a circle\n",
    "\n",
    "    Parameters:\n",
    "\n",
    "    * diameter : The diameter of the circle\n",
    "    \n",
    "    '''\n",
    "\n",
    "    # calculate the radius\n",
    "    radius = diameter / 2\n",
    "\n",
    "    # calculate the size\n",
    "    size = pow(radius, 2) * pi\n",
    "\n",
    "    return size"
   ]
  },
  {
   "cell_type": "code",
   "execution_count": 14,
   "metadata": {},
   "outputs": [
    {
     "data": {
      "text/plain": [
       "78.53981633974483"
      ]
     },
     "execution_count": 14,
     "metadata": {},
     "output_type": "execute_result"
    }
   ],
   "source": [
    "# test the function\n",
    "calc_circle(10)"
   ]
  },
  {
   "cell_type": "markdown",
   "metadata": {},
   "source": [
    "## Assignment 4\n",
    "\n",
    "Create a new array sizes_circle based on the calc_circle function applied to the diameters that will contain the sizes of the circle based on the diameters in the diameters array."
   ]
  },
  {
   "cell_type": "code",
   "execution_count": 19,
   "metadata": {},
   "outputs": [
    {
     "data": {
      "text/plain": [
       "12421.071954130644"
      ]
     },
     "execution_count": 19,
     "metadata": {},
     "output_type": "execute_result"
    }
   ],
   "source": [
    "# a. define the empty array\n",
    "\n",
    "sizes_circle = []\n",
    "\n",
    "for diameter in diameters:\n",
    "    size = calc_circle(diameter)\n",
    "    sizes_circle.append(size)\n",
    "\n",
    "# convert to an array\n",
    "sizes_circle = np.array(sizes_circle)\n",
    "\n",
    "sizes_circle"
   ]
  },
  {
   "cell_type": "code",
   "execution_count": 21,
   "metadata": {},
   "outputs": [
    {
     "data": {
      "text/plain": [
       "array([ 314.15926536, 2463.00864041,   95.03317777, 4778.36242611,\n",
       "       1452.20120412, 3318.30724035])"
      ]
     },
     "execution_count": 21,
     "metadata": {},
     "output_type": "execute_result"
    }
   ],
   "source": [
    "# b. list comprehension\n",
    "sizes_circle = np.array([calc_circle(diameter) for diameter in diameters])\n",
    "sizes_circle"
   ]
  },
  {
   "cell_type": "markdown",
   "metadata": {},
   "source": [
    "## Assignment 5\n",
    "\n",
    "Filter the sizes_circle array for only values above the avarage value of the sizes_circle array."
   ]
  },
  {
   "cell_type": "code",
   "execution_count": 22,
   "metadata": {},
   "outputs": [
    {
     "data": {
      "text/plain": [
       "2070.178659021774"
      ]
     },
     "execution_count": 22,
     "metadata": {},
     "output_type": "execute_result"
    }
   ],
   "source": [
    "# calculate the mean size\n",
    "mean_size = sizes_circle.mean()\n",
    "mean_size"
   ]
  },
  {
   "cell_type": "code",
   "execution_count": 31,
   "metadata": {},
   "outputs": [
    {
     "data": {
      "text/plain": [
       "array([2463.00864041, 4778.36242611, 3318.30724035])"
      ]
     },
     "execution_count": 31,
     "metadata": {},
     "output_type": "execute_result"
    }
   ],
   "source": [
    "# define your filter\n",
    "sizes_circle[sizes_circle > mean_size]"
   ]
  },
  {
   "cell_type": "markdown",
   "metadata": {},
   "source": [
    "## Assignment 6\n",
    "\n",
    "\n",
    "Create a function that prints the following information from the sizes_circle array:\n",
    "\n",
    "* The number of values,\n",
    "* standard deviation,\n",
    "* min and max values\n",
    "* the unique values\n",
    "* the number of unique values"
   ]
  },
  {
   "cell_type": "code",
   "execution_count": 38,
   "metadata": {},
   "outputs": [],
   "source": [
    "# function to display information about the array\n",
    "\n",
    "def show_info(array: np.array) -> None:\n",
    "    '''\n",
    "    Function to display information about an array\n",
    "\n",
    "    Parameters:\n",
    "    * array: The numpy array to display the information for\n",
    "    \n",
    "    '''\n",
    "\n",
    "    # show the number of values\n",
    "    number_of_values = len(array)\n",
    "\n",
    "    # standard deviation of the array\n",
    "    standard_deviation = array.std()\n",
    "\n",
    "    # min value\n",
    "    min_value = array.min()\n",
    "\n",
    "    # max value\n",
    "    max_value = array.max()\n",
    "\n",
    "    # unique values\n",
    "    unique_values = np.unique(array)\n",
    "\n",
    "    # number of unique values\n",
    "    number_unique_values = len(unique_values)\n",
    "\n",
    "    # print the values\n",
    "    description_list = [\"Number\", \"Standard Deviation\", \"Min\", \"Max\", \\\n",
    "                        \"Unique\", \"Number of unique\"]\n",
    "    \n",
    "    values_list = [number_of_values, standard_deviation, min_value, \\\n",
    "                   max_value, unique_values, number_unique_values]\n",
    "\n",
    "\n",
    "    # convert to a dictionary\n",
    "    description_dict = dict(zip(description_list, values_list))\n",
    "\n",
    "    # iterate over the dictionary\n",
    "    for key, value in description_dict.items():\n",
    "        print(f\"{key}: {value}\")\n"
   ]
  },
  {
   "cell_type": "code",
   "execution_count": 39,
   "metadata": {},
   "outputs": [
    {
     "name": "stdout",
     "output_type": "stream",
     "text": [
      "Number: 6\n",
      "Standard Deviation: 1653.9397199782222\n",
      "Min: 95.03317777109125\n",
      "Max: 4778.362426110075\n",
      "Unique: [  95.03317777  314.15926536 1452.20120412 2463.00864041 3318.30724035\n",
      " 4778.36242611]\n",
      "Number of unique: 6\n"
     ]
    }
   ],
   "source": [
    "show_info(sizes_circle)"
   ]
  },
  {
   "cell_type": "code",
   "execution_count": null,
   "metadata": {},
   "outputs": [],
   "source": []
  },
  {
   "cell_type": "markdown",
   "metadata": {},
   "source": [
    "## Assignment 7\n",
    "\n",
    "Create a function, split_odd_even that accepts a numpy array and returns the odd and even numbers in two seperate arrays."
   ]
  },
  {
   "cell_type": "code",
   "execution_count": 47,
   "metadata": {},
   "outputs": [],
   "source": [
    "# define the function\n",
    "def odd_even(array:np.array) -> Tuple[np.array, np.array]:\n",
    "    '''\n",
    "    Function to split an array in two seperate arrays with even or odd numbers\n",
    "\n",
    "    Parameters:\n",
    "\n",
    "    * array: The array to split\n",
    "    '''\n",
    "\n",
    "    # check for the odd numbers\n",
    "    odd_numbers = array[array % 2 == 1]\n",
    "\n",
    "    # check for the even numbers\n",
    "    even_numbers = array[array % 2 == 0]\n",
    "\n",
    "    return odd_numbers, even_numbers\n",
    "\n"
   ]
  },
  {
   "cell_type": "code",
   "execution_count": 49,
   "metadata": {},
   "outputs": [],
   "source": [
    "# apply the function\n",
    "even_diameters, odd_diameters = odd_even(diameters)"
   ]
  },
  {
   "cell_type": "code",
   "execution_count": 50,
   "metadata": {},
   "outputs": [
    {
     "data": {
      "text/plain": [
       "array([11, 43, 65])"
      ]
     },
     "execution_count": 50,
     "metadata": {},
     "output_type": "execute_result"
    }
   ],
   "source": [
    "even_diameters"
   ]
  },
  {
   "cell_type": "code",
   "execution_count": 51,
   "metadata": {},
   "outputs": [
    {
     "data": {
      "text/plain": [
       "array([20, 56, 78])"
      ]
     },
     "execution_count": 51,
     "metadata": {},
     "output_type": "execute_result"
    }
   ],
   "source": [
    "odd_diameters"
   ]
  },
  {
   "cell_type": "code",
   "execution_count": null,
   "metadata": {},
   "outputs": [],
   "source": []
  }
 ],
 "metadata": {
  "kernelspec": {
   "display_name": "venv",
   "language": "python",
   "name": "python3"
  },
  "language_info": {
   "codemirror_mode": {
    "name": "ipython",
    "version": 3
   },
   "file_extension": ".py",
   "mimetype": "text/x-python",
   "name": "python",
   "nbconvert_exporter": "python",
   "pygments_lexer": "ipython3",
   "version": "3.12.0"
  }
 },
 "nbformat": 4,
 "nbformat_minor": 2
}
