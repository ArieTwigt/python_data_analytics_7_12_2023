{
 "cells": [
  {
   "cell_type": "code",
   "execution_count": 24,
   "metadata": {},
   "outputs": [],
   "source": [
    "# \n",
    "import requests\n",
    "import pandas as pd\n",
    "from dotenv import load_dotenv\n",
    "import os\n",
    "import json"
   ]
  },
  {
   "cell_type": "code",
   "execution_count": 25,
   "metadata": {},
   "outputs": [],
   "source": [
    "# get the environment variable\n",
    "load_dotenv()\n",
    "appid = os.environ.get('appid')"
   ]
  },
  {
   "cell_type": "code",
   "execution_count": 26,
   "metadata": {},
   "outputs": [],
   "source": [
    "# define the list with the cities\n",
    "cities = ['Amsterdam', 'Eindhoven', 'Enschede', 'Utrecht']\n",
    "\n",
    "\n",
    "# predictions_list\n",
    "predictions_list = []\n",
    "\n",
    "\n",
    "# write the for loop\n",
    "for city in cities:\n",
    "    endpoint = f\"https://api.openweathermap.org/data/2.5/forecast?q={city}&appid={appid}&units=metric\"\n",
    "    response = requests.get(endpoint)\n",
    "\n",
    "    prediction = response.json()\n",
    "    predictions_list.append(prediction)"
   ]
  },
  {
   "cell_type": "code",
   "execution_count": 27,
   "metadata": {},
   "outputs": [
    {
     "data": {
      "text/plain": [
       "['Amsterdam', 'Gemeente Eindhoven', 'Enschede', 'Provincie Utrecht']"
      ]
     },
     "execution_count": 27,
     "metadata": {},
     "output_type": "execute_result"
    }
   ],
   "source": [
    "# get the list with predictions\n",
    "cities = [prediction['city']['name'] for prediction in predictions_list]\n",
    "cities"
   ]
  },
  {
   "cell_type": "code",
   "execution_count": 28,
   "metadata": {},
   "outputs": [
    {
     "name": "stdout",
     "output_type": "stream",
     "text": [
      "Getting data for city: Amsterdam\n",
      "Getting data for city: Gemeente Eindhoven\n",
      "Getting data for city: Enschede\n",
      "Getting data for city: Provincie Utrecht\n"
     ]
    }
   ],
   "source": [
    "# collect the data from the weather dict\n",
    "weather_temp = []\n",
    "weather_feels_like = []\n",
    "weather_rain_mm = []\n",
    "weather_description = []\n",
    "weather_dt_txt = []\n",
    "weather_wind_speed = []\n",
    "weather_city = []\n",
    "\n",
    "\n",
    "# for loop for cities\n",
    "for idx_city, city in enumerate(cities):\n",
    "    # specify the right city\n",
    "    weather_dict = predictions_list[idx_city]\n",
    "\n",
    "    print(f\"Getting data for city: {city}\")\n",
    "\n",
    "    \n",
    "\n",
    "    # iterate over the predictions in the list\n",
    "    for i, prediction in enumerate(weather_dict['list']):\n",
    "        weather_temp.append(prediction['main']['temp'])\n",
    "        weather_feels_like.append(prediction['main']['feels_like'])\n",
    "        if 'rain' in prediction.keys():\n",
    "            weather_rain_mm.append(prediction['rain']['3h'])\n",
    "        else:\n",
    "            weather_rain_mm.append(0)\n",
    "        weather_description.append(prediction['weather'][0]['description'])\n",
    "        weather_dt_txt.append(prediction['dt_txt'])\n",
    "        weather_wind_speed.append(weather_dict['list'][i]['wind']['speed'])\n",
    "\n",
    "        # append to the city\n",
    "        weather_city.append(city)\n",
    "\n"
   ]
  },
  {
   "cell_type": "code",
   "execution_count": 29,
   "metadata": {},
   "outputs": [],
   "source": [
    "# create a DataFrame\n",
    "weather_df_all = pd.DataFrame(\n",
    "    {\n",
    "        \"date\": weather_dt_txt,\n",
    "        \"city\": weather_city,\n",
    "        \"temperature\": weather_temp,\n",
    "        \"feels_like\":  weather_feels_like,\n",
    "        \"rain_mm\": weather_rain_mm,\n",
    "        \"wind_speed\": weather_wind_speed,\n",
    "        \"description\": weather_description\n",
    "    }\n",
    ")"
   ]
  },
  {
   "cell_type": "code",
   "execution_count": 30,
   "metadata": {},
   "outputs": [
    {
     "data": {
      "text/plain": [
       "array([<Axes: title={'center': 'mean_temperature'}, xlabel='city'>,\n",
       "       <Axes: title={'center': 'total_rain_mm'}, xlabel='city'>],\n",
       "      dtype=object)"
      ]
     },
     "execution_count": 30,
     "metadata": {},
     "output_type": "execute_result"
    },
    {
     "data": {
      "image/png": "[encoded data removed]",
      "text/plain": [
       "<Figure size 640x480 with 2 Axes>"
      ]
     },
     "metadata": {},
     "output_type": "display_data"
    }
   ],
   "source": [
    "# weather\n",
    "weather_df_grouped = (\n",
    "    weather_df_all\n",
    "    .groupby(\"city\")\n",
    "    .agg({\"temperature\": \"mean\", \n",
    "          \"rain_mm\": \"sum\"})\n",
    "    .rename(columns={\"temperature\": \"mean_temperature\",\n",
    "                     \"rain_mm\": \"total_rain_mm\"})\n",
    "    .reset_index()\n",
    "    .plot\n",
    "    .bar(x=\"city\", y=[\"mean_temperature\", \"total_rain_mm\"], subplots=True)\n",
    ")\n",
    "\n",
    "weather_df_grouped"
   ]
  },
  {
   "cell_type": "code",
   "execution_count": 31,
   "metadata": {},
   "outputs": [],
   "source": [
    "# vervolg\n",
    "weather_df = weather_df_all.query(\"city == 'Amsterdam'\")"
   ]
  },
  {
   "cell_type": "code",
   "execution_count": 80,
   "metadata": {},
   "outputs": [],
   "source": [
    "# import for plotly\n",
    "import plotly.express as px           # for the visualisation\n",
    "import plotly.graph_objects as go\n",
    "import plotly"
   ]
  },
  {
   "cell_type": "code",
   "execution_count": 81,
   "metadata": {},
   "outputs": [],
   "source": [
    "# initiate the figure\n",
    "fig = go.Figure()"
   ]
  },
  {
   "cell_type": "code",
   "execution_count": 82,
   "metadata": {},
   "outputs": [
    {
     "data": {
      "application/vnd.plotly.v1+json": {
       "config": {
        "plotlyServerURL": "https://plot.ly"
       },
       "data": [
        {
         "line": {
          "color": "royalblue",
          "width": 6
         },
         "mode": "lines",
         "name": "Temperature",
         "type": "scatter",
         "x": [
          "2023-12-08 12:00:00",
          "2023-12-08 15:00:00",
          "2023-12-08 18:00:00",
          "2023-12-08 21:00:00",
          "2023-12-09 00:00:00",
          "2023-12-09 03:00:00",
          "2023-12-09 06:00:00",
          "2023-12-09 09:00:00",
          "2023-12-09 12:00:00",
          "2023-12-09 15:00:00",
          "2023-12-09 18:00:00",
          "2023-12-09 21:00:00",
          "2023-12-10 00:00:00",
          "2023-12-10 03:00:00",
          "2023-12-10 06:00:00",
          "2023-12-10 09:00:00",
          "2023-12-10 12:00:00",
          "2023-12-10 15:00:00",
          "2023-12-10 18:00:00",
          "2023-12-10 21:00:00",
          "2023-12-11 00:00:00",
          "2023-12-11 03:00:00",
          "2023-12-11 06:00:00",
          "2023-12-11 09:00:00",
          "2023-12-11 12:00:00",
          "2023-12-11 15:00:00",
          "2023-12-11 18:00:00",
          "2023-12-11 21:00:00",
          "2023-12-12 00:00:00",
          "2023-12-12 03:00:00",
          "2023-12-12 06:00:00",
          "2023-12-12 09:00:00",
          "2023-12-12 12:00:00",
          "2023-12-12 15:00:00",
          "2023-12-12 18:00:00",
          "2023-12-12 21:00:00",
          "2023-12-13 00:00:00",
          "2023-12-13 03:00:00",
          "2023-12-13 06:00:00",
          "2023-12-13 09:00:00"
         ],
         "y": [
          4.27,
          6.17,
          6.17,
          7.08,
          7.45,
          6.96,
          6.67,
          6.06,
          7.11,
          7.46,
          10.84,
          9.16,
          8.26,
          6.91,
          8.48,
          8.27,
          8.64,
          8.44,
          7.74,
          7.49,
          9.23,
          8.59,
          7.65,
          7.98,
          9.56,
          9.11,
          9.44,
          10.08,
          9.92,
          9.43,
          9.02,
          9.3,
          9.82,
          9.45,
          8.8,
          9.22,
          9.21,
          8.93,
          8.45,
          8.61
         ]
        }
       ],
       "layout": {
        "template": {
         "data": {
          "bar": [
           {
            "error_x": {
             "color": "#2a3f5f"
            },
            "error_y": {
             "color": "#2a3f5f"
            },
            "marker": {
             "line": {
              "color": "#E5ECF6",
              "width": 0.5
             },
             "pattern": {
              "fillmode": "overlay",
              "size": 10,
              "solidity": 0.2
             }
            },
            "type": "bar"
           }
          ],
          "barpolar": [
           {
            "marker": {
             "line": {
              "color": "#E5ECF6",
              "width": 0.5
             },
             "pattern": {
              "fillmode": "overlay",
              "size": 10,
              "solidity": 0.2
             }
            },
            "type": "barpolar"
           }
          ],
          "carpet": [
           {
            "aaxis": {
             "endlinecolor": "#2a3f5f",
             "gridcolor": "white",
             "linecolor": "white",
             "minorgridcolor": "white",
             "startlinecolor": "#2a3f5f"
            },
            "baxis": {
             "endlinecolor": "#2a3f5f",
             "gridcolor": "white",
             "linecolor": "white",
             "minorgridcolor": "white",
             "startlinecolor": "#2a3f5f"
            },
            "type": "carpet"
           }
          ],
          "choropleth": [
           {
            "colorbar": {
             "outlinewidth": 0,
             "ticks": ""
            },
            "type": "choropleth"
           }
          ],
          "contour": [
           {
            "colorbar": {
             "outlinewidth": 0,
             "ticks": ""
            },
            "colorscale": [
             [
              0,
              "#0d0887"
             ],
             [
              0.1111111111111111,
              "#46039f"
             ],
             [
              0.2222222222222222,
              "#7201a8"
             ],
             [
              0.3333333333333333,
              "#9c179e"
             ],
             [
              0.4444444444444444,
              "#bd3786"
             ],
             [
              0.5555555555555556,
              "#d8576b"
             ],
             [
              0.6666666666666666,
              "#ed7953"
             ],
             [
              0.7777777777777778,
              "#fb9f3a"
             ],
             [
              0.8888888888888888,
              "#fdca26"
             ],
             [
              1,
              "#f0f921"
             ]
            ],
            "type": "contour"
           }
          ],
          "contourcarpet": [
           {
            "colorbar": {
             "outlinewidth": 0,
             "ticks": ""
            },
            "type": "contourcarpet"
           }
          ],
          "heatmap": [
           {
            "colorbar": {
             "outlinewidth": 0,
             "ticks": ""
            },
            "colorscale": [
             [
              0,
              "#0d0887"
             ],
             [
              0.1111111111111111,
              "#46039f"
             ],
             [
              0.2222222222222222,
              "#7201a8"
             ],
             [
              0.3333333333333333,
              "#9c179e"
             ],
             [
              0.4444444444444444,
              "#bd3786"
             ],
             [
              0.5555555555555556,
              "#d8576b"
             ],
             [
              0.6666666666666666,
              "#ed7953"
             ],
             [
              0.7777777777777778,
              "#fb9f3a"
             ],
             [
              0.8888888888888888,
              "#fdca26"
             ],
             [
              1,
              "#f0f921"
             ]
            ],
            "type": "heatmap"
           }
          ],
          "heatmapgl": [
           {
            "colorbar": {
             "outlinewidth": 0,
             "ticks": ""
            },
            "colorscale": [
             [
              0,
              "#0d0887"
             ],
             [
              0.1111111111111111,
              "#46039f"
             ],
             [
              0.2222222222222222,
              "#7201a8"
             ],
             [
              0.3333333333333333,
              "#9c179e"
             ],
             [
              0.4444444444444444,
              "#bd3786"
             ],
             [
              0.5555555555555556,
              "#d8576b"
             ],
             [
              0.6666666666666666,
              "#ed7953"
             ],
             [
              0.7777777777777778,
              "#fb9f3a"
             ],
             [
              0.8888888888888888,
              "#fdca26"
             ],
             [
              1,
              "#f0f921"
             ]
            ],
            "type": "heatmapgl"
           }
          ],
          "histogram": [
           {
            "marker": {
             "pattern": {
              "fillmode": "overlay",
              "size": 10,
              "solidity": 0.2
             }
            },
            "type": "histogram"
           }
          ],
          "histogram2d": [
           {
            "colorbar": {
             "outlinewidth": 0,
             "ticks": ""
            },
            "colorscale": [
             [
              0,
              "#0d0887"
             ],
             [
              0.1111111111111111,
              "#46039f"
             ],
             [
              0.2222222222222222,
              "#7201a8"
             ],
             [
              0.3333333333333333,
              "#9c179e"
             ],
             [
              0.4444444444444444,
              "#bd3786"
             ],
             [
              0.5555555555555556,
              "#d8576b"
             ],
             [
              0.6666666666666666,
              "#ed7953"
             ],
             [
              0.7777777777777778,
              "#fb9f3a"
             ],
             [
              0.8888888888888888,
              "#fdca26"
             ],
             [
              1,
              "#f0f921"
             ]
            ],
            "type": "histogram2d"
           }
          ],
          "histogram2dcontour": [
           {
            "colorbar": {
             "outlinewidth": 0,
             "ticks": ""
            },
            "colorscale": [
             [
              0,
              "#0d0887"
             ],
             [
              0.1111111111111111,
              "#46039f"
             ],
             [
              0.2222222222222222,
              "#7201a8"
             ],
             [
              0.3333333333333333,
              "#9c179e"
             ],
             [
              0.4444444444444444,
              "#bd3786"
             ],
             [
              0.5555555555555556,
              "#d8576b"
             ],
             [
              0.6666666666666666,
              "#ed7953"
             ],
             [
              0.7777777777777778,
              "#fb9f3a"
             ],
             [
              0.8888888888888888,
              "#fdca26"
             ],
             [
              1,
              "#f0f921"
             ]
            ],
            "type": "histogram2dcontour"
           }
          ],
          "mesh3d": [
           {
            "colorbar": {
             "outlinewidth": 0,
             "ticks": ""
            },
            "type": "mesh3d"
           }
          ],
          "parcoords": [
           {
            "line": {
             "colorbar": {
              "outlinewidth": 0,
              "ticks": ""
             }
            },
            "type": "parcoords"
           }
          ],
          "pie": [
           {
            "automargin": true,
            "type": "pie"
           }
          ],
          "scatter": [
           {
            "fillpattern": {
             "fillmode": "overlay",
             "size": 10,
             "solidity": 0.2
            },
            "type": "scatter"
           }
          ],
          "scatter3d": [
           {
            "line": {
             "colorbar": {
              "outlinewidth": 0,
              "ticks": ""
             }
            },
            "marker": {
             "colorbar": {
              "outlinewidth": 0,
              "ticks": ""
             }
            },
            "type": "scatter3d"
           }
          ],
          "scattercarpet": [
           {
            "marker": {
             "colorbar": {
              "outlinewidth": 0,
              "ticks": ""
             }
            },
            "type": "scattercarpet"
           }
          ],
          "scattergeo": [
           {
            "marker": {
             "colorbar": {
              "outlinewidth": 0,
              "ticks": ""
             }
            },
            "type": "scattergeo"
           }
          ],
          "scattergl": [
           {
            "marker": {
             "colorbar": {
              "outlinewidth": 0,
              "ticks": ""
             }
            },
            "type": "scattergl"
           }
          ],
          "scattermapbox": [
           {
            "marker": {
             "colorbar": {
              "outlinewidth": 0,
              "ticks": ""
             }
            },
            "type": "scattermapbox"
           }
          ],
          "scatterpolar": [
           {
            "marker": {
             "colorbar": {
              "outlinewidth": 0,
              "ticks": ""
             }
            },
            "type": "scatterpolar"
           }
          ],
          "scatterpolargl": [
           {
            "marker": {
             "colorbar": {
              "outlinewidth": 0,
              "ticks": ""
             }
            },
            "type": "scatterpolargl"
           }
          ],
          "scatterternary": [
           {
            "marker": {
             "colorbar": {
              "outlinewidth": 0,
              "ticks": ""
             }
            },
            "type": "scatterternary"
           }
          ],
          "surface": [
           {
            "colorbar": {
             "outlinewidth": 0,
             "ticks": ""
            },
            "colorscale": [
             [
              0,
              "#0d0887"
             ],
             [
              0.1111111111111111,
              "#46039f"
             ],
             [
              0.2222222222222222,
              "#7201a8"
             ],
             [
              0.3333333333333333,
              "#9c179e"
             ],
             [
              0.4444444444444444,
              "#bd3786"
             ],
             [
              0.5555555555555556,
              "#d8576b"
             ],
             [
              0.6666666666666666,
              "#ed7953"
             ],
             [
              0.7777777777777778,
              "#fb9f3a"
             ],
             [
              0.8888888888888888,
              "#fdca26"
             ],
             [
              1,
              "#f0f921"
             ]
            ],
            "type": "surface"
           }
          ],
          "table": [
           {
            "cells": {
             "fill": {
              "color": "#EBF0F8"
             },
             "line": {
              "color": "white"
             }
            },
            "header": {
             "fill": {
              "color": "#C8D4E3"
             },
             "line": {
              "color": "white"
             }
            },
            "type": "table"
           }
          ]
         },
         "layout": {
          "annotationdefaults": {
           "arrowcolor": "#2a3f5f",
           "arrowhead": 0,
           "arrowwidth": 1
          },
          "autotypenumbers": "strict",
          "coloraxis": {
           "colorbar": {
            "outlinewidth": 0,
            "ticks": ""
           }
          },
          "colorscale": {
           "diverging": [
            [
             0,
             "#8e0152"
            ],
            [
             0.1,
             "#c51b7d"
            ],
            [
             0.2,
             "#de77ae"
            ],
            [
             0.3,
             "#f1b6da"
            ],
            [
             0.4,
             "#fde0ef"
            ],
            [
             0.5,
             "#f7f7f7"
            ],
            [
             0.6,
             "#e6f5d0"
            ],
            [
             0.7,
             "#b8e186"
            ],
            [
             0.8,
             "#7fbc41"
            ],
            [
             0.9,
             "#4d9221"
            ],
            [
             1,
             "#276419"
            ]
           ],
           "sequential": [
            [
             0,
             "#0d0887"
            ],
            [
             0.1111111111111111,
             "#46039f"
            ],
            [
             0.2222222222222222,
             "#7201a8"
            ],
            [
             0.3333333333333333,
             "#9c179e"
            ],
            [
             0.4444444444444444,
             "#bd3786"
            ],
            [
             0.5555555555555556,
             "#d8576b"
            ],
            [
             0.6666666666666666,
             "#ed7953"
            ],
            [
             0.7777777777777778,
             "#fb9f3a"
            ],
            [
             0.8888888888888888,
             "#fdca26"
            ],
            [
             1,
             "#f0f921"
            ]
           ],
           "sequentialminus": [
            [
             0,
             "#0d0887"
            ],
            [
             0.1111111111111111,
             "#46039f"
            ],
            [
             0.2222222222222222,
             "#7201a8"
            ],
            [
             0.3333333333333333,
             "#9c179e"
            ],
            [
             0.4444444444444444,
             "#bd3786"
            ],
            [
             0.5555555555555556,
             "#d8576b"
            ],
            [
             0.6666666666666666,
             "#ed7953"
            ],
            [
             0.7777777777777778,
             "#fb9f3a"
            ],
            [
             0.8888888888888888,
             "#fdca26"
            ],
            [
             1,
             "#f0f921"
            ]
           ]
          },
          "colorway": [
           "#636efa",
           "#EF553B",
           "#00cc96",
           "#ab63fa",
           "#FFA15A",
           "#19d3f3",
           "#FF6692",
           "#B6E880",
           "#FF97FF",
           "#FECB52"
          ],
          "font": {
           "color": "#2a3f5f"
          },
          "geo": {
           "bgcolor": "white",
           "lakecolor": "white",
           "landcolor": "#E5ECF6",
           "showlakes": true,
           "showland": true,
           "subunitcolor": "white"
          },
          "hoverlabel": {
           "align": "left"
          },
          "hovermode": "closest",
          "mapbox": {
           "style": "light"
          },
          "paper_bgcolor": "white",
          "plot_bgcolor": "#E5ECF6",
          "polar": {
           "angularaxis": {
            "gridcolor": "white",
            "linecolor": "white",
            "ticks": ""
           },
           "bgcolor": "#E5ECF6",
           "radialaxis": {
            "gridcolor": "white",
            "linecolor": "white",
            "ticks": ""
           }
          },
          "scene": {
           "xaxis": {
            "backgroundcolor": "#E5ECF6",
            "gridcolor": "white",
            "gridwidth": 2,
            "linecolor": "white",
            "showbackground": true,
            "ticks": "",
            "zerolinecolor": "white"
           },
           "yaxis": {
            "backgroundcolor": "#E5ECF6",
            "gridcolor": "white",
            "gridwidth": 2,
            "linecolor": "white",
            "showbackground": true,
            "ticks": "",
            "zerolinecolor": "white"
           },
           "zaxis": {
            "backgroundcolor": "#E5ECF6",
            "gridcolor": "white",
            "gridwidth": 2,
            "linecolor": "white",
            "showbackground": true,
            "ticks": "",
            "zerolinecolor": "white"
           }
          },
          "shapedefaults": {
           "line": {
            "color": "#2a3f5f"
           }
          },
          "ternary": {
           "aaxis": {
            "gridcolor": "white",
            "linecolor": "white",
            "ticks": ""
           },
           "baxis": {
            "gridcolor": "white",
            "linecolor": "white",
            "ticks": ""
           },
           "bgcolor": "#E5ECF6",
           "caxis": {
            "gridcolor": "white",
            "linecolor": "white",
            "ticks": ""
           }
          },
          "title": {
           "x": 0.05
          },
          "xaxis": {
           "automargin": true,
           "gridcolor": "white",
           "linecolor": "white",
           "ticks": "",
           "title": {
            "standoff": 15
           },
           "zerolinecolor": "white",
           "zerolinewidth": 2
          },
          "yaxis": {
           "automargin": true,
           "gridcolor": "white",
           "linecolor": "white",
           "ticks": "",
           "title": {
            "standoff": 15
           },
           "zerolinecolor": "white",
           "zerolinewidth": 2
          }
         }
        }
       }
      }
     },
     "metadata": {},
     "output_type": "display_data"
    }
   ],
   "source": [
    "# add a trace\n",
    "fig.add_trace(go.Scatter(x=weather_df['date'], y=weather_df['temperature'],\n",
    "                    mode='lines',\n",
    "                    name='Temperature',\n",
    "                    line=dict(color='royalblue', width=6))                 \n",
    "                    )"
   ]
  },
  {
   "cell_type": "code",
   "execution_count": 83,
   "metadata": {},
   "outputs": [
    {
     "data": {
      "application/vnd.plotly.v1+json": {
       "config": {
        "plotlyServerURL": "https://plot.ly"
       },
       "data": [
        {
         "line": {
          "color": "royalblue",
          "width": 6
         },
         "mode": "lines",
         "name": "Temperature",
         "type": "scatter",
         "x": [
          "2023-12-08 12:00:00",
          "2023-12-08 15:00:00",
          "2023-12-08 18:00:00",
          "2023-12-08 21:00:00",
          "2023-12-09 00:00:00",
          "2023-12-09 03:00:00",
          "2023-12-09 06:00:00",
          "2023-12-09 09:00:00",
          "2023-12-09 12:00:00",
          "2023-12-09 15:00:00",
          "2023-12-09 18:00:00",
          "2023-12-09 21:00:00",
          "2023-12-10 00:00:00",
          "2023-12-10 03:00:00",
          "2023-12-10 06:00:00",
          "2023-12-10 09:00:00",
          "2023-12-10 12:00:00",
          "2023-12-10 15:00:00",
          "2023-12-10 18:00:00",
          "2023-12-10 21:00:00",
          "2023-12-11 00:00:00",
          "2023-12-11 03:00:00",
          "2023-12-11 06:00:00",
          "2023-12-11 09:00:00",
          "2023-12-11 12:00:00",
          "2023-12-11 15:00:00",
          "2023-12-11 18:00:00",
          "2023-12-11 21:00:00",
          "2023-12-12 00:00:00",
          "2023-12-12 03:00:00",
          "2023-12-12 06:00:00",
          "2023-12-12 09:00:00",
          "2023-12-12 12:00:00",
          "2023-12-12 15:00:00",
          "2023-12-12 18:00:00",
          "2023-12-12 21:00:00",
          "2023-12-13 00:00:00",
          "2023-12-13 03:00:00",
          "2023-12-13 06:00:00",
          "2023-12-13 09:00:00"
         ],
         "y": [
          4.27,
          6.17,
          6.17,
          7.08,
          7.45,
          6.96,
          6.67,
          6.06,
          7.11,
          7.46,
          10.84,
          9.16,
          8.26,
          6.91,
          8.48,
          8.27,
          8.64,
          8.44,
          7.74,
          7.49,
          9.23,
          8.59,
          7.65,
          7.98,
          9.56,
          9.11,
          9.44,
          10.08,
          9.92,
          9.43,
          9.02,
          9.3,
          9.82,
          9.45,
          8.8,
          9.22,
          9.21,
          8.93,
          8.45,
          8.61
         ]
        },
        {
         "line": {
          "color": "orange",
          "dash": "dot",
          "width": 3
         },
         "mode": "lines",
         "name": "Feels like",
         "type": "scatter",
         "x": [
          "2023-12-08 12:00:00",
          "2023-12-08 15:00:00",
          "2023-12-08 18:00:00",
          "2023-12-08 21:00:00",
          "2023-12-09 00:00:00",
          "2023-12-09 03:00:00",
          "2023-12-09 06:00:00",
          "2023-12-09 09:00:00",
          "2023-12-09 12:00:00",
          "2023-12-09 15:00:00",
          "2023-12-09 18:00:00",
          "2023-12-09 21:00:00",
          "2023-12-10 00:00:00",
          "2023-12-10 03:00:00",
          "2023-12-10 06:00:00",
          "2023-12-10 09:00:00",
          "2023-12-10 12:00:00",
          "2023-12-10 15:00:00",
          "2023-12-10 18:00:00",
          "2023-12-10 21:00:00",
          "2023-12-11 00:00:00",
          "2023-12-11 03:00:00",
          "2023-12-11 06:00:00",
          "2023-12-11 09:00:00",
          "2023-12-11 12:00:00",
          "2023-12-11 15:00:00",
          "2023-12-11 18:00:00",
          "2023-12-11 21:00:00",
          "2023-12-12 00:00:00",
          "2023-12-12 03:00:00",
          "2023-12-12 06:00:00",
          "2023-12-12 09:00:00",
          "2023-12-12 12:00:00",
          "2023-12-12 15:00:00",
          "2023-12-12 18:00:00",
          "2023-12-12 21:00:00",
          "2023-12-13 00:00:00",
          "2023-12-13 03:00:00",
          "2023-12-13 06:00:00",
          "2023-12-13 09:00:00"
         ],
         "y": [
          1.97,
          3.91,
          3.6,
          4.01,
          4.35,
          3.68,
          3.18,
          2.19,
          3.11,
          3.29,
          10.28,
          5.27,
          4.04,
          2.09,
          3.9,
          3.86,
          4.84,
          5.06,
          5.57,
          5.06,
          7.09,
          6.12,
          5.54,
          5.9,
          7.27,
          6.86,
          6.62,
          9.42,
          7.57,
          7.42,
          7.03,
          8.17,
          8.56,
          8.53,
          7.35,
          6.97,
          6.85,
          6.86,
          6.34,
          6.59
         ]
        }
       ],
       "layout": {
        "template": {
         "data": {
          "bar": [
           {
            "error_x": {
             "color": "#2a3f5f"
            },
            "error_y": {
             "color": "#2a3f5f"
            },
            "marker": {
             "line": {
              "color": "#E5ECF6",
              "width": 0.5
             },
             "pattern": {
              "fillmode": "overlay",
              "size": 10,
              "solidity": 0.2
             }
            },
            "type": "bar"
           }
          ],
          "barpolar": [
           {
            "marker": {
             "line": {
              "color": "#E5ECF6",
              "width": 0.5
             },
             "pattern": {
              "fillmode": "overlay",
              "size": 10,
              "solidity": 0.2
             }
            },
            "type": "barpolar"
           }
          ],
          "carpet": [
           {
            "aaxis": {
             "endlinecolor": "#2a3f5f",
             "gridcolor": "white",
             "linecolor": "white",
             "minorgridcolor": "white",
             "startlinecolor": "#2a3f5f"
            },
            "baxis": {
             "endlinecolor": "#2a3f5f",
             "gridcolor": "white",
             "linecolor": "white",
             "minorgridcolor": "white",
             "startlinecolor": "#2a3f5f"
            },
            "type": "carpet"
           }
          ],
          "choropleth": [
           {
            "colorbar": {
             "outlinewidth": 0,
             "ticks": ""
            },
            "type": "choropleth"
           }
          ],
          "contour": [
           {
            "colorbar": {
             "outlinewidth": 0,
             "ticks": ""
            },
            "colorscale": [
             [
              0,
              "#0d0887"
             ],
             [
              0.1111111111111111,
              "#46039f"
             ],
             [
              0.2222222222222222,
              "#7201a8"
             ],
             [
              0.3333333333333333,
              "#9c179e"
             ],
             [
              0.4444444444444444,
              "#bd3786"
             ],
             [
              0.5555555555555556,
              "#d8576b"
             ],
             [
              0.6666666666666666,
              "#ed7953"
             ],
             [
              0.7777777777777778,
              "#fb9f3a"
             ],
             [
              0.8888888888888888,
              "#fdca26"
             ],
             [
              1,
              "#f0f921"
             ]
            ],
            "type": "contour"
           }
          ],
          "contourcarpet": [
           {
            "colorbar": {
             "outlinewidth": 0,
             "ticks": ""
            },
            "type": "contourcarpet"
           }
          ],
          "heatmap": [
           {
            "colorbar": {
             "outlinewidth": 0,
             "ticks": ""
            },
            "colorscale": [
             [
              0,
              "#0d0887"
             ],
             [
              0.1111111111111111,
              "#46039f"
             ],
             [
              0.2222222222222222,
              "#7201a8"
             ],
             [
              0.3333333333333333,
              "#9c179e"
             ],
             [
              0.4444444444444444,
              "#bd3786"
             ],
             [
              0.5555555555555556,
              "#d8576b"
             ],
             [
              0.6666666666666666,
              "#ed7953"
             ],
             [
              0.7777777777777778,
              "#fb9f3a"
             ],
             [
              0.8888888888888888,
              "#fdca26"
             ],
             [
              1,
              "#f0f921"
             ]
            ],
            "type": "heatmap"
           }
          ],
          "heatmapgl": [
           {
            "colorbar": {
             "outlinewidth": 0,
             "ticks": ""
            },
            "colorscale": [
             [
              0,
              "#0d0887"
             ],
             [
              0.1111111111111111,
              "#46039f"
             ],
             [
              0.2222222222222222,
              "#7201a8"
             ],
             [
              0.3333333333333333,
              "#9c179e"
             ],
             [
              0.4444444444444444,
              "#bd3786"
             ],
             [
              0.5555555555555556,
              "#d8576b"
             ],
             [
              0.6666666666666666,
              "#ed7953"
             ],
             [
              0.7777777777777778,
              "#fb9f3a"
             ],
             [
              0.8888888888888888,
              "#fdca26"
             ],
             [
              1,
              "#f0f921"
             ]
            ],
            "type": "heatmapgl"
           }
          ],
          "histogram": [
           {
            "marker": {
             "pattern": {
              "fillmode": "overlay",
              "size": 10,
              "solidity": 0.2
             }
            },
            "type": "histogram"
           }
          ],
          "histogram2d": [
           {
            "colorbar": {
             "outlinewidth": 0,
             "ticks": ""
            },
            "colorscale": [
             [
              0,
              "#0d0887"
             ],
             [
              0.1111111111111111,
              "#46039f"
             ],
             [
              0.2222222222222222,
              "#7201a8"
             ],
             [
              0.3333333333333333,
              "#9c179e"
             ],
             [
              0.4444444444444444,
              "#bd3786"
             ],
             [
              0.5555555555555556,
              "#d8576b"
             ],
             [
              0.6666666666666666,
              "#ed7953"
             ],
             [
              0.7777777777777778,
              "#fb9f3a"
             ],
             [
              0.8888888888888888,
              "#fdca26"
             ],
             [
              1,
              "#f0f921"
             ]
            ],
            "type": "histogram2d"
           }
          ],
          "histogram2dcontour": [
           {
            "colorbar": {
             "outlinewidth": 0,
             "ticks": ""
            },
            "colorscale": [
             [
              0,
              "#0d0887"
             ],
             [
              0.1111111111111111,
              "#46039f"
             ],
             [
              0.2222222222222222,
              "#7201a8"
             ],
             [
              0.3333333333333333,
              "#9c179e"
             ],
             [
              0.4444444444444444,
              "#bd3786"
             ],
             [
              0.5555555555555556,
              "#d8576b"
             ],
             [
              0.6666666666666666,
              "#ed7953"
             ],
             [
              0.7777777777777778,
              "#fb9f3a"
             ],
             [
              0.8888888888888888,
              "#fdca26"
             ],
             [
              1,
              "#f0f921"
             ]
            ],
            "type": "histogram2dcontour"
           }
          ],
          "mesh3d": [
           {
            "colorbar": {
             "outlinewidth": 0,
             "ticks": ""
            },
            "type": "mesh3d"
           }
          ],
          "parcoords": [
           {
            "line": {
             "colorbar": {
              "outlinewidth": 0,
              "ticks": ""
             }
            },
            "type": "parcoords"
           }
          ],
          "pie": [
           {
            "automargin": true,
            "type": "pie"
           }
          ],
          "scatter": [
           {
            "fillpattern": {
             "fillmode": "overlay",
             "size": 10,
             "solidity": 0.2
            },
            "type": "scatter"
           }
          ],
          "scatter3d": [
           {
            "line": {
             "colorbar": {
              "outlinewidth": 0,
              "ticks": ""
             }
            },
            "marker": {
             "colorbar": {
              "outlinewidth": 0,
              "ticks": ""
             }
            },
            "type": "scatter3d"
           }
          ],
          "scattercarpet": [
           {
            "marker": {
             "colorbar": {
              "outlinewidth": 0,
              "ticks": ""
             }
            },
            "type": "scattercarpet"
           }
          ],
          "scattergeo": [
           {
            "marker": {
             "colorbar": {
              "outlinewidth": 0,
              "ticks": ""
             }
            },
            "type": "scattergeo"
           }
          ],
          "scattergl": [
           {
            "marker": {
             "colorbar": {
              "outlinewidth": 0,
              "ticks": ""
             }
            },
            "type": "scattergl"
           }
          ],
          "scattermapbox": [
           {
            "marker": {
             "colorbar": {
              "outlinewidth": 0,
              "ticks": ""
             }
            },
            "type": "scattermapbox"
           }
          ],
          "scatterpolar": [
           {
            "marker": {
             "colorbar": {
              "outlinewidth": 0,
              "ticks": ""
             }
            },
            "type": "scatterpolar"
           }
          ],
          "scatterpolargl": [
           {
            "marker": {
             "colorbar": {
              "outlinewidth": 0,
              "ticks": ""
             }
            },
            "type": "scatterpolargl"
           }
          ],
          "scatterternary": [
           {
            "marker": {
             "colorbar": {
              "outlinewidth": 0,
              "ticks": ""
             }
            },
            "type": "scatterternary"
           }
          ],
          "surface": [
           {
            "colorbar": {
             "outlinewidth": 0,
             "ticks": ""
            },
            "colorscale": [
             [
              0,
              "#0d0887"
             ],
             [
              0.1111111111111111,
              "#46039f"
             ],
             [
              0.2222222222222222,
              "#7201a8"
             ],
             [
              0.3333333333333333,
              "#9c179e"
             ],
             [
              0.4444444444444444,
              "#bd3786"
             ],
             [
              0.5555555555555556,
              "#d8576b"
             ],
             [
              0.6666666666666666,
              "#ed7953"
             ],
             [
              0.7777777777777778,
              "#fb9f3a"
             ],
             [
              0.8888888888888888,
              "#fdca26"
             ],
             [
              1,
              "#f0f921"
             ]
            ],
            "type": "surface"
           }
          ],
          "table": [
           {
            "cells": {
             "fill": {
              "color": "#EBF0F8"
             },
             "line": {
              "color": "white"
             }
            },
            "header": {
             "fill": {
              "color": "#C8D4E3"
             },
             "line": {
              "color": "white"
             }
            },
            "type": "table"
           }
          ]
         },
         "layout": {
          "annotationdefaults": {
           "arrowcolor": "#2a3f5f",
           "arrowhead": 0,
           "arrowwidth": 1
          },
          "autotypenumbers": "strict",
          "coloraxis": {
           "colorbar": {
            "outlinewidth": 0,
            "ticks": ""
           }
          },
          "colorscale": {
           "diverging": [
            [
             0,
             "#8e0152"
            ],
            [
             0.1,
             "#c51b7d"
            ],
            [
             0.2,
             "#de77ae"
            ],
            [
             0.3,
             "#f1b6da"
            ],
            [
             0.4,
             "#fde0ef"
            ],
            [
             0.5,
             "#f7f7f7"
            ],
            [
             0.6,
             "#e6f5d0"
            ],
            [
             0.7,
             "#b8e186"
            ],
            [
             0.8,
             "#7fbc41"
            ],
            [
             0.9,
             "#4d9221"
            ],
            [
             1,
             "#276419"
            ]
           ],
           "sequential": [
            [
             0,
             "#0d0887"
            ],
            [
             0.1111111111111111,
             "#46039f"
            ],
            [
             0.2222222222222222,
             "#7201a8"
            ],
            [
             0.3333333333333333,
             "#9c179e"
            ],
            [
             0.4444444444444444,
             "#bd3786"
            ],
            [
             0.5555555555555556,
             "#d8576b"
            ],
            [
             0.6666666666666666,
             "#ed7953"
            ],
            [
             0.7777777777777778,
             "#fb9f3a"
            ],
            [
             0.8888888888888888,
             "#fdca26"
            ],
            [
             1,
             "#f0f921"
            ]
           ],
           "sequentialminus": [
            [
             0,
             "#0d0887"
            ],
            [
             0.1111111111111111,
             "#46039f"
            ],
            [
             0.2222222222222222,
             "#7201a8"
            ],
            [
             0.3333333333333333,
             "#9c179e"
            ],
            [
             0.4444444444444444,
             "#bd3786"
            ],
            [
             0.5555555555555556,
             "#d8576b"
            ],
            [
             0.6666666666666666,
             "#ed7953"
            ],
            [
             0.7777777777777778,
             "#fb9f3a"
            ],
            [
             0.8888888888888888,
             "#fdca26"
            ],
            [
             1,
             "#f0f921"
            ]
           ]
          },
          "colorway": [
           "#636efa",
           "#EF553B",
           "#00cc96",
           "#ab63fa",
           "#FFA15A",
           "#19d3f3",
           "#FF6692",
           "#B6E880",
           "#FF97FF",
           "#FECB52"
          ],
          "font": {
           "color": "#2a3f5f"
          },
          "geo": {
           "bgcolor": "white",
           "lakecolor": "white",
           "landcolor": "#E5ECF6",
           "showlakes": true,
           "showland": true,
           "subunitcolor": "white"
          },
          "hoverlabel": {
           "align": "left"
          },
          "hovermode": "closest",
          "mapbox": {
           "style": "light"
          },
          "paper_bgcolor": "white",
          "plot_bgcolor": "#E5ECF6",
          "polar": {
           "angularaxis": {
            "gridcolor": "white",
            "linecolor": "white",
            "ticks": ""
           },
           "bgcolor": "#E5ECF6",
           "radialaxis": {
            "gridcolor": "white",
            "linecolor": "white",
            "ticks": ""
           }
          },
          "scene": {
           "xaxis": {
            "backgroundcolor": "#E5ECF6",
            "gridcolor": "white",
            "gridwidth": 2,
            "linecolor": "white",
            "showbackground": true,
            "ticks": "",
            "zerolinecolor": "white"
           },
           "yaxis": {
            "backgroundcolor": "#E5ECF6",
            "gridcolor": "white",
            "gridwidth": 2,
            "linecolor": "white",
            "showbackground": true,
            "ticks": "",
            "zerolinecolor": "white"
           },
           "zaxis": {
            "backgroundcolor": "#E5ECF6",
            "gridcolor": "white",
            "gridwidth": 2,
            "linecolor": "white",
            "showbackground": true,
            "ticks": "",
            "zerolinecolor": "white"
           }
          },
          "shapedefaults": {
           "line": {
            "color": "#2a3f5f"
           }
          },
          "ternary": {
           "aaxis": {
            "gridcolor": "white",
            "linecolor": "white",
            "ticks": ""
           },
           "baxis": {
            "gridcolor": "white",
            "linecolor": "white",
            "ticks": ""
           },
           "bgcolor": "#E5ECF6",
           "caxis": {
            "gridcolor": "white",
            "linecolor": "white",
            "ticks": ""
           }
          },
          "title": {
           "x": 0.05
          },
          "xaxis": {
           "automargin": true,
           "gridcolor": "white",
           "linecolor": "white",
           "ticks": "",
           "title": {
            "standoff": 15
           },
           "zerolinecolor": "white",
           "zerolinewidth": 2
          },
          "yaxis": {
           "automargin": true,
           "gridcolor": "white",
           "linecolor": "white",
           "ticks": "",
           "title": {
            "standoff": 15
           },
           "zerolinecolor": "white",
           "zerolinewidth": 2
          }
         }
        }
       }
      }
     },
     "metadata": {},
     "output_type": "display_data"
    }
   ],
   "source": [
    "# add the feels like temperature\n",
    "fig.add_trace(go.Scatter(x=weather_df['date'], y=weather_df['feels_like'],\n",
    "                    mode='lines',\n",
    "                    name='Feels like',\n",
    "                    line=dict(color='orange', width=3, dash='dot')))"
   ]
  },
  {
   "cell_type": "code",
   "execution_count": 84,
   "metadata": {},
   "outputs": [
    {
     "data": {
      "application/vnd.plotly.v1+json": {
       "config": {
        "plotlyServerURL": "https://plot.ly"
       },
       "data": [
        {
         "line": {
          "color": "royalblue",
          "width": 6
         },
         "mode": "lines",
         "name": "Temperature",
         "type": "scatter",
         "x": [
          "2023-12-08 12:00:00",
          "2023-12-08 15:00:00",
          "2023-12-08 18:00:00",
          "2023-12-08 21:00:00",
          "2023-12-09 00:00:00",
          "2023-12-09 03:00:00",
          "2023-12-09 06:00:00",
          "2023-12-09 09:00:00",
          "2023-12-09 12:00:00",
          "2023-12-09 15:00:00",
          "2023-12-09 18:00:00",
          "2023-12-09 21:00:00",
          "2023-12-10 00:00:00",
          "2023-12-10 03:00:00",
          "2023-12-10 06:00:00",
          "2023-12-10 09:00:00",
          "2023-12-10 12:00:00",
          "2023-12-10 15:00:00",
          "2023-12-10 18:00:00",
          "2023-12-10 21:00:00",
          "2023-12-11 00:00:00",
          "2023-12-11 03:00:00",
          "2023-12-11 06:00:00",
          "2023-12-11 09:00:00",
          "2023-12-11 12:00:00",
          "2023-12-11 15:00:00",
          "2023-12-11 18:00:00",
          "2023-12-11 21:00:00",
          "2023-12-12 00:00:00",
          "2023-12-12 03:00:00",
          "2023-12-12 06:00:00",
          "2023-12-12 09:00:00",
          "2023-12-12 12:00:00",
          "2023-12-12 15:00:00",
          "2023-12-12 18:00:00",
          "2023-12-12 21:00:00",
          "2023-12-13 00:00:00",
          "2023-12-13 03:00:00",
          "2023-12-13 06:00:00",
          "2023-12-13 09:00:00"
         ],
         "y": [
          4.27,
          6.17,
          6.17,
          7.08,
          7.45,
          6.96,
          6.67,
          6.06,
          7.11,
          7.46,
          10.84,
          9.16,
          8.26,
          6.91,
          8.48,
          8.27,
          8.64,
          8.44,
          7.74,
          7.49,
          9.23,
          8.59,
          7.65,
          7.98,
          9.56,
          9.11,
          9.44,
          10.08,
          9.92,
          9.43,
          9.02,
          9.3,
          9.82,
          9.45,
          8.8,
          9.22,
          9.21,
          8.93,
          8.45,
          8.61
         ]
        },
        {
         "line": {
          "color": "orange",
          "dash": "dot",
          "width": 3
         },
         "mode": "lines",
         "name": "Feels like",
         "type": "scatter",
         "x": [
          "2023-12-08 12:00:00",
          "2023-12-08 15:00:00",
          "2023-12-08 18:00:00",
          "2023-12-08 21:00:00",
          "2023-12-09 00:00:00",
          "2023-12-09 03:00:00",
          "2023-12-09 06:00:00",
          "2023-12-09 09:00:00",
          "2023-12-09 12:00:00",
          "2023-12-09 15:00:00",
          "2023-12-09 18:00:00",
          "2023-12-09 21:00:00",
          "2023-12-10 00:00:00",
          "2023-12-10 03:00:00",
          "2023-12-10 06:00:00",
          "2023-12-10 09:00:00",
          "2023-12-10 12:00:00",
          "2023-12-10 15:00:00",
          "2023-12-10 18:00:00",
          "2023-12-10 21:00:00",
          "2023-12-11 00:00:00",
          "2023-12-11 03:00:00",
          "2023-12-11 06:00:00",
          "2023-12-11 09:00:00",
          "2023-12-11 12:00:00",
          "2023-12-11 15:00:00",
          "2023-12-11 18:00:00",
          "2023-12-11 21:00:00",
          "2023-12-12 00:00:00",
          "2023-12-12 03:00:00",
          "2023-12-12 06:00:00",
          "2023-12-12 09:00:00",
          "2023-12-12 12:00:00",
          "2023-12-12 15:00:00",
          "2023-12-12 18:00:00",
          "2023-12-12 21:00:00",
          "2023-12-13 00:00:00",
          "2023-12-13 03:00:00",
          "2023-12-13 06:00:00",
          "2023-12-13 09:00:00"
         ],
         "y": [
          1.97,
          3.91,
          3.6,
          4.01,
          4.35,
          3.68,
          3.18,
          2.19,
          3.11,
          3.29,
          10.28,
          5.27,
          4.04,
          2.09,
          3.9,
          3.86,
          4.84,
          5.06,
          5.57,
          5.06,
          7.09,
          6.12,
          5.54,
          5.9,
          7.27,
          6.86,
          6.62,
          9.42,
          7.57,
          7.42,
          7.03,
          8.17,
          8.56,
          8.53,
          7.35,
          6.97,
          6.85,
          6.86,
          6.34,
          6.59
         ]
        },
        {
         "marker": {
          "color": "gray",
          "line": {
           "color": "gray",
           "width": 1.5
          }
         },
         "name": "Wind speed",
         "opacity": 0.6,
         "type": "bar",
         "x": [
          "2023-12-08 12:00:00",
          "2023-12-08 15:00:00",
          "2023-12-08 18:00:00",
          "2023-12-08 21:00:00",
          "2023-12-09 00:00:00",
          "2023-12-09 03:00:00",
          "2023-12-09 06:00:00",
          "2023-12-09 09:00:00",
          "2023-12-09 12:00:00",
          "2023-12-09 15:00:00",
          "2023-12-09 18:00:00",
          "2023-12-09 21:00:00",
          "2023-12-10 00:00:00",
          "2023-12-10 03:00:00",
          "2023-12-10 06:00:00",
          "2023-12-10 09:00:00",
          "2023-12-10 12:00:00",
          "2023-12-10 15:00:00",
          "2023-12-10 18:00:00",
          "2023-12-10 21:00:00",
          "2023-12-11 00:00:00",
          "2023-12-11 03:00:00",
          "2023-12-11 06:00:00",
          "2023-12-11 09:00:00",
          "2023-12-11 12:00:00",
          "2023-12-11 15:00:00",
          "2023-12-11 18:00:00",
          "2023-12-11 21:00:00",
          "2023-12-12 00:00:00",
          "2023-12-12 03:00:00",
          "2023-12-12 06:00:00",
          "2023-12-12 09:00:00",
          "2023-12-12 12:00:00",
          "2023-12-12 15:00:00",
          "2023-12-12 18:00:00",
          "2023-12-12 21:00:00",
          "2023-12-13 00:00:00",
          "2023-12-13 03:00:00",
          "2023-12-13 06:00:00",
          "2023-12-13 09:00:00"
         ],
         "y": [
          2.58,
          3,
          3.48,
          4.84,
          5.13,
          5.24,
          5.57,
          6.13,
          7.37,
          8.29,
          8.36,
          9.23,
          9.42,
          10.1,
          11.39,
          10.25,
          8.24,
          6.6,
          3.36,
          3.73,
          3.92,
          4.31,
          3.24,
          3.3,
          4.42,
          4.11,
          5.75,
          5.38,
          4.78,
          3.76,
          3.54,
          2.26,
          2.57,
          2.02,
          2.57,
          4.16,
          4.4,
          3.66,
          3.53,
          3.43
         ]
        }
       ],
       "layout": {
        "template": {
         "data": {
          "bar": [
           {
            "error_x": {
             "color": "#2a3f5f"
            },
            "error_y": {
             "color": "#2a3f5f"
            },
            "marker": {
             "line": {
              "color": "#E5ECF6",
              "width": 0.5
             },
             "pattern": {
              "fillmode": "overlay",
              "size": 10,
              "solidity": 0.2
             }
            },
            "type": "bar"
           }
          ],
          "barpolar": [
           {
            "marker": {
             "line": {
              "color": "#E5ECF6",
              "width": 0.5
             },
             "pattern": {
              "fillmode": "overlay",
              "size": 10,
              "solidity": 0.2
             }
            },
            "type": "barpolar"
           }
          ],
          "carpet": [
           {
            "aaxis": {
             "endlinecolor": "#2a3f5f",
             "gridcolor": "white",
             "linecolor": "white",
             "minorgridcolor": "white",
             "startlinecolor": "#2a3f5f"
            },
            "baxis": {
             "endlinecolor": "#2a3f5f",
             "gridcolor": "white",
             "linecolor": "white",
             "minorgridcolor": "white",
             "startlinecolor": "#2a3f5f"
            },
            "type": "carpet"
           }
          ],
          "choropleth": [
           {
            "colorbar": {
             "outlinewidth": 0,
             "ticks": ""
            },
            "type": "choropleth"
           }
          ],
          "contour": [
           {
            "colorbar": {
             "outlinewidth": 0,
             "ticks": ""
            },
            "colorscale": [
             [
              0,
              "#0d0887"
             ],
             [
              0.1111111111111111,
              "#46039f"
             ],
             [
              0.2222222222222222,
              "#7201a8"
             ],
             [
              0.3333333333333333,
              "#9c179e"
             ],
             [
              0.4444444444444444,
              "#bd3786"
             ],
             [
              0.5555555555555556,
              "#d8576b"
             ],
             [
              0.6666666666666666,
              "#ed7953"
             ],
             [
              0.7777777777777778,
              "#fb9f3a"
             ],
             [
              0.8888888888888888,
              "#fdca26"
             ],
             [
              1,
              "#f0f921"
             ]
            ],
            "type": "contour"
           }
          ],
          "contourcarpet": [
           {
            "colorbar": {
             "outlinewidth": 0,
             "ticks": ""
            },
            "type": "contourcarpet"
           }
          ],
          "heatmap": [
           {
            "colorbar": {
             "outlinewidth": 0,
             "ticks": ""
            },
            "colorscale": [
             [
              0,
              "#0d0887"
             ],
             [
              0.1111111111111111,
              "#46039f"
             ],
             [
              0.2222222222222222,
              "#7201a8"
             ],
             [
              0.3333333333333333,
              "#9c179e"
             ],
             [
              0.4444444444444444,
              "#bd3786"
             ],
             [
              0.5555555555555556,
              "#d8576b"
             ],
             [
              0.6666666666666666,
              "#ed7953"
             ],
             [
              0.7777777777777778,
              "#fb9f3a"
             ],
             [
              0.8888888888888888,
              "#fdca26"
             ],
             [
              1,
              "#f0f921"
             ]
            ],
            "type": "heatmap"
           }
          ],
          "heatmapgl": [
           {
            "colorbar": {
             "outlinewidth": 0,
             "ticks": ""
            },
            "colorscale": [
             [
              0,
              "#0d0887"
             ],
             [
              0.1111111111111111,
              "#46039f"
             ],
             [
              0.2222222222222222,
              "#7201a8"
             ],
             [
              0.3333333333333333,
              "#9c179e"
             ],
             [
              0.4444444444444444,
              "#bd3786"
             ],
             [
              0.5555555555555556,
              "#d8576b"
             ],
             [
              0.6666666666666666,
              "#ed7953"
             ],
             [
              0.7777777777777778,
              "#fb9f3a"
             ],
             [
              0.8888888888888888,
              "#fdca26"
             ],
             [
              1,
              "#f0f921"
             ]
            ],
            "type": "heatmapgl"
           }
          ],
          "histogram": [
           {
            "marker": {
             "pattern": {
              "fillmode": "overlay",
              "size": 10,
              "solidity": 0.2
             }
            },
            "type": "histogram"
           }
          ],
          "histogram2d": [
           {
            "colorbar": {
             "outlinewidth": 0,
             "ticks": ""
            },
            "colorscale": [
             [
              0,
              "#0d0887"
             ],
             [
              0.1111111111111111,
              "#46039f"
             ],
             [
              0.2222222222222222,
              "#7201a8"
             ],
             [
              0.3333333333333333,
              "#9c179e"
             ],
             [
              0.4444444444444444,
              "#bd3786"
             ],
             [
              0.5555555555555556,
              "#d8576b"
             ],
             [
              0.6666666666666666,
              "#ed7953"
             ],
             [
              0.7777777777777778,
              "#fb9f3a"
             ],
             [
              0.8888888888888888,
              "#fdca26"
             ],
             [
              1,
              "#f0f921"
             ]
            ],
            "type": "histogram2d"
           }
          ],
          "histogram2dcontour": [
           {
            "colorbar": {
             "outlinewidth": 0,
             "ticks": ""
            },
            "colorscale": [
             [
              0,
              "#0d0887"
             ],
             [
              0.1111111111111111,
              "#46039f"
             ],
             [
              0.2222222222222222,
              "#7201a8"
             ],
             [
              0.3333333333333333,
              "#9c179e"
             ],
             [
              0.4444444444444444,
              "#bd3786"
             ],
             [
              0.5555555555555556,
              "#d8576b"
             ],
             [
              0.6666666666666666,
              "#ed7953"
             ],
             [
              0.7777777777777778,
              "#fb9f3a"
             ],
             [
              0.8888888888888888,
              "#fdca26"
             ],
             [
              1,
              "#f0f921"
             ]
            ],
            "type": "histogram2dcontour"
           }
          ],
          "mesh3d": [
           {
            "colorbar": {
             "outlinewidth": 0,
             "ticks": ""
            },
            "type": "mesh3d"
           }
          ],
          "parcoords": [
           {
            "line": {
             "colorbar": {
              "outlinewidth": 0,
              "ticks": ""
             }
            },
            "type": "parcoords"
           }
          ],
          "pie": [
           {
            "automargin": true,
            "type": "pie"
           }
          ],
          "scatter": [
           {
            "fillpattern": {
             "fillmode": "overlay",
             "size": 10,
             "solidity": 0.2
            },
            "type": "scatter"
           }
          ],
          "scatter3d": [
           {
            "line": {
             "colorbar": {
              "outlinewidth": 0,
              "ticks": ""
             }
            },
            "marker": {
             "colorbar": {
              "outlinewidth": 0,
              "ticks": ""
             }
            },
            "type": "scatter3d"
           }
          ],
          "scattercarpet": [
           {
            "marker": {
             "colorbar": {
              "outlinewidth": 0,
              "ticks": ""
             }
            },
            "type": "scattercarpet"
           }
          ],
          "scattergeo": [
           {
            "marker": {
             "colorbar": {
              "outlinewidth": 0,
              "ticks": ""
             }
            },
            "type": "scattergeo"
           }
          ],
          "scattergl": [
           {
            "marker": {
             "colorbar": {
              "outlinewidth": 0,
              "ticks": ""
             }
            },
            "type": "scattergl"
           }
          ],
          "scattermapbox": [
           {
            "marker": {
             "colorbar": {
              "outlinewidth": 0,
              "ticks": ""
             }
            },
            "type": "scattermapbox"
           }
          ],
          "scatterpolar": [
           {
            "marker": {
             "colorbar": {
              "outlinewidth": 0,
              "ticks": ""
             }
            },
            "type": "scatterpolar"
           }
          ],
          "scatterpolargl": [
           {
            "marker": {
             "colorbar": {
              "outlinewidth": 0,
              "ticks": ""
             }
            },
            "type": "scatterpolargl"
           }
          ],
          "scatterternary": [
           {
            "marker": {
             "colorbar": {
              "outlinewidth": 0,
              "ticks": ""
             }
            },
            "type": "scatterternary"
           }
          ],
          "surface": [
           {
            "colorbar": {
             "outlinewidth": 0,
             "ticks": ""
            },
            "colorscale": [
             [
              0,
              "#0d0887"
             ],
             [
              0.1111111111111111,
              "#46039f"
             ],
             [
              0.2222222222222222,
              "#7201a8"
             ],
             [
              0.3333333333333333,
              "#9c179e"
             ],
             [
              0.4444444444444444,
              "#bd3786"
             ],
             [
              0.5555555555555556,
              "#d8576b"
             ],
             [
              0.6666666666666666,
              "#ed7953"
             ],
             [
              0.7777777777777778,
              "#fb9f3a"
             ],
             [
              0.8888888888888888,
              "#fdca26"
             ],
             [
              1,
              "#f0f921"
             ]
            ],
            "type": "surface"
           }
          ],
          "table": [
           {
            "cells": {
             "fill": {
              "color": "#EBF0F8"
             },
             "line": {
              "color": "white"
             }
            },
            "header": {
             "fill": {
              "color": "#C8D4E3"
             },
             "line": {
              "color": "white"
             }
            },
            "type": "table"
           }
          ]
         },
         "layout": {
          "annotationdefaults": {
           "arrowcolor": "#2a3f5f",
           "arrowhead": 0,
           "arrowwidth": 1
          },
          "autotypenumbers": "strict",
          "coloraxis": {
           "colorbar": {
            "outlinewidth": 0,
            "ticks": ""
           }
          },
          "colorscale": {
           "diverging": [
            [
             0,
             "#8e0152"
            ],
            [
             0.1,
             "#c51b7d"
            ],
            [
             0.2,
             "#de77ae"
            ],
            [
             0.3,
             "#f1b6da"
            ],
            [
             0.4,
             "#fde0ef"
            ],
            [
             0.5,
             "#f7f7f7"
            ],
            [
             0.6,
             "#e6f5d0"
            ],
            [
             0.7,
             "#b8e186"
            ],
            [
             0.8,
             "#7fbc41"
            ],
            [
             0.9,
             "#4d9221"
            ],
            [
             1,
             "#276419"
            ]
           ],
           "sequential": [
            [
             0,
             "#0d0887"
            ],
            [
             0.1111111111111111,
             "#46039f"
            ],
            [
             0.2222222222222222,
             "#7201a8"
            ],
            [
             0.3333333333333333,
             "#9c179e"
            ],
            [
             0.4444444444444444,
             "#bd3786"
            ],
            [
             0.5555555555555556,
             "#d8576b"
            ],
            [
             0.6666666666666666,
             "#ed7953"
            ],
            [
             0.7777777777777778,
             "#fb9f3a"
            ],
            [
             0.8888888888888888,
             "#fdca26"
            ],
            [
             1,
             "#f0f921"
            ]
           ],
           "sequentialminus": [
            [
             0,
             "#0d0887"
            ],
            [
             0.1111111111111111,
             "#46039f"
            ],
            [
             0.2222222222222222,
             "#7201a8"
            ],
            [
             0.3333333333333333,
             "#9c179e"
            ],
            [
             0.4444444444444444,
             "#bd3786"
            ],
            [
             0.5555555555555556,
             "#d8576b"
            ],
            [
             0.6666666666666666,
             "#ed7953"
            ],
            [
             0.7777777777777778,
             "#fb9f3a"
            ],
            [
             0.8888888888888888,
             "#fdca26"
            ],
            [
             1,
             "#f0f921"
            ]
           ]
          },
          "colorway": [
           "#636efa",
           "#EF553B",
           "#00cc96",
           "#ab63fa",
           "#FFA15A",
           "#19d3f3",
           "#FF6692",
           "#B6E880",
           "#FF97FF",
           "#FECB52"
          ],
          "font": {
           "color": "#2a3f5f"
          },
          "geo": {
           "bgcolor": "white",
           "lakecolor": "white",
           "landcolor": "#E5ECF6",
           "showlakes": true,
           "showland": true,
           "subunitcolor": "white"
          },
          "hoverlabel": {
           "align": "left"
          },
          "hovermode": "closest",
          "mapbox": {
           "style": "light"
          },
          "paper_bgcolor": "white",
          "plot_bgcolor": "#E5ECF6",
          "polar": {
           "angularaxis": {
            "gridcolor": "white",
            "linecolor": "white",
            "ticks": ""
           },
           "bgcolor": "#E5ECF6",
           "radialaxis": {
            "gridcolor": "white",
            "linecolor": "white",
            "ticks": ""
           }
          },
          "scene": {
           "xaxis": {
            "backgroundcolor": "#E5ECF6",
            "gridcolor": "white",
            "gridwidth": 2,
            "linecolor": "white",
            "showbackground": true,
            "ticks": "",
            "zerolinecolor": "white"
           },
           "yaxis": {
            "backgroundcolor": "#E5ECF6",
            "gridcolor": "white",
            "gridwidth": 2,
            "linecolor": "white",
            "showbackground": true,
            "ticks": "",
            "zerolinecolor": "white"
           },
           "zaxis": {
            "backgroundcolor": "#E5ECF6",
            "gridcolor": "white",
            "gridwidth": 2,
            "linecolor": "white",
            "showbackground": true,
            "ticks": "",
            "zerolinecolor": "white"
           }
          },
          "shapedefaults": {
           "line": {
            "color": "#2a3f5f"
           }
          },
          "ternary": {
           "aaxis": {
            "gridcolor": "white",
            "linecolor": "white",
            "ticks": ""
           },
           "baxis": {
            "gridcolor": "white",
            "linecolor": "white",
            "ticks": ""
           },
           "bgcolor": "#E5ECF6",
           "caxis": {
            "gridcolor": "white",
            "linecolor": "white",
            "ticks": ""
           }
          },
          "title": {
           "x": 0.05
          },
          "xaxis": {
           "automargin": true,
           "gridcolor": "white",
           "linecolor": "white",
           "ticks": "",
           "title": {
            "standoff": 15
           },
           "zerolinecolor": "white",
           "zerolinewidth": 2
          },
          "yaxis": {
           "automargin": true,
           "gridcolor": "white",
           "linecolor": "white",
           "ticks": "",
           "title": {
            "standoff": 15
           },
           "zerolinecolor": "white",
           "zerolinewidth": 2
          }
         }
        }
       }
      }
     },
     "metadata": {},
     "output_type": "display_data"
    }
   ],
   "source": [
    "# add the wind speed\n",
    "fig.add_trace(go.Bar(x=weather_df['date'], y=weather_df['wind_speed'],\n",
    "                    name='Wind speed',\n",
    "                    marker=dict(\n",
    "                    color='gray',\n",
    "                    line=dict(\n",
    "                         color='gray',\n",
    "                         width=1.5),\n",
    "                       ),\n",
    "                       opacity=0.6))"
   ]
  },
  {
   "cell_type": "code",
   "execution_count": 85,
   "metadata": {},
   "outputs": [
    {
     "data": {
      "application/vnd.plotly.v1+json": {
       "config": {
        "plotlyServerURL": "https://plot.ly"
       },
       "data": [
        {
         "line": {
          "color": "royalblue",
          "width": 6
         },
         "mode": "lines",
         "name": "Temperature",
         "type": "scatter",
         "x": [
          "2023-12-08 12:00:00",
          "2023-12-08 15:00:00",
          "2023-12-08 18:00:00",
          "2023-12-08 21:00:00",
          "2023-12-09 00:00:00",
          "2023-12-09 03:00:00",
          "2023-12-09 06:00:00",
          "2023-12-09 09:00:00",
          "2023-12-09 12:00:00",
          "2023-12-09 15:00:00",
          "2023-12-09 18:00:00",
          "2023-12-09 21:00:00",
          "2023-12-10 00:00:00",
          "2023-12-10 03:00:00",
          "2023-12-10 06:00:00",
          "2023-12-10 09:00:00",
          "2023-12-10 12:00:00",
          "2023-12-10 15:00:00",
          "2023-12-10 18:00:00",
          "2023-12-10 21:00:00",
          "2023-12-11 00:00:00",
          "2023-12-11 03:00:00",
          "2023-12-11 06:00:00",
          "2023-12-11 09:00:00",
          "2023-12-11 12:00:00",
          "2023-12-11 15:00:00",
          "2023-12-11 18:00:00",
          "2023-12-11 21:00:00",
          "2023-12-12 00:00:00",
          "2023-12-12 03:00:00",
          "2023-12-12 06:00:00",
          "2023-12-12 09:00:00",
          "2023-12-12 12:00:00",
          "2023-12-12 15:00:00",
          "2023-12-12 18:00:00",
          "2023-12-12 21:00:00",
          "2023-12-13 00:00:00",
          "2023-12-13 03:00:00",
          "2023-12-13 06:00:00",
          "2023-12-13 09:00:00"
         ],
         "y": [
          4.27,
          6.17,
          6.17,
          7.08,
          7.45,
          6.96,
          6.67,
          6.06,
          7.11,
          7.46,
          10.84,
          9.16,
          8.26,
          6.91,
          8.48,
          8.27,
          8.64,
          8.44,
          7.74,
          7.49,
          9.23,
          8.59,
          7.65,
          7.98,
          9.56,
          9.11,
          9.44,
          10.08,
          9.92,
          9.43,
          9.02,
          9.3,
          9.82,
          9.45,
          8.8,
          9.22,
          9.21,
          8.93,
          8.45,
          8.61
         ]
        },
        {
         "line": {
          "color": "orange",
          "dash": "dot",
          "width": 3
         },
         "mode": "lines",
         "name": "Feels like",
         "type": "scatter",
         "x": [
          "2023-12-08 12:00:00",
          "2023-12-08 15:00:00",
          "2023-12-08 18:00:00",
          "2023-12-08 21:00:00",
          "2023-12-09 00:00:00",
          "2023-12-09 03:00:00",
          "2023-12-09 06:00:00",
          "2023-12-09 09:00:00",
          "2023-12-09 12:00:00",
          "2023-12-09 15:00:00",
          "2023-12-09 18:00:00",
          "2023-12-09 21:00:00",
          "2023-12-10 00:00:00",
          "2023-12-10 03:00:00",
          "2023-12-10 06:00:00",
          "2023-12-10 09:00:00",
          "2023-12-10 12:00:00",
          "2023-12-10 15:00:00",
          "2023-12-10 18:00:00",
          "2023-12-10 21:00:00",
          "2023-12-11 00:00:00",
          "2023-12-11 03:00:00",
          "2023-12-11 06:00:00",
          "2023-12-11 09:00:00",
          "2023-12-11 12:00:00",
          "2023-12-11 15:00:00",
          "2023-12-11 18:00:00",
          "2023-12-11 21:00:00",
          "2023-12-12 00:00:00",
          "2023-12-12 03:00:00",
          "2023-12-12 06:00:00",
          "2023-12-12 09:00:00",
          "2023-12-12 12:00:00",
          "2023-12-12 15:00:00",
          "2023-12-12 18:00:00",
          "2023-12-12 21:00:00",
          "2023-12-13 00:00:00",
          "2023-12-13 03:00:00",
          "2023-12-13 06:00:00",
          "2023-12-13 09:00:00"
         ],
         "y": [
          1.97,
          3.91,
          3.6,
          4.01,
          4.35,
          3.68,
          3.18,
          2.19,
          3.11,
          3.29,
          10.28,
          5.27,
          4.04,
          2.09,
          3.9,
          3.86,
          4.84,
          5.06,
          5.57,
          5.06,
          7.09,
          6.12,
          5.54,
          5.9,
          7.27,
          6.86,
          6.62,
          9.42,
          7.57,
          7.42,
          7.03,
          8.17,
          8.56,
          8.53,
          7.35,
          6.97,
          6.85,
          6.86,
          6.34,
          6.59
         ]
        },
        {
         "marker": {
          "color": "gray",
          "line": {
           "color": "gray",
           "width": 1.5
          }
         },
         "name": "Wind speed",
         "opacity": 0.6,
         "type": "bar",
         "x": [
          "2023-12-08 12:00:00",
          "2023-12-08 15:00:00",
          "2023-12-08 18:00:00",
          "2023-12-08 21:00:00",
          "2023-12-09 00:00:00",
          "2023-12-09 03:00:00",
          "2023-12-09 06:00:00",
          "2023-12-09 09:00:00",
          "2023-12-09 12:00:00",
          "2023-12-09 15:00:00",
          "2023-12-09 18:00:00",
          "2023-12-09 21:00:00",
          "2023-12-10 00:00:00",
          "2023-12-10 03:00:00",
          "2023-12-10 06:00:00",
          "2023-12-10 09:00:00",
          "2023-12-10 12:00:00",
          "2023-12-10 15:00:00",
          "2023-12-10 18:00:00",
          "2023-12-10 21:00:00",
          "2023-12-11 00:00:00",
          "2023-12-11 03:00:00",
          "2023-12-11 06:00:00",
          "2023-12-11 09:00:00",
          "2023-12-11 12:00:00",
          "2023-12-11 15:00:00",
          "2023-12-11 18:00:00",
          "2023-12-11 21:00:00",
          "2023-12-12 00:00:00",
          "2023-12-12 03:00:00",
          "2023-12-12 06:00:00",
          "2023-12-12 09:00:00",
          "2023-12-12 12:00:00",
          "2023-12-12 15:00:00",
          "2023-12-12 18:00:00",
          "2023-12-12 21:00:00",
          "2023-12-13 00:00:00",
          "2023-12-13 03:00:00",
          "2023-12-13 06:00:00",
          "2023-12-13 09:00:00"
         ],
         "y": [
          2.58,
          3,
          3.48,
          4.84,
          5.13,
          5.24,
          5.57,
          6.13,
          7.37,
          8.29,
          8.36,
          9.23,
          9.42,
          10.1,
          11.39,
          10.25,
          8.24,
          6.6,
          3.36,
          3.73,
          3.92,
          4.31,
          3.24,
          3.3,
          4.42,
          4.11,
          5.75,
          5.38,
          4.78,
          3.76,
          3.54,
          2.26,
          2.57,
          2.02,
          2.57,
          4.16,
          4.4,
          3.66,
          3.53,
          3.43
         ]
        },
        {
         "marker": {
          "color": "rgb(158,202,225)",
          "line": {
           "color": "rgb(8,48,107)",
           "width": 1.5
          }
         },
         "name": "Rain (mm)",
         "opacity": 0.6,
         "text": [
          0,
          0,
          0,
          0,
          0,
          0.13,
          0,
          0,
          1.79,
          3.56,
          1.82,
          0.16,
          0.22,
          1.18,
          2.78,
          0.22,
          0,
          0,
          1.69,
          0.88,
          0,
          0,
          0,
          0,
          0,
          0.92,
          0.51,
          0.13,
          0.15,
          0.15,
          0,
          0,
          0.13,
          1.83,
          0.29,
          0.82,
          2.02,
          0.78,
          1.32,
          0.36
         ],
         "type": "bar",
         "x": [
          "2023-12-08 12:00:00",
          "2023-12-08 15:00:00",
          "2023-12-08 18:00:00",
          "2023-12-08 21:00:00",
          "2023-12-09 00:00:00",
          "2023-12-09 03:00:00",
          "2023-12-09 06:00:00",
          "2023-12-09 09:00:00",
          "2023-12-09 12:00:00",
          "2023-12-09 15:00:00",
          "2023-12-09 18:00:00",
          "2023-12-09 21:00:00",
          "2023-12-10 00:00:00",
          "2023-12-10 03:00:00",
          "2023-12-10 06:00:00",
          "2023-12-10 09:00:00",
          "2023-12-10 12:00:00",
          "2023-12-10 15:00:00",
          "2023-12-10 18:00:00",
          "2023-12-10 21:00:00",
          "2023-12-11 00:00:00",
          "2023-12-11 03:00:00",
          "2023-12-11 06:00:00",
          "2023-12-11 09:00:00",
          "2023-12-11 12:00:00",
          "2023-12-11 15:00:00",
          "2023-12-11 18:00:00",
          "2023-12-11 21:00:00",
          "2023-12-12 00:00:00",
          "2023-12-12 03:00:00",
          "2023-12-12 06:00:00",
          "2023-12-12 09:00:00",
          "2023-12-12 12:00:00",
          "2023-12-12 15:00:00",
          "2023-12-12 18:00:00",
          "2023-12-12 21:00:00",
          "2023-12-13 00:00:00",
          "2023-12-13 03:00:00",
          "2023-12-13 06:00:00",
          "2023-12-13 09:00:00"
         ],
         "y": [
          0,
          0,
          0,
          0,
          0,
          0.13,
          0,
          0,
          1.79,
          3.56,
          1.82,
          0.16,
          0.22,
          1.18,
          2.78,
          0.22,
          0,
          0,
          1.69,
          0.88,
          0,
          0,
          0,
          0,
          0,
          0.92,
          0.51,
          0.13,
          0.15,
          0.15,
          0,
          0,
          0.13,
          1.83,
          0.29,
          0.82,
          2.02,
          0.78,
          1.32,
          0.36
         ]
        }
       ],
       "layout": {
        "template": {
         "data": {
          "bar": [
           {
            "error_x": {
             "color": "#2a3f5f"
            },
            "error_y": {
             "color": "#2a3f5f"
            },
            "marker": {
             "line": {
              "color": "#E5ECF6",
              "width": 0.5
             },
             "pattern": {
              "fillmode": "overlay",
              "size": 10,
              "solidity": 0.2
             }
            },
            "type": "bar"
           }
          ],
          "barpolar": [
           {
            "marker": {
             "line": {
              "color": "#E5ECF6",
              "width": 0.5
             },
             "pattern": {
              "fillmode": "overlay",
              "size": 10,
              "solidity": 0.2
             }
            },
            "type": "barpolar"
           }
          ],
          "carpet": [
           {
            "aaxis": {
             "endlinecolor": "#2a3f5f",
             "gridcolor": "white",
             "linecolor": "white",
             "minorgridcolor": "white",
             "startlinecolor": "#2a3f5f"
            },
            "baxis": {
             "endlinecolor": "#2a3f5f",
             "gridcolor": "white",
             "linecolor": "white",
             "minorgridcolor": "white",
             "startlinecolor": "#2a3f5f"
            },
            "type": "carpet"
           }
          ],
          "choropleth": [
           {
            "colorbar": {
             "outlinewidth": 0,
             "ticks": ""
            },
            "type": "choropleth"
           }
          ],
          "contour": [
           {
            "colorbar": {
             "outlinewidth": 0,
             "ticks": ""
            },
            "colorscale": [
             [
              0,
              "#0d0887"
             ],
             [
              0.1111111111111111,
              "#46039f"
             ],
             [
              0.2222222222222222,
              "#7201a8"
             ],
             [
              0.3333333333333333,
              "#9c179e"
             ],
             [
              0.4444444444444444,
              "#bd3786"
             ],
             [
              0.5555555555555556,
              "#d8576b"
             ],
             [
              0.6666666666666666,
              "#ed7953"
             ],
             [
              0.7777777777777778,
              "#fb9f3a"
             ],
             [
              0.8888888888888888,
              "#fdca26"
             ],
             [
              1,
              "#f0f921"
             ]
            ],
            "type": "contour"
           }
          ],
          "contourcarpet": [
           {
            "colorbar": {
             "outlinewidth": 0,
             "ticks": ""
            },
            "type": "contourcarpet"
           }
          ],
          "heatmap": [
           {
            "colorbar": {
             "outlinewidth": 0,
             "ticks": ""
            },
            "colorscale": [
             [
              0,
              "#0d0887"
             ],
             [
              0.1111111111111111,
              "#46039f"
             ],
             [
              0.2222222222222222,
              "#7201a8"
             ],
             [
              0.3333333333333333,
              "#9c179e"
             ],
             [
              0.4444444444444444,
              "#bd3786"
             ],
             [
              0.5555555555555556,
              "#d8576b"
             ],
             [
              0.6666666666666666,
              "#ed7953"
             ],
             [
              0.7777777777777778,
              "#fb9f3a"
             ],
             [
              0.8888888888888888,
              "#fdca26"
             ],
             [
              1,
              "#f0f921"
             ]
            ],
            "type": "heatmap"
           }
          ],
          "heatmapgl": [
           {
            "colorbar": {
             "outlinewidth": 0,
             "ticks": ""
            },
            "colorscale": [
             [
              0,
              "#0d0887"
             ],
             [
              0.1111111111111111,
              "#46039f"
             ],
             [
              0.2222222222222222,
              "#7201a8"
             ],
             [
              0.3333333333333333,
              "#9c179e"
             ],
             [
              0.4444444444444444,
              "#bd3786"
             ],
             [
              0.5555555555555556,
              "#d8576b"
             ],
             [
              0.6666666666666666,
              "#ed7953"
             ],
             [
              0.7777777777777778,
              "#fb9f3a"
             ],
             [
              0.8888888888888888,
              "#fdca26"
             ],
             [
              1,
              "#f0f921"
             ]
            ],
            "type": "heatmapgl"
           }
          ],
          "histogram": [
           {
            "marker": {
             "pattern": {
              "fillmode": "overlay",
              "size": 10,
              "solidity": 0.2
             }
            },
            "type": "histogram"
           }
          ],
          "histogram2d": [
           {
            "colorbar": {
             "outlinewidth": 0,
             "ticks": ""
            },
            "colorscale": [
             [
              0,
              "#0d0887"
             ],
             [
              0.1111111111111111,
              "#46039f"
             ],
             [
              0.2222222222222222,
              "#7201a8"
             ],
             [
              0.3333333333333333,
              "#9c179e"
             ],
             [
              0.4444444444444444,
              "#bd3786"
             ],
             [
              0.5555555555555556,
              "#d8576b"
             ],
             [
              0.6666666666666666,
              "#ed7953"
             ],
             [
              0.7777777777777778,
              "#fb9f3a"
             ],
             [
              0.8888888888888888,
              "#fdca26"
             ],
             [
              1,
              "#f0f921"
             ]
            ],
            "type": "histogram2d"
           }
          ],
          "histogram2dcontour": [
           {
            "colorbar": {
             "outlinewidth": 0,
             "ticks": ""
            },
            "colorscale": [
             [
              0,
              "#0d0887"
             ],
             [
              0.1111111111111111,
              "#46039f"
             ],
             [
              0.2222222222222222,
              "#7201a8"
             ],
             [
              0.3333333333333333,
              "#9c179e"
             ],
             [
              0.4444444444444444,
              "#bd3786"
             ],
             [
              0.5555555555555556,
              "#d8576b"
             ],
             [
              0.6666666666666666,
              "#ed7953"
             ],
             [
              0.7777777777777778,
              "#fb9f3a"
             ],
             [
              0.8888888888888888,
              "#fdca26"
             ],
             [
              1,
              "#f0f921"
             ]
            ],
            "type": "histogram2dcontour"
           }
          ],
          "mesh3d": [
           {
            "colorbar": {
             "outlinewidth": 0,
             "ticks": ""
            },
            "type": "mesh3d"
           }
          ],
          "parcoords": [
           {
            "line": {
             "colorbar": {
              "outlinewidth": 0,
              "ticks": ""
             }
            },
            "type": "parcoords"
           }
          ],
          "pie": [
           {
            "automargin": true,
            "type": "pie"
           }
          ],
          "scatter": [
           {
            "fillpattern": {
             "fillmode": "overlay",
             "size": 10,
             "solidity": 0.2
            },
            "type": "scatter"
           }
          ],
          "scatter3d": [
           {
            "line": {
             "colorbar": {
              "outlinewidth": 0,
              "ticks": ""
             }
            },
            "marker": {
             "colorbar": {
              "outlinewidth": 0,
              "ticks": ""
             }
            },
            "type": "scatter3d"
           }
          ],
          "scattercarpet": [
           {
            "marker": {
             "colorbar": {
              "outlinewidth": 0,
              "ticks": ""
             }
            },
            "type": "scattercarpet"
           }
          ],
          "scattergeo": [
           {
            "marker": {
             "colorbar": {
              "outlinewidth": 0,
              "ticks": ""
             }
            },
            "type": "scattergeo"
           }
          ],
          "scattergl": [
           {
            "marker": {
             "colorbar": {
              "outlinewidth": 0,
              "ticks": ""
             }
            },
            "type": "scattergl"
           }
          ],
          "scattermapbox": [
           {
            "marker": {
             "colorbar": {
              "outlinewidth": 0,
              "ticks": ""
             }
            },
            "type": "scattermapbox"
           }
          ],
          "scatterpolar": [
           {
            "marker": {
             "colorbar": {
              "outlinewidth": 0,
              "ticks": ""
             }
            },
            "type": "scatterpolar"
           }
          ],
          "scatterpolargl": [
           {
            "marker": {
             "colorbar": {
              "outlinewidth": 0,
              "ticks": ""
             }
            },
            "type": "scatterpolargl"
           }
          ],
          "scatterternary": [
           {
            "marker": {
             "colorbar": {
              "outlinewidth": 0,
              "ticks": ""
             }
            },
            "type": "scatterternary"
           }
          ],
          "surface": [
           {
            "colorbar": {
             "outlinewidth": 0,
             "ticks": ""
            },
            "colorscale": [
             [
              0,
              "#0d0887"
             ],
             [
              0.1111111111111111,
              "#46039f"
             ],
             [
              0.2222222222222222,
              "#7201a8"
             ],
             [
              0.3333333333333333,
              "#9c179e"
             ],
             [
              0.4444444444444444,
              "#bd3786"
             ],
             [
              0.5555555555555556,
              "#d8576b"
             ],
             [
              0.6666666666666666,
              "#ed7953"
             ],
             [
              0.7777777777777778,
              "#fb9f3a"
             ],
             [
              0.8888888888888888,
              "#fdca26"
             ],
             [
              1,
              "#f0f921"
             ]
            ],
            "type": "surface"
           }
          ],
          "table": [
           {
            "cells": {
             "fill": {
              "color": "#EBF0F8"
             },
             "line": {
              "color": "white"
             }
            },
            "header": {
             "fill": {
              "color": "#C8D4E3"
             },
             "line": {
              "color": "white"
             }
            },
            "type": "table"
           }
          ]
         },
         "layout": {
          "annotationdefaults": {
           "arrowcolor": "#2a3f5f",
           "arrowhead": 0,
           "arrowwidth": 1
          },
          "autotypenumbers": "strict",
          "coloraxis": {
           "colorbar": {
            "outlinewidth": 0,
            "ticks": ""
           }
          },
          "colorscale": {
           "diverging": [
            [
             0,
             "#8e0152"
            ],
            [
             0.1,
             "#c51b7d"
            ],
            [
             0.2,
             "#de77ae"
            ],
            [
             0.3,
             "#f1b6da"
            ],
            [
             0.4,
             "#fde0ef"
            ],
            [
             0.5,
             "#f7f7f7"
            ],
            [
             0.6,
             "#e6f5d0"
            ],
            [
             0.7,
             "#b8e186"
            ],
            [
             0.8,
             "#7fbc41"
            ],
            [
             0.9,
             "#4d9221"
            ],
            [
             1,
             "#276419"
            ]
           ],
           "sequential": [
            [
             0,
             "#0d0887"
            ],
            [
             0.1111111111111111,
             "#46039f"
            ],
            [
             0.2222222222222222,
             "#7201a8"
            ],
            [
             0.3333333333333333,
             "#9c179e"
            ],
            [
             0.4444444444444444,
             "#bd3786"
            ],
            [
             0.5555555555555556,
             "#d8576b"
            ],
            [
             0.6666666666666666,
             "#ed7953"
            ],
            [
             0.7777777777777778,
             "#fb9f3a"
            ],
            [
             0.8888888888888888,
             "#fdca26"
            ],
            [
             1,
             "#f0f921"
            ]
           ],
           "sequentialminus": [
            [
             0,
             "#0d0887"
            ],
            [
             0.1111111111111111,
             "#46039f"
            ],
            [
             0.2222222222222222,
             "#7201a8"
            ],
            [
             0.3333333333333333,
             "#9c179e"
            ],
            [
             0.4444444444444444,
             "#bd3786"
            ],
            [
             0.5555555555555556,
             "#d8576b"
            ],
            [
             0.6666666666666666,
             "#ed7953"
            ],
            [
             0.7777777777777778,
             "#fb9f3a"
            ],
            [
             0.8888888888888888,
             "#fdca26"
            ],
            [
             1,
             "#f0f921"
            ]
           ]
          },
          "colorway": [
           "#636efa",
           "#EF553B",
           "#00cc96",
           "#ab63fa",
           "#FFA15A",
           "#19d3f3",
           "#FF6692",
           "#B6E880",
           "#FF97FF",
           "#FECB52"
          ],
          "font": {
           "color": "#2a3f5f"
          },
          "geo": {
           "bgcolor": "white",
           "lakecolor": "white",
           "landcolor": "#E5ECF6",
           "showlakes": true,
           "showland": true,
           "subunitcolor": "white"
          },
          "hoverlabel": {
           "align": "left"
          },
          "hovermode": "closest",
          "mapbox": {
           "style": "light"
          },
          "paper_bgcolor": "white",
          "plot_bgcolor": "#E5ECF6",
          "polar": {
           "angularaxis": {
            "gridcolor": "white",
            "linecolor": "white",
            "ticks": ""
           },
           "bgcolor": "#E5ECF6",
           "radialaxis": {
            "gridcolor": "white",
            "linecolor": "white",
            "ticks": ""
           }
          },
          "scene": {
           "xaxis": {
            "backgroundcolor": "#E5ECF6",
            "gridcolor": "white",
            "gridwidth": 2,
            "linecolor": "white",
            "showbackground": true,
            "ticks": "",
            "zerolinecolor": "white"
           },
           "yaxis": {
            "backgroundcolor": "#E5ECF6",
            "gridcolor": "white",
            "gridwidth": 2,
            "linecolor": "white",
            "showbackground": true,
            "ticks": "",
            "zerolinecolor": "white"
           },
           "zaxis": {
            "backgroundcolor": "#E5ECF6",
            "gridcolor": "white",
            "gridwidth": 2,
            "linecolor": "white",
            "showbackground": true,
            "ticks": "",
            "zerolinecolor": "white"
           }
          },
          "shapedefaults": {
           "line": {
            "color": "#2a3f5f"
           }
          },
          "ternary": {
           "aaxis": {
            "gridcolor": "white",
            "linecolor": "white",
            "ticks": ""
           },
           "baxis": {
            "gridcolor": "white",
            "linecolor": "white",
            "ticks": ""
           },
           "bgcolor": "#E5ECF6",
           "caxis": {
            "gridcolor": "white",
            "linecolor": "white",
            "ticks": ""
           }
          },
          "title": {
           "x": 0.05
          },
          "xaxis": {
           "automargin": true,
           "gridcolor": "white",
           "linecolor": "white",
           "ticks": "",
           "title": {
            "standoff": 15
           },
           "zerolinecolor": "white",
           "zerolinewidth": 2
          },
          "yaxis": {
           "automargin": true,
           "gridcolor": "white",
           "linecolor": "white",
           "ticks": "",
           "title": {
            "standoff": 15
           },
           "zerolinecolor": "white",
           "zerolinewidth": 2
          }
         }
        }
       }
      }
     },
     "metadata": {},
     "output_type": "display_data"
    }
   ],
   "source": [
    "# add the rain\n",
    "fig.add_trace(go.Bar(x=weather_df['date'], y=weather_df['rain_mm'], \n",
    "                     name='Rain (mm)',\n",
    "                     text=weather_df['rain_mm'],\n",
    "                     marker=dict(\n",
    "                     color='rgb(158,202,225)',\n",
    "                     line=dict(\n",
    "                         color='rgb(8,48,107)',\n",
    "                         width=1.5),\n",
    "                       ),\n",
    "                       opacity=0.6))"
   ]
  },
  {
   "cell_type": "code",
   "execution_count": 86,
   "metadata": {},
   "outputs": [
    {
     "data": {
      "application/vnd.plotly.v1+json": {
       "config": {
        "plotlyServerURL": "https://plot.ly"
       },
       "data": [
        {
         "line": {
          "color": "royalblue",
          "width": 6
         },
         "mode": "lines",
         "name": "Temperature",
         "type": "scatter",
         "x": [
          "2023-12-08 12:00:00",
          "2023-12-08 15:00:00",
          "2023-12-08 18:00:00",
          "2023-12-08 21:00:00",
          "2023-12-09 00:00:00",
          "2023-12-09 03:00:00",
          "2023-12-09 06:00:00",
          "2023-12-09 09:00:00",
          "2023-12-09 12:00:00",
          "2023-12-09 15:00:00",
          "2023-12-09 18:00:00",
          "2023-12-09 21:00:00",
          "2023-12-10 00:00:00",
          "2023-12-10 03:00:00",
          "2023-12-10 06:00:00",
          "2023-12-10 09:00:00",
          "2023-12-10 12:00:00",
          "2023-12-10 15:00:00",
          "2023-12-10 18:00:00",
          "2023-12-10 21:00:00",
          "2023-12-11 00:00:00",
          "2023-12-11 03:00:00",
          "2023-12-11 06:00:00",
          "2023-12-11 09:00:00",
          "2023-12-11 12:00:00",
          "2023-12-11 15:00:00",
          "2023-12-11 18:00:00",
          "2023-12-11 21:00:00",
          "2023-12-12 00:00:00",
          "2023-12-12 03:00:00",
          "2023-12-12 06:00:00",
          "2023-12-12 09:00:00",
          "2023-12-12 12:00:00",
          "2023-12-12 15:00:00",
          "2023-12-12 18:00:00",
          "2023-12-12 21:00:00",
          "2023-12-13 00:00:00",
          "2023-12-13 03:00:00",
          "2023-12-13 06:00:00",
          "2023-12-13 09:00:00"
         ],
         "y": [
          4.27,
          6.17,
          6.17,
          7.08,
          7.45,
          6.96,
          6.67,
          6.06,
          7.11,
          7.46,
          10.84,
          9.16,
          8.26,
          6.91,
          8.48,
          8.27,
          8.64,
          8.44,
          7.74,
          7.49,
          9.23,
          8.59,
          7.65,
          7.98,
          9.56,
          9.11,
          9.44,
          10.08,
          9.92,
          9.43,
          9.02,
          9.3,
          9.82,
          9.45,
          8.8,
          9.22,
          9.21,
          8.93,
          8.45,
          8.61
         ]
        },
        {
         "line": {
          "color": "orange",
          "dash": "dot",
          "width": 3
         },
         "mode": "lines",
         "name": "Feels like",
         "type": "scatter",
         "x": [
          "2023-12-08 12:00:00",
          "2023-12-08 15:00:00",
          "2023-12-08 18:00:00",
          "2023-12-08 21:00:00",
          "2023-12-09 00:00:00",
          "2023-12-09 03:00:00",
          "2023-12-09 06:00:00",
          "2023-12-09 09:00:00",
          "2023-12-09 12:00:00",
          "2023-12-09 15:00:00",
          "2023-12-09 18:00:00",
          "2023-12-09 21:00:00",
          "2023-12-10 00:00:00",
          "2023-12-10 03:00:00",
          "2023-12-10 06:00:00",
          "2023-12-10 09:00:00",
          "2023-12-10 12:00:00",
          "2023-12-10 15:00:00",
          "2023-12-10 18:00:00",
          "2023-12-10 21:00:00",
          "2023-12-11 00:00:00",
          "2023-12-11 03:00:00",
          "2023-12-11 06:00:00",
          "2023-12-11 09:00:00",
          "2023-12-11 12:00:00",
          "2023-12-11 15:00:00",
          "2023-12-11 18:00:00",
          "2023-12-11 21:00:00",
          "2023-12-12 00:00:00",
          "2023-12-12 03:00:00",
          "2023-12-12 06:00:00",
          "2023-12-12 09:00:00",
          "2023-12-12 12:00:00",
          "2023-12-12 15:00:00",
          "2023-12-12 18:00:00",
          "2023-12-12 21:00:00",
          "2023-12-13 00:00:00",
          "2023-12-13 03:00:00",
          "2023-12-13 06:00:00",
          "2023-12-13 09:00:00"
         ],
         "y": [
          1.97,
          3.91,
          3.6,
          4.01,
          4.35,
          3.68,
          3.18,
          2.19,
          3.11,
          3.29,
          10.28,
          5.27,
          4.04,
          2.09,
          3.9,
          3.86,
          4.84,
          5.06,
          5.57,
          5.06,
          7.09,
          6.12,
          5.54,
          5.9,
          7.27,
          6.86,
          6.62,
          9.42,
          7.57,
          7.42,
          7.03,
          8.17,
          8.56,
          8.53,
          7.35,
          6.97,
          6.85,
          6.86,
          6.34,
          6.59
         ]
        },
        {
         "marker": {
          "color": "gray",
          "line": {
           "color": "gray",
           "width": 1.5
          }
         },
         "name": "Wind speed",
         "opacity": 0.6,
         "type": "bar",
         "x": [
          "2023-12-08 12:00:00",
          "2023-12-08 15:00:00",
          "2023-12-08 18:00:00",
          "2023-12-08 21:00:00",
          "2023-12-09 00:00:00",
          "2023-12-09 03:00:00",
          "2023-12-09 06:00:00",
          "2023-12-09 09:00:00",
          "2023-12-09 12:00:00",
          "2023-12-09 15:00:00",
          "2023-12-09 18:00:00",
          "2023-12-09 21:00:00",
          "2023-12-10 00:00:00",
          "2023-12-10 03:00:00",
          "2023-12-10 06:00:00",
          "2023-12-10 09:00:00",
          "2023-12-10 12:00:00",
          "2023-12-10 15:00:00",
          "2023-12-10 18:00:00",
          "2023-12-10 21:00:00",
          "2023-12-11 00:00:00",
          "2023-12-11 03:00:00",
          "2023-12-11 06:00:00",
          "2023-12-11 09:00:00",
          "2023-12-11 12:00:00",
          "2023-12-11 15:00:00",
          "2023-12-11 18:00:00",
          "2023-12-11 21:00:00",
          "2023-12-12 00:00:00",
          "2023-12-12 03:00:00",
          "2023-12-12 06:00:00",
          "2023-12-12 09:00:00",
          "2023-12-12 12:00:00",
          "2023-12-12 15:00:00",
          "2023-12-12 18:00:00",
          "2023-12-12 21:00:00",
          "2023-12-13 00:00:00",
          "2023-12-13 03:00:00",
          "2023-12-13 06:00:00",
          "2023-12-13 09:00:00"
         ],
         "y": [
          2.58,
          3,
          3.48,
          4.84,
          5.13,
          5.24,
          5.57,
          6.13,
          7.37,
          8.29,
          8.36,
          9.23,
          9.42,
          10.1,
          11.39,
          10.25,
          8.24,
          6.6,
          3.36,
          3.73,
          3.92,
          4.31,
          3.24,
          3.3,
          4.42,
          4.11,
          5.75,
          5.38,
          4.78,
          3.76,
          3.54,
          2.26,
          2.57,
          2.02,
          2.57,
          4.16,
          4.4,
          3.66,
          3.53,
          3.43
         ]
        },
        {
         "marker": {
          "color": "rgb(158,202,225)",
          "line": {
           "color": "rgb(8,48,107)",
           "width": 1.5
          }
         },
         "name": "Rain (mm)",
         "opacity": 0.6,
         "text": [
          0,
          0,
          0,
          0,
          0,
          0.13,
          0,
          0,
          1.79,
          3.56,
          1.82,
          0.16,
          0.22,
          1.18,
          2.78,
          0.22,
          0,
          0,
          1.69,
          0.88,
          0,
          0,
          0,
          0,
          0,
          0.92,
          0.51,
          0.13,
          0.15,
          0.15,
          0,
          0,
          0.13,
          1.83,
          0.29,
          0.82,
          2.02,
          0.78,
          1.32,
          0.36
         ],
         "type": "bar",
         "x": [
          "2023-12-08 12:00:00",
          "2023-12-08 15:00:00",
          "2023-12-08 18:00:00",
          "2023-12-08 21:00:00",
          "2023-12-09 00:00:00",
          "2023-12-09 03:00:00",
          "2023-12-09 06:00:00",
          "2023-12-09 09:00:00",
          "2023-12-09 12:00:00",
          "2023-12-09 15:00:00",
          "2023-12-09 18:00:00",
          "2023-12-09 21:00:00",
          "2023-12-10 00:00:00",
          "2023-12-10 03:00:00",
          "2023-12-10 06:00:00",
          "2023-12-10 09:00:00",
          "2023-12-10 12:00:00",
          "2023-12-10 15:00:00",
          "2023-12-10 18:00:00",
          "2023-12-10 21:00:00",
          "2023-12-11 00:00:00",
          "2023-12-11 03:00:00",
          "2023-12-11 06:00:00",
          "2023-12-11 09:00:00",
          "2023-12-11 12:00:00",
          "2023-12-11 15:00:00",
          "2023-12-11 18:00:00",
          "2023-12-11 21:00:00",
          "2023-12-12 00:00:00",
          "2023-12-12 03:00:00",
          "2023-12-12 06:00:00",
          "2023-12-12 09:00:00",
          "2023-12-12 12:00:00",
          "2023-12-12 15:00:00",
          "2023-12-12 18:00:00",
          "2023-12-12 21:00:00",
          "2023-12-13 00:00:00",
          "2023-12-13 03:00:00",
          "2023-12-13 06:00:00",
          "2023-12-13 09:00:00"
         ],
         "y": [
          0,
          0,
          0,
          0,
          0,
          0.13,
          0,
          0,
          1.79,
          3.56,
          1.82,
          0.16,
          0.22,
          1.18,
          2.78,
          0.22,
          0,
          0,
          1.69,
          0.88,
          0,
          0,
          0,
          0,
          0,
          0.92,
          0.51,
          0.13,
          0.15,
          0.15,
          0,
          0,
          0.13,
          1.83,
          0.29,
          0.82,
          2.02,
          0.78,
          1.32,
          0.36
         ]
        }
       ],
       "layout": {
        "font": {
         "color": "#7f7f7f",
         "family": "Arial",
         "size": 18
        },
        "template": {
         "data": {
          "bar": [
           {
            "error_x": {
             "color": "#2a3f5f"
            },
            "error_y": {
             "color": "#2a3f5f"
            },
            "marker": {
             "line": {
              "color": "#E5ECF6",
              "width": 0.5
             },
             "pattern": {
              "fillmode": "overlay",
              "size": 10,
              "solidity": 0.2
             }
            },
            "type": "bar"
           }
          ],
          "barpolar": [
           {
            "marker": {
             "line": {
              "color": "#E5ECF6",
              "width": 0.5
             },
             "pattern": {
              "fillmode": "overlay",
              "size": 10,
              "solidity": 0.2
             }
            },
            "type": "barpolar"
           }
          ],
          "carpet": [
           {
            "aaxis": {
             "endlinecolor": "#2a3f5f",
             "gridcolor": "white",
             "linecolor": "white",
             "minorgridcolor": "white",
             "startlinecolor": "#2a3f5f"
            },
            "baxis": {
             "endlinecolor": "#2a3f5f",
             "gridcolor": "white",
             "linecolor": "white",
             "minorgridcolor": "white",
             "startlinecolor": "#2a3f5f"
            },
            "type": "carpet"
           }
          ],
          "choropleth": [
           {
            "colorbar": {
             "outlinewidth": 0,
             "ticks": ""
            },
            "type": "choropleth"
           }
          ],
          "contour": [
           {
            "colorbar": {
             "outlinewidth": 0,
             "ticks": ""
            },
            "colorscale": [
             [
              0,
              "#0d0887"
             ],
             [
              0.1111111111111111,
              "#46039f"
             ],
             [
              0.2222222222222222,
              "#7201a8"
             ],
             [
              0.3333333333333333,
              "#9c179e"
             ],
             [
              0.4444444444444444,
              "#bd3786"
             ],
             [
              0.5555555555555556,
              "#d8576b"
             ],
             [
              0.6666666666666666,
              "#ed7953"
             ],
             [
              0.7777777777777778,
              "#fb9f3a"
             ],
             [
              0.8888888888888888,
              "#fdca26"
             ],
             [
              1,
              "#f0f921"
             ]
            ],
            "type": "contour"
           }
          ],
          "contourcarpet": [
           {
            "colorbar": {
             "outlinewidth": 0,
             "ticks": ""
            },
            "type": "contourcarpet"
           }
          ],
          "heatmap": [
           {
            "colorbar": {
             "outlinewidth": 0,
             "ticks": ""
            },
            "colorscale": [
             [
              0,
              "#0d0887"
             ],
             [
              0.1111111111111111,
              "#46039f"
             ],
             [
              0.2222222222222222,
              "#7201a8"
             ],
             [
              0.3333333333333333,
              "#9c179e"
             ],
             [
              0.4444444444444444,
              "#bd3786"
             ],
             [
              0.5555555555555556,
              "#d8576b"
             ],
             [
              0.6666666666666666,
              "#ed7953"
             ],
             [
              0.7777777777777778,
              "#fb9f3a"
             ],
             [
              0.8888888888888888,
              "#fdca26"
             ],
             [
              1,
              "#f0f921"
             ]
            ],
            "type": "heatmap"
           }
          ],
          "heatmapgl": [
           {
            "colorbar": {
             "outlinewidth": 0,
             "ticks": ""
            },
            "colorscale": [
             [
              0,
              "#0d0887"
             ],
             [
              0.1111111111111111,
              "#46039f"
             ],
             [
              0.2222222222222222,
              "#7201a8"
             ],
             [
              0.3333333333333333,
              "#9c179e"
             ],
             [
              0.4444444444444444,
              "#bd3786"
             ],
             [
              0.5555555555555556,
              "#d8576b"
             ],
             [
              0.6666666666666666,
              "#ed7953"
             ],
             [
              0.7777777777777778,
              "#fb9f3a"
             ],
             [
              0.8888888888888888,
              "#fdca26"
             ],
             [
              1,
              "#f0f921"
             ]
            ],
            "type": "heatmapgl"
           }
          ],
          "histogram": [
           {
            "marker": {
             "pattern": {
              "fillmode": "overlay",
              "size": 10,
              "solidity": 0.2
             }
            },
            "type": "histogram"
           }
          ],
          "histogram2d": [
           {
            "colorbar": {
             "outlinewidth": 0,
             "ticks": ""
            },
            "colorscale": [
             [
              0,
              "#0d0887"
             ],
             [
              0.1111111111111111,
              "#46039f"
             ],
             [
              0.2222222222222222,
              "#7201a8"
             ],
             [
              0.3333333333333333,
              "#9c179e"
             ],
             [
              0.4444444444444444,
              "#bd3786"
             ],
             [
              0.5555555555555556,
              "#d8576b"
             ],
             [
              0.6666666666666666,
              "#ed7953"
             ],
             [
              0.7777777777777778,
              "#fb9f3a"
             ],
             [
              0.8888888888888888,
              "#fdca26"
             ],
             [
              1,
              "#f0f921"
             ]
            ],
            "type": "histogram2d"
           }
          ],
          "histogram2dcontour": [
           {
            "colorbar": {
             "outlinewidth": 0,
             "ticks": ""
            },
            "colorscale": [
             [
              0,
              "#0d0887"
             ],
             [
              0.1111111111111111,
              "#46039f"
             ],
             [
              0.2222222222222222,
              "#7201a8"
             ],
             [
              0.3333333333333333,
              "#9c179e"
             ],
             [
              0.4444444444444444,
              "#bd3786"
             ],
             [
              0.5555555555555556,
              "#d8576b"
             ],
             [
              0.6666666666666666,
              "#ed7953"
             ],
             [
              0.7777777777777778,
              "#fb9f3a"
             ],
             [
              0.8888888888888888,
              "#fdca26"
             ],
             [
              1,
              "#f0f921"
             ]
            ],
            "type": "histogram2dcontour"
           }
          ],
          "mesh3d": [
           {
            "colorbar": {
             "outlinewidth": 0,
             "ticks": ""
            },
            "type": "mesh3d"
           }
          ],
          "parcoords": [
           {
            "line": {
             "colorbar": {
              "outlinewidth": 0,
              "ticks": ""
             }
            },
            "type": "parcoords"
           }
          ],
          "pie": [
           {
            "automargin": true,
            "type": "pie"
           }
          ],
          "scatter": [
           {
            "fillpattern": {
             "fillmode": "overlay",
             "size": 10,
             "solidity": 0.2
            },
            "type": "scatter"
           }
          ],
          "scatter3d": [
           {
            "line": {
             "colorbar": {
              "outlinewidth": 0,
              "ticks": ""
             }
            },
            "marker": {
             "colorbar": {
              "outlinewidth": 0,
              "ticks": ""
             }
            },
            "type": "scatter3d"
           }
          ],
          "scattercarpet": [
           {
            "marker": {
             "colorbar": {
              "outlinewidth": 0,
              "ticks": ""
             }
            },
            "type": "scattercarpet"
           }
          ],
          "scattergeo": [
           {
            "marker": {
             "colorbar": {
              "outlinewidth": 0,
              "ticks": ""
             }
            },
            "type": "scattergeo"
           }
          ],
          "scattergl": [
           {
            "marker": {
             "colorbar": {
              "outlinewidth": 0,
              "ticks": ""
             }
            },
            "type": "scattergl"
           }
          ],
          "scattermapbox": [
           {
            "marker": {
             "colorbar": {
              "outlinewidth": 0,
              "ticks": ""
             }
            },
            "type": "scattermapbox"
           }
          ],
          "scatterpolar": [
           {
            "marker": {
             "colorbar": {
              "outlinewidth": 0,
              "ticks": ""
             }
            },
            "type": "scatterpolar"
           }
          ],
          "scatterpolargl": [
           {
            "marker": {
             "colorbar": {
              "outlinewidth": 0,
              "ticks": ""
             }
            },
            "type": "scatterpolargl"
           }
          ],
          "scatterternary": [
           {
            "marker": {
             "colorbar": {
              "outlinewidth": 0,
              "ticks": ""
             }
            },
            "type": "scatterternary"
           }
          ],
          "surface": [
           {
            "colorbar": {
             "outlinewidth": 0,
             "ticks": ""
            },
            "colorscale": [
             [
              0,
              "#0d0887"
             ],
             [
              0.1111111111111111,
              "#46039f"
             ],
             [
              0.2222222222222222,
              "#7201a8"
             ],
             [
              0.3333333333333333,
              "#9c179e"
             ],
             [
              0.4444444444444444,
              "#bd3786"
             ],
             [
              0.5555555555555556,
              "#d8576b"
             ],
             [
              0.6666666666666666,
              "#ed7953"
             ],
             [
              0.7777777777777778,
              "#fb9f3a"
             ],
             [
              0.8888888888888888,
              "#fdca26"
             ],
             [
              1,
              "#f0f921"
             ]
            ],
            "type": "surface"
           }
          ],
          "table": [
           {
            "cells": {
             "fill": {
              "color": "#EBF0F8"
             },
             "line": {
              "color": "white"
             }
            },
            "header": {
             "fill": {
              "color": "#C8D4E3"
             },
             "line": {
              "color": "white"
             }
            },
            "type": "table"
           }
          ]
         },
         "layout": {
          "annotationdefaults": {
           "arrowcolor": "#2a3f5f",
           "arrowhead": 0,
           "arrowwidth": 1
          },
          "autotypenumbers": "strict",
          "coloraxis": {
           "colorbar": {
            "outlinewidth": 0,
            "ticks": ""
           }
          },
          "colorscale": {
           "diverging": [
            [
             0,
             "#8e0152"
            ],
            [
             0.1,
             "#c51b7d"
            ],
            [
             0.2,
             "#de77ae"
            ],
            [
             0.3,
             "#f1b6da"
            ],
            [
             0.4,
             "#fde0ef"
            ],
            [
             0.5,
             "#f7f7f7"
            ],
            [
             0.6,
             "#e6f5d0"
            ],
            [
             0.7,
             "#b8e186"
            ],
            [
             0.8,
             "#7fbc41"
            ],
            [
             0.9,
             "#4d9221"
            ],
            [
             1,
             "#276419"
            ]
           ],
           "sequential": [
            [
             0,
             "#0d0887"
            ],
            [
             0.1111111111111111,
             "#46039f"
            ],
            [
             0.2222222222222222,
             "#7201a8"
            ],
            [
             0.3333333333333333,
             "#9c179e"
            ],
            [
             0.4444444444444444,
             "#bd3786"
            ],
            [
             0.5555555555555556,
             "#d8576b"
            ],
            [
             0.6666666666666666,
             "#ed7953"
            ],
            [
             0.7777777777777778,
             "#fb9f3a"
            ],
            [
             0.8888888888888888,
             "#fdca26"
            ],
            [
             1,
             "#f0f921"
            ]
           ],
           "sequentialminus": [
            [
             0,
             "#0d0887"
            ],
            [
             0.1111111111111111,
             "#46039f"
            ],
            [
             0.2222222222222222,
             "#7201a8"
            ],
            [
             0.3333333333333333,
             "#9c179e"
            ],
            [
             0.4444444444444444,
             "#bd3786"
            ],
            [
             0.5555555555555556,
             "#d8576b"
            ],
            [
             0.6666666666666666,
             "#ed7953"
            ],
            [
             0.7777777777777778,
             "#fb9f3a"
            ],
            [
             0.8888888888888888,
             "#fdca26"
            ],
            [
             1,
             "#f0f921"
            ]
           ]
          },
          "colorway": [
           "#636efa",
           "#EF553B",
           "#00cc96",
           "#ab63fa",
           "#FFA15A",
           "#19d3f3",
           "#FF6692",
           "#B6E880",
           "#FF97FF",
           "#FECB52"
          ],
          "font": {
           "color": "#2a3f5f"
          },
          "geo": {
           "bgcolor": "white",
           "lakecolor": "white",
           "landcolor": "#E5ECF6",
           "showlakes": true,
           "showland": true,
           "subunitcolor": "white"
          },
          "hoverlabel": {
           "align": "left"
          },
          "hovermode": "closest",
          "mapbox": {
           "style": "light"
          },
          "paper_bgcolor": "white",
          "plot_bgcolor": "#E5ECF6",
          "polar": {
           "angularaxis": {
            "gridcolor": "white",
            "linecolor": "white",
            "ticks": ""
           },
           "bgcolor": "#E5ECF6",
           "radialaxis": {
            "gridcolor": "white",
            "linecolor": "white",
            "ticks": ""
           }
          },
          "scene": {
           "xaxis": {
            "backgroundcolor": "#E5ECF6",
            "gridcolor": "white",
            "gridwidth": 2,
            "linecolor": "white",
            "showbackground": true,
            "ticks": "",
            "zerolinecolor": "white"
           },
           "yaxis": {
            "backgroundcolor": "#E5ECF6",
            "gridcolor": "white",
            "gridwidth": 2,
            "linecolor": "white",
            "showbackground": true,
            "ticks": "",
            "zerolinecolor": "white"
           },
           "zaxis": {
            "backgroundcolor": "#E5ECF6",
            "gridcolor": "white",
            "gridwidth": 2,
            "linecolor": "white",
            "showbackground": true,
            "ticks": "",
            "zerolinecolor": "white"
           }
          },
          "shapedefaults": {
           "line": {
            "color": "#2a3f5f"
           }
          },
          "ternary": {
           "aaxis": {
            "gridcolor": "white",
            "linecolor": "white",
            "ticks": ""
           },
           "baxis": {
            "gridcolor": "white",
            "linecolor": "white",
            "ticks": ""
           },
           "bgcolor": "#E5ECF6",
           "caxis": {
            "gridcolor": "white",
            "linecolor": "white",
            "ticks": ""
           }
          },
          "title": {
           "x": 0.05
          },
          "xaxis": {
           "automargin": true,
           "gridcolor": "white",
           "linecolor": "white",
           "ticks": "",
           "title": {
            "standoff": 15
           },
           "zerolinecolor": "white",
           "zerolinewidth": 2
          },
          "yaxis": {
           "automargin": true,
           "gridcolor": "white",
           "linecolor": "white",
           "ticks": "",
           "title": {
            "standoff": 15
           },
           "zerolinecolor": "white",
           "zerolinewidth": 2
          }
         }
        },
        "title": {
         "text": "Provincie Utrecht 3h weather forecast for 5 days"
        },
        "yaxis": {
         "title": {
          "text": "Temperature (C)"
         }
        }
       }
      }
     },
     "metadata": {},
     "output_type": "display_data"
    }
   ],
   "source": [
    "fig.update_layout(\n",
    "    title=\"{} 3h weather forecast for 5 days\".format(city),\n",
    "    yaxis_title=\"Temperature (C)\",\n",
    "    font=dict(\n",
    "        family=\"Arial\",\n",
    "        size=18,\n",
    "        color=\"#7f7f7f\"\n",
    "    )\n",
    ")"
   ]
  },
  {
   "cell_type": "code",
   "execution_count": 87,
   "metadata": {},
   "outputs": [
    {
     "data": {
      "application/vnd.plotly.v1+json": {
       "config": {
        "plotlyServerURL": "https://plot.ly"
       },
       "data": [
        {
         "line": {
          "color": "royalblue",
          "width": 6
         },
         "mode": "lines",
         "name": "Temperature",
         "type": "scatter",
         "x": [
          "2023-12-08 12:00:00",
          "2023-12-08 15:00:00",
          "2023-12-08 18:00:00",
          "2023-12-08 21:00:00",
          "2023-12-09 00:00:00",
          "2023-12-09 03:00:00",
          "2023-12-09 06:00:00",
          "2023-12-09 09:00:00",
          "2023-12-09 12:00:00",
          "2023-12-09 15:00:00",
          "2023-12-09 18:00:00",
          "2023-12-09 21:00:00",
          "2023-12-10 00:00:00",
          "2023-12-10 03:00:00",
          "2023-12-10 06:00:00",
          "2023-12-10 09:00:00",
          "2023-12-10 12:00:00",
          "2023-12-10 15:00:00",
          "2023-12-10 18:00:00",
          "2023-12-10 21:00:00",
          "2023-12-11 00:00:00",
          "2023-12-11 03:00:00",
          "2023-12-11 06:00:00",
          "2023-12-11 09:00:00",
          "2023-12-11 12:00:00",
          "2023-12-11 15:00:00",
          "2023-12-11 18:00:00",
          "2023-12-11 21:00:00",
          "2023-12-12 00:00:00",
          "2023-12-12 03:00:00",
          "2023-12-12 06:00:00",
          "2023-12-12 09:00:00",
          "2023-12-12 12:00:00",
          "2023-12-12 15:00:00",
          "2023-12-12 18:00:00",
          "2023-12-12 21:00:00",
          "2023-12-13 00:00:00",
          "2023-12-13 03:00:00",
          "2023-12-13 06:00:00",
          "2023-12-13 09:00:00"
         ],
         "y": [
          4.27,
          6.17,
          6.17,
          7.08,
          7.45,
          6.96,
          6.67,
          6.06,
          7.11,
          7.46,
          10.84,
          9.16,
          8.26,
          6.91,
          8.48,
          8.27,
          8.64,
          8.44,
          7.74,
          7.49,
          9.23,
          8.59,
          7.65,
          7.98,
          9.56,
          9.11,
          9.44,
          10.08,
          9.92,
          9.43,
          9.02,
          9.3,
          9.82,
          9.45,
          8.8,
          9.22,
          9.21,
          8.93,
          8.45,
          8.61
         ]
        },
        {
         "line": {
          "color": "orange",
          "dash": "dot",
          "width": 3
         },
         "mode": "lines",
         "name": "Feels like",
         "type": "scatter",
         "x": [
          "2023-12-08 12:00:00",
          "2023-12-08 15:00:00",
          "2023-12-08 18:00:00",
          "2023-12-08 21:00:00",
          "2023-12-09 00:00:00",
          "2023-12-09 03:00:00",
          "2023-12-09 06:00:00",
          "2023-12-09 09:00:00",
          "2023-12-09 12:00:00",
          "2023-12-09 15:00:00",
          "2023-12-09 18:00:00",
          "2023-12-09 21:00:00",
          "2023-12-10 00:00:00",
          "2023-12-10 03:00:00",
          "2023-12-10 06:00:00",
          "2023-12-10 09:00:00",
          "2023-12-10 12:00:00",
          "2023-12-10 15:00:00",
          "2023-12-10 18:00:00",
          "2023-12-10 21:00:00",
          "2023-12-11 00:00:00",
          "2023-12-11 03:00:00",
          "2023-12-11 06:00:00",
          "2023-12-11 09:00:00",
          "2023-12-11 12:00:00",
          "2023-12-11 15:00:00",
          "2023-12-11 18:00:00",
          "2023-12-11 21:00:00",
          "2023-12-12 00:00:00",
          "2023-12-12 03:00:00",
          "2023-12-12 06:00:00",
          "2023-12-12 09:00:00",
          "2023-12-12 12:00:00",
          "2023-12-12 15:00:00",
          "2023-12-12 18:00:00",
          "2023-12-12 21:00:00",
          "2023-12-13 00:00:00",
          "2023-12-13 03:00:00",
          "2023-12-13 06:00:00",
          "2023-12-13 09:00:00"
         ],
         "y": [
          1.97,
          3.91,
          3.6,
          4.01,
          4.35,
          3.68,
          3.18,
          2.19,
          3.11,
          3.29,
          10.28,
          5.27,
          4.04,
          2.09,
          3.9,
          3.86,
          4.84,
          5.06,
          5.57,
          5.06,
          7.09,
          6.12,
          5.54,
          5.9,
          7.27,
          6.86,
          6.62,
          9.42,
          7.57,
          7.42,
          7.03,
          8.17,
          8.56,
          8.53,
          7.35,
          6.97,
          6.85,
          6.86,
          6.34,
          6.59
         ]
        },
        {
         "marker": {
          "color": "gray",
          "line": {
           "color": "gray",
           "width": 1.5
          }
         },
         "name": "Wind speed",
         "opacity": 0.6,
         "type": "bar",
         "x": [
          "2023-12-08 12:00:00",
          "2023-12-08 15:00:00",
          "2023-12-08 18:00:00",
          "2023-12-08 21:00:00",
          "2023-12-09 00:00:00",
          "2023-12-09 03:00:00",
          "2023-12-09 06:00:00",
          "2023-12-09 09:00:00",
          "2023-12-09 12:00:00",
          "2023-12-09 15:00:00",
          "2023-12-09 18:00:00",
          "2023-12-09 21:00:00",
          "2023-12-10 00:00:00",
          "2023-12-10 03:00:00",
          "2023-12-10 06:00:00",
          "2023-12-10 09:00:00",
          "2023-12-10 12:00:00",
          "2023-12-10 15:00:00",
          "2023-12-10 18:00:00",
          "2023-12-10 21:00:00",
          "2023-12-11 00:00:00",
          "2023-12-11 03:00:00",
          "2023-12-11 06:00:00",
          "2023-12-11 09:00:00",
          "2023-12-11 12:00:00",
          "2023-12-11 15:00:00",
          "2023-12-11 18:00:00",
          "2023-12-11 21:00:00",
          "2023-12-12 00:00:00",
          "2023-12-12 03:00:00",
          "2023-12-12 06:00:00",
          "2023-12-12 09:00:00",
          "2023-12-12 12:00:00",
          "2023-12-12 15:00:00",
          "2023-12-12 18:00:00",
          "2023-12-12 21:00:00",
          "2023-12-13 00:00:00",
          "2023-12-13 03:00:00",
          "2023-12-13 06:00:00",
          "2023-12-13 09:00:00"
         ],
         "y": [
          2.58,
          3,
          3.48,
          4.84,
          5.13,
          5.24,
          5.57,
          6.13,
          7.37,
          8.29,
          8.36,
          9.23,
          9.42,
          10.1,
          11.39,
          10.25,
          8.24,
          6.6,
          3.36,
          3.73,
          3.92,
          4.31,
          3.24,
          3.3,
          4.42,
          4.11,
          5.75,
          5.38,
          4.78,
          3.76,
          3.54,
          2.26,
          2.57,
          2.02,
          2.57,
          4.16,
          4.4,
          3.66,
          3.53,
          3.43
         ]
        },
        {
         "marker": {
          "color": "rgb(158,202,225)",
          "line": {
           "color": "rgb(8,48,107)",
           "width": 1.5
          }
         },
         "name": "Rain (mm)",
         "opacity": 0.6,
         "text": [
          0,
          0,
          0,
          0,
          0,
          0.13,
          0,
          0,
          1.79,
          3.56,
          1.82,
          0.16,
          0.22,
          1.18,
          2.78,
          0.22,
          0,
          0,
          1.69,
          0.88,
          0,
          0,
          0,
          0,
          0,
          0.92,
          0.51,
          0.13,
          0.15,
          0.15,
          0,
          0,
          0.13,
          1.83,
          0.29,
          0.82,
          2.02,
          0.78,
          1.32,
          0.36
         ],
         "type": "bar",
         "x": [
          "2023-12-08 12:00:00",
          "2023-12-08 15:00:00",
          "2023-12-08 18:00:00",
          "2023-12-08 21:00:00",
          "2023-12-09 00:00:00",
          "2023-12-09 03:00:00",
          "2023-12-09 06:00:00",
          "2023-12-09 09:00:00",
          "2023-12-09 12:00:00",
          "2023-12-09 15:00:00",
          "2023-12-09 18:00:00",
          "2023-12-09 21:00:00",
          "2023-12-10 00:00:00",
          "2023-12-10 03:00:00",
          "2023-12-10 06:00:00",
          "2023-12-10 09:00:00",
          "2023-12-10 12:00:00",
          "2023-12-10 15:00:00",
          "2023-12-10 18:00:00",
          "2023-12-10 21:00:00",
          "2023-12-11 00:00:00",
          "2023-12-11 03:00:00",
          "2023-12-11 06:00:00",
          "2023-12-11 09:00:00",
          "2023-12-11 12:00:00",
          "2023-12-11 15:00:00",
          "2023-12-11 18:00:00",
          "2023-12-11 21:00:00",
          "2023-12-12 00:00:00",
          "2023-12-12 03:00:00",
          "2023-12-12 06:00:00",
          "2023-12-12 09:00:00",
          "2023-12-12 12:00:00",
          "2023-12-12 15:00:00",
          "2023-12-12 18:00:00",
          "2023-12-12 21:00:00",
          "2023-12-13 00:00:00",
          "2023-12-13 03:00:00",
          "2023-12-13 06:00:00",
          "2023-12-13 09:00:00"
         ],
         "y": [
          0,
          0,
          0,
          0,
          0,
          0.13,
          0,
          0,
          1.79,
          3.56,
          1.82,
          0.16,
          0.22,
          1.18,
          2.78,
          0.22,
          0,
          0,
          1.69,
          0.88,
          0,
          0,
          0,
          0,
          0,
          0.92,
          0.51,
          0.13,
          0.15,
          0.15,
          0,
          0,
          0.13,
          1.83,
          0.29,
          0.82,
          2.02,
          0.78,
          1.32,
          0.36
         ]
        },
        {
         "marker": {
          "color": "rgb(158,202,225)",
          "line": {
           "color": "rgb(8,48,107)",
           "width": 1.5
          }
         },
         "name": "Rain (mm)",
         "opacity": 0.6,
         "type": "scatter",
         "x": [
          "2023-12-08 12:00:00",
          "2023-12-08 15:00:00",
          "2023-12-08 18:00:00",
          "2023-12-08 21:00:00",
          "2023-12-09 00:00:00",
          "2023-12-09 03:00:00",
          "2023-12-09 06:00:00",
          "2023-12-09 09:00:00",
          "2023-12-09 12:00:00",
          "2023-12-09 15:00:00",
          "2023-12-09 18:00:00",
          "2023-12-09 21:00:00",
          "2023-12-10 00:00:00",
          "2023-12-10 03:00:00",
          "2023-12-10 06:00:00",
          "2023-12-10 09:00:00",
          "2023-12-10 12:00:00",
          "2023-12-10 15:00:00",
          "2023-12-10 18:00:00",
          "2023-12-10 21:00:00",
          "2023-12-11 00:00:00",
          "2023-12-11 03:00:00",
          "2023-12-11 06:00:00",
          "2023-12-11 09:00:00",
          "2023-12-11 12:00:00",
          "2023-12-11 15:00:00",
          "2023-12-11 18:00:00",
          "2023-12-11 21:00:00",
          "2023-12-12 00:00:00",
          "2023-12-12 03:00:00",
          "2023-12-12 06:00:00",
          "2023-12-12 09:00:00",
          "2023-12-12 12:00:00",
          "2023-12-12 15:00:00",
          "2023-12-12 18:00:00",
          "2023-12-12 21:00:00",
          "2023-12-13 00:00:00",
          "2023-12-13 03:00:00",
          "2023-12-13 06:00:00",
          "2023-12-13 09:00:00"
         ],
         "y": [
          0,
          0,
          0,
          0,
          0,
          0.13,
          0,
          0,
          1.79,
          3.56,
          1.82,
          0.16,
          0.22,
          1.18,
          2.78,
          0.22,
          0,
          0,
          1.69,
          0.88,
          0,
          0,
          0,
          0,
          0,
          0.92,
          0.51,
          0.13,
          0.15,
          0.15,
          0,
          0,
          0.13,
          1.83,
          0.29,
          0.82,
          2.02,
          0.78,
          1.32,
          0.36
         ]
        }
       ],
       "layout": {
        "font": {
         "color": "#7f7f7f",
         "family": "Arial",
         "size": 18
        },
        "template": {
         "data": {
          "bar": [
           {
            "error_x": {
             "color": "#2a3f5f"
            },
            "error_y": {
             "color": "#2a3f5f"
            },
            "marker": {
             "line": {
              "color": "#E5ECF6",
              "width": 0.5
             },
             "pattern": {
              "fillmode": "overlay",
              "size": 10,
              "solidity": 0.2
             }
            },
            "type": "bar"
           }
          ],
          "barpolar": [
           {
            "marker": {
             "line": {
              "color": "#E5ECF6",
              "width": 0.5
             },
             "pattern": {
              "fillmode": "overlay",
              "size": 10,
              "solidity": 0.2
             }
            },
            "type": "barpolar"
           }
          ],
          "carpet": [
           {
            "aaxis": {
             "endlinecolor": "#2a3f5f",
             "gridcolor": "white",
             "linecolor": "white",
             "minorgridcolor": "white",
             "startlinecolor": "#2a3f5f"
            },
            "baxis": {
             "endlinecolor": "#2a3f5f",
             "gridcolor": "white",
             "linecolor": "white",
             "minorgridcolor": "white",
             "startlinecolor": "#2a3f5f"
            },
            "type": "carpet"
           }
          ],
          "choropleth": [
           {
            "colorbar": {
             "outlinewidth": 0,
             "ticks": ""
            },
            "type": "choropleth"
           }
          ],
          "contour": [
           {
            "colorbar": {
             "outlinewidth": 0,
             "ticks": ""
            },
            "colorscale": [
             [
              0,
              "#0d0887"
             ],
             [
              0.1111111111111111,
              "#46039f"
             ],
             [
              0.2222222222222222,
              "#7201a8"
             ],
             [
              0.3333333333333333,
              "#9c179e"
             ],
             [
              0.4444444444444444,
              "#bd3786"
             ],
             [
              0.5555555555555556,
              "#d8576b"
             ],
             [
              0.6666666666666666,
              "#ed7953"
             ],
             [
              0.7777777777777778,
              "#fb9f3a"
             ],
             [
              0.8888888888888888,
              "#fdca26"
             ],
             [
              1,
              "#f0f921"
             ]
            ],
            "type": "contour"
           }
          ],
          "contourcarpet": [
           {
            "colorbar": {
             "outlinewidth": 0,
             "ticks": ""
            },
            "type": "contourcarpet"
           }
          ],
          "heatmap": [
           {
            "colorbar": {
             "outlinewidth": 0,
             "ticks": ""
            },
            "colorscale": [
             [
              0,
              "#0d0887"
             ],
             [
              0.1111111111111111,
              "#46039f"
             ],
             [
              0.2222222222222222,
              "#7201a8"
             ],
             [
              0.3333333333333333,
              "#9c179e"
             ],
             [
              0.4444444444444444,
              "#bd3786"
             ],
             [
              0.5555555555555556,
              "#d8576b"
             ],
             [
              0.6666666666666666,
              "#ed7953"
             ],
             [
              0.7777777777777778,
              "#fb9f3a"
             ],
             [
              0.8888888888888888,
              "#fdca26"
             ],
             [
              1,
              "#f0f921"
             ]
            ],
            "type": "heatmap"
           }
          ],
          "heatmapgl": [
           {
            "colorbar": {
             "outlinewidth": 0,
             "ticks": ""
            },
            "colorscale": [
             [
              0,
              "#0d0887"
             ],
             [
              0.1111111111111111,
              "#46039f"
             ],
             [
              0.2222222222222222,
              "#7201a8"
             ],
             [
              0.3333333333333333,
              "#9c179e"
             ],
             [
              0.4444444444444444,
              "#bd3786"
             ],
             [
              0.5555555555555556,
              "#d8576b"
             ],
             [
              0.6666666666666666,
              "#ed7953"
             ],
             [
              0.7777777777777778,
              "#fb9f3a"
             ],
             [
              0.8888888888888888,
              "#fdca26"
             ],
             [
              1,
              "#f0f921"
             ]
            ],
            "type": "heatmapgl"
           }
          ],
          "histogram": [
           {
            "marker": {
             "pattern": {
              "fillmode": "overlay",
              "size": 10,
              "solidity": 0.2
             }
            },
            "type": "histogram"
           }
          ],
          "histogram2d": [
           {
            "colorbar": {
             "outlinewidth": 0,
             "ticks": ""
            },
            "colorscale": [
             [
              0,
              "#0d0887"
             ],
             [
              0.1111111111111111,
              "#46039f"
             ],
             [
              0.2222222222222222,
              "#7201a8"
             ],
             [
              0.3333333333333333,
              "#9c179e"
             ],
             [
              0.4444444444444444,
              "#bd3786"
             ],
             [
              0.5555555555555556,
              "#d8576b"
             ],
             [
              0.6666666666666666,
              "#ed7953"
             ],
             [
              0.7777777777777778,
              "#fb9f3a"
             ],
             [
              0.8888888888888888,
              "#fdca26"
             ],
             [
              1,
              "#f0f921"
             ]
            ],
            "type": "histogram2d"
           }
          ],
          "histogram2dcontour": [
           {
            "colorbar": {
             "outlinewidth": 0,
             "ticks": ""
            },
            "colorscale": [
             [
              0,
              "#0d0887"
             ],
             [
              0.1111111111111111,
              "#46039f"
             ],
             [
              0.2222222222222222,
              "#7201a8"
             ],
             [
              0.3333333333333333,
              "#9c179e"
             ],
             [
              0.4444444444444444,
              "#bd3786"
             ],
             [
              0.5555555555555556,
              "#d8576b"
             ],
             [
              0.6666666666666666,
              "#ed7953"
             ],
             [
              0.7777777777777778,
              "#fb9f3a"
             ],
             [
              0.8888888888888888,
              "#fdca26"
             ],
             [
              1,
              "#f0f921"
             ]
            ],
            "type": "histogram2dcontour"
           }
          ],
          "mesh3d": [
           {
            "colorbar": {
             "outlinewidth": 0,
             "ticks": ""
            },
            "type": "mesh3d"
           }
          ],
          "parcoords": [
           {
            "line": {
             "colorbar": {
              "outlinewidth": 0,
              "ticks": ""
             }
            },
            "type": "parcoords"
           }
          ],
          "pie": [
           {
            "automargin": true,
            "type": "pie"
           }
          ],
          "scatter": [
           {
            "fillpattern": {
             "fillmode": "overlay",
             "size": 10,
             "solidity": 0.2
            },
            "type": "scatter"
           }
          ],
          "scatter3d": [
           {
            "line": {
             "colorbar": {
              "outlinewidth": 0,
              "ticks": ""
             }
            },
            "marker": {
             "colorbar": {
              "outlinewidth": 0,
              "ticks": ""
             }
            },
            "type": "scatter3d"
           }
          ],
          "scattercarpet": [
           {
            "marker": {
             "colorbar": {
              "outlinewidth": 0,
              "ticks": ""
             }
            },
            "type": "scattercarpet"
           }
          ],
          "scattergeo": [
           {
            "marker": {
             "colorbar": {
              "outlinewidth": 0,
              "ticks": ""
             }
            },
            "type": "scattergeo"
           }
          ],
          "scattergl": [
           {
            "marker": {
             "colorbar": {
              "outlinewidth": 0,
              "ticks": ""
             }
            },
            "type": "scattergl"
           }
          ],
          "scattermapbox": [
           {
            "marker": {
             "colorbar": {
              "outlinewidth": 0,
              "ticks": ""
             }
            },
            "type": "scattermapbox"
           }
          ],
          "scatterpolar": [
           {
            "marker": {
             "colorbar": {
              "outlinewidth": 0,
              "ticks": ""
             }
            },
            "type": "scatterpolar"
           }
          ],
          "scatterpolargl": [
           {
            "marker": {
             "colorbar": {
              "outlinewidth": 0,
              "ticks": ""
             }
            },
            "type": "scatterpolargl"
           }
          ],
          "scatterternary": [
           {
            "marker": {
             "colorbar": {
              "outlinewidth": 0,
              "ticks": ""
             }
            },
            "type": "scatterternary"
           }
          ],
          "surface": [
           {
            "colorbar": {
             "outlinewidth": 0,
             "ticks": ""
            },
            "colorscale": [
             [
              0,
              "#0d0887"
             ],
             [
              0.1111111111111111,
              "#46039f"
             ],
             [
              0.2222222222222222,
              "#7201a8"
             ],
             [
              0.3333333333333333,
              "#9c179e"
             ],
             [
              0.4444444444444444,
              "#bd3786"
             ],
             [
              0.5555555555555556,
              "#d8576b"
             ],
             [
              0.6666666666666666,
              "#ed7953"
             ],
             [
              0.7777777777777778,
              "#fb9f3a"
             ],
             [
              0.8888888888888888,
              "#fdca26"
             ],
             [
              1,
              "#f0f921"
             ]
            ],
            "type": "surface"
           }
          ],
          "table": [
           {
            "cells": {
             "fill": {
              "color": "#EBF0F8"
             },
             "line": {
              "color": "white"
             }
            },
            "header": {
             "fill": {
              "color": "#C8D4E3"
             },
             "line": {
              "color": "white"
             }
            },
            "type": "table"
           }
          ]
         },
         "layout": {
          "annotationdefaults": {
           "arrowcolor": "#2a3f5f",
           "arrowhead": 0,
           "arrowwidth": 1
          },
          "autotypenumbers": "strict",
          "coloraxis": {
           "colorbar": {
            "outlinewidth": 0,
            "ticks": ""
           }
          },
          "colorscale": {
           "diverging": [
            [
             0,
             "#8e0152"
            ],
            [
             0.1,
             "#c51b7d"
            ],
            [
             0.2,
             "#de77ae"
            ],
            [
             0.3,
             "#f1b6da"
            ],
            [
             0.4,
             "#fde0ef"
            ],
            [
             0.5,
             "#f7f7f7"
            ],
            [
             0.6,
             "#e6f5d0"
            ],
            [
             0.7,
             "#b8e186"
            ],
            [
             0.8,
             "#7fbc41"
            ],
            [
             0.9,
             "#4d9221"
            ],
            [
             1,
             "#276419"
            ]
           ],
           "sequential": [
            [
             0,
             "#0d0887"
            ],
            [
             0.1111111111111111,
             "#46039f"
            ],
            [
             0.2222222222222222,
             "#7201a8"
            ],
            [
             0.3333333333333333,
             "#9c179e"
            ],
            [
             0.4444444444444444,
             "#bd3786"
            ],
            [
             0.5555555555555556,
             "#d8576b"
            ],
            [
             0.6666666666666666,
             "#ed7953"
            ],
            [
             0.7777777777777778,
             "#fb9f3a"
            ],
            [
             0.8888888888888888,
             "#fdca26"
            ],
            [
             1,
             "#f0f921"
            ]
           ],
           "sequentialminus": [
            [
             0,
             "#0d0887"
            ],
            [
             0.1111111111111111,
             "#46039f"
            ],
            [
             0.2222222222222222,
             "#7201a8"
            ],
            [
             0.3333333333333333,
             "#9c179e"
            ],
            [
             0.4444444444444444,
             "#bd3786"
            ],
            [
             0.5555555555555556,
             "#d8576b"
            ],
            [
             0.6666666666666666,
             "#ed7953"
            ],
            [
             0.7777777777777778,
             "#fb9f3a"
            ],
            [
             0.8888888888888888,
             "#fdca26"
            ],
            [
             1,
             "#f0f921"
            ]
           ]
          },
          "colorway": [
           "#636efa",
           "#EF553B",
           "#00cc96",
           "#ab63fa",
           "#FFA15A",
           "#19d3f3",
           "#FF6692",
           "#B6E880",
           "#FF97FF",
           "#FECB52"
          ],
          "font": {
           "color": "#2a3f5f"
          },
          "geo": {
           "bgcolor": "white",
           "lakecolor": "white",
           "landcolor": "#E5ECF6",
           "showlakes": true,
           "showland": true,
           "subunitcolor": "white"
          },
          "hoverlabel": {
           "align": "left"
          },
          "hovermode": "closest",
          "mapbox": {
           "style": "light"
          },
          "paper_bgcolor": "white",
          "plot_bgcolor": "#E5ECF6",
          "polar": {
           "angularaxis": {
            "gridcolor": "white",
            "linecolor": "white",
            "ticks": ""
           },
           "bgcolor": "#E5ECF6",
           "radialaxis": {
            "gridcolor": "white",
            "linecolor": "white",
            "ticks": ""
           }
          },
          "scene": {
           "xaxis": {
            "backgroundcolor": "#E5ECF6",
            "gridcolor": "white",
            "gridwidth": 2,
            "linecolor": "white",
            "showbackground": true,
            "ticks": "",
            "zerolinecolor": "white"
           },
           "yaxis": {
            "backgroundcolor": "#E5ECF6",
            "gridcolor": "white",
            "gridwidth": 2,
            "linecolor": "white",
            "showbackground": true,
            "ticks": "",
            "zerolinecolor": "white"
           },
           "zaxis": {
            "backgroundcolor": "#E5ECF6",
            "gridcolor": "white",
            "gridwidth": 2,
            "linecolor": "white",
            "showbackground": true,
            "ticks": "",
            "zerolinecolor": "white"
           }
          },
          "shapedefaults": {
           "line": {
            "color": "#2a3f5f"
           }
          },
          "ternary": {
           "aaxis": {
            "gridcolor": "white",
            "linecolor": "white",
            "ticks": ""
           },
           "baxis": {
            "gridcolor": "white",
            "linecolor": "white",
            "ticks": ""
           },
           "bgcolor": "#E5ECF6",
           "caxis": {
            "gridcolor": "white",
            "linecolor": "white",
            "ticks": ""
           }
          },
          "title": {
           "x": 0.05
          },
          "xaxis": {
           "automargin": true,
           "gridcolor": "white",
           "linecolor": "white",
           "ticks": "",
           "title": {
            "standoff": 15
           },
           "zerolinecolor": "white",
           "zerolinewidth": 2
          },
          "yaxis": {
           "automargin": true,
           "gridcolor": "white",
           "linecolor": "white",
           "ticks": "",
           "title": {
            "standoff": 15
           },
           "zerolinecolor": "white",
           "zerolinewidth": 2
          }
         }
        },
        "title": {
         "text": "Provincie Utrecht 3h weather forecast for 5 days"
        },
        "yaxis": {
         "title": {
          "text": "Temperature (C)"
         }
        }
       }
      }
     },
     "metadata": {},
     "output_type": "display_data"
    }
   ],
   "source": [
    "# add bubbles\n",
    "fig.add_trace(go.Scatter(x=weather_df['date'], y=weather_df['rain_mm'], \n",
    "                     name='Rain (mm)',\n",
    "                     marker=dict(\n",
    "                     color='rgb(158,202,225)',\n",
    "                     line=dict(\n",
    "                         color='rgb(8,48,107)',\n",
    "                         width=1.5),\n",
    "                       ),\n",
    "                       opacity=0.6))"
   ]
  },
  {
   "cell_type": "code",
   "execution_count": null,
   "metadata": {},
   "outputs": [],
   "source": [
    "# add text\n",
    "#fig.add_trace(go.Line(x=weather_df['date'], y=weather_df['rain_mm'], \n",
    "#                     name='Rain (mm)',\n",
    "#                     marker=dict(\n",
    "#                     color='rgb(158,202,225)',\n",
    "#                     line=dict(\n",
    "#                         color='rgb(8,48,107)',\n",
    "#                         width=1.5),\n",
    "#                       ),\n",
    "#                       opacity=0.6))\n",
    "#"
   ]
  },
  {
   "cell_type": "code",
   "execution_count": 38,
   "metadata": {},
   "outputs": [
    {
     "data": {
      "application/vnd.plotly.v1+json": {
       "config": {
        "plotlyServerURL": "https://plot.ly"
       },
       "data": [
        {
         "line": {
          "color": "royalblue",
          "width": 6
         },
         "mode": "lines",
         "name": "Temperature",
         "type": "scatter",
         "x": [
          "2023-12-08 12:00:00",
          "2023-12-08 15:00:00",
          "2023-12-08 18:00:00",
          "2023-12-08 21:00:00",
          "2023-12-09 00:00:00",
          "2023-12-09 03:00:00",
          "2023-12-09 06:00:00",
          "2023-12-09 09:00:00",
          "2023-12-09 12:00:00",
          "2023-12-09 15:00:00",
          "2023-12-09 18:00:00",
          "2023-12-09 21:00:00",
          "2023-12-10 00:00:00",
          "2023-12-10 03:00:00",
          "2023-12-10 06:00:00",
          "2023-12-10 09:00:00",
          "2023-12-10 12:00:00",
          "2023-12-10 15:00:00",
          "2023-12-10 18:00:00",
          "2023-12-10 21:00:00",
          "2023-12-11 00:00:00",
          "2023-12-11 03:00:00",
          "2023-12-11 06:00:00",
          "2023-12-11 09:00:00",
          "2023-12-11 12:00:00",
          "2023-12-11 15:00:00",
          "2023-12-11 18:00:00",
          "2023-12-11 21:00:00",
          "2023-12-12 00:00:00",
          "2023-12-12 03:00:00",
          "2023-12-12 06:00:00",
          "2023-12-12 09:00:00",
          "2023-12-12 12:00:00",
          "2023-12-12 15:00:00",
          "2023-12-12 18:00:00",
          "2023-12-12 21:00:00",
          "2023-12-13 00:00:00",
          "2023-12-13 03:00:00",
          "2023-12-13 06:00:00",
          "2023-12-13 09:00:00"
         ],
         "y": [
          4.27,
          6.17,
          6.17,
          7.08,
          7.45,
          6.96,
          6.67,
          6.06,
          7.11,
          7.46,
          10.84,
          9.16,
          8.26,
          6.91,
          8.48,
          8.27,
          8.64,
          8.44,
          7.74,
          7.49,
          9.23,
          8.59,
          7.65,
          7.98,
          9.56,
          9.11,
          9.44,
          10.08,
          9.92,
          9.43,
          9.02,
          9.3,
          9.82,
          9.45,
          8.8,
          9.22,
          9.21,
          8.93,
          8.45,
          8.61
         ]
        },
        {
         "line": {
          "color": "orange",
          "dash": "dot",
          "width": 3
         },
         "mode": "lines",
         "name": "Feels like",
         "type": "scatter",
         "x": [
          "2023-12-08 12:00:00",
          "2023-12-08 15:00:00",
          "2023-12-08 18:00:00",
          "2023-12-08 21:00:00",
          "2023-12-09 00:00:00",
          "2023-12-09 03:00:00",
          "2023-12-09 06:00:00",
          "2023-12-09 09:00:00",
          "2023-12-09 12:00:00",
          "2023-12-09 15:00:00",
          "2023-12-09 18:00:00",
          "2023-12-09 21:00:00",
          "2023-12-10 00:00:00",
          "2023-12-10 03:00:00",
          "2023-12-10 06:00:00",
          "2023-12-10 09:00:00",
          "2023-12-10 12:00:00",
          "2023-12-10 15:00:00",
          "2023-12-10 18:00:00",
          "2023-12-10 21:00:00",
          "2023-12-11 00:00:00",
          "2023-12-11 03:00:00",
          "2023-12-11 06:00:00",
          "2023-12-11 09:00:00",
          "2023-12-11 12:00:00",
          "2023-12-11 15:00:00",
          "2023-12-11 18:00:00",
          "2023-12-11 21:00:00",
          "2023-12-12 00:00:00",
          "2023-12-12 03:00:00",
          "2023-12-12 06:00:00",
          "2023-12-12 09:00:00",
          "2023-12-12 12:00:00",
          "2023-12-12 15:00:00",
          "2023-12-12 18:00:00",
          "2023-12-12 21:00:00",
          "2023-12-13 00:00:00",
          "2023-12-13 03:00:00",
          "2023-12-13 06:00:00",
          "2023-12-13 09:00:00"
         ],
         "y": [
          1.97,
          3.91,
          3.6,
          4.01,
          4.35,
          3.68,
          3.18,
          2.19,
          3.11,
          3.29,
          10.28,
          5.27,
          4.04,
          2.09,
          3.9,
          3.86,
          4.84,
          5.06,
          5.57,
          5.06,
          7.09,
          6.12,
          5.54,
          5.9,
          7.27,
          6.86,
          6.62,
          9.42,
          7.57,
          7.42,
          7.03,
          8.17,
          8.56,
          8.53,
          7.35,
          6.97,
          6.85,
          6.86,
          6.34,
          6.59
         ]
        },
        {
         "marker": {
          "color": "gray",
          "line": {
           "color": "gray",
           "width": 1.5
          }
         },
         "name": "Wind speed",
         "opacity": 0.6,
         "type": "bar",
         "x": [
          "2023-12-08 12:00:00",
          "2023-12-08 15:00:00",
          "2023-12-08 18:00:00",
          "2023-12-08 21:00:00",
          "2023-12-09 00:00:00",
          "2023-12-09 03:00:00",
          "2023-12-09 06:00:00",
          "2023-12-09 09:00:00",
          "2023-12-09 12:00:00",
          "2023-12-09 15:00:00",
          "2023-12-09 18:00:00",
          "2023-12-09 21:00:00",
          "2023-12-10 00:00:00",
          "2023-12-10 03:00:00",
          "2023-12-10 06:00:00",
          "2023-12-10 09:00:00",
          "2023-12-10 12:00:00",
          "2023-12-10 15:00:00",
          "2023-12-10 18:00:00",
          "2023-12-10 21:00:00",
          "2023-12-11 00:00:00",
          "2023-12-11 03:00:00",
          "2023-12-11 06:00:00",
          "2023-12-11 09:00:00",
          "2023-12-11 12:00:00",
          "2023-12-11 15:00:00",
          "2023-12-11 18:00:00",
          "2023-12-11 21:00:00",
          "2023-12-12 00:00:00",
          "2023-12-12 03:00:00",
          "2023-12-12 06:00:00",
          "2023-12-12 09:00:00",
          "2023-12-12 12:00:00",
          "2023-12-12 15:00:00",
          "2023-12-12 18:00:00",
          "2023-12-12 21:00:00",
          "2023-12-13 00:00:00",
          "2023-12-13 03:00:00",
          "2023-12-13 06:00:00",
          "2023-12-13 09:00:00"
         ],
         "y": [
          2.58,
          3,
          3.48,
          4.84,
          5.13,
          5.24,
          5.57,
          6.13,
          7.37,
          8.29,
          8.36,
          9.23,
          9.42,
          10.1,
          11.39,
          10.25,
          8.24,
          6.6,
          3.36,
          3.73,
          3.92,
          4.31,
          3.24,
          3.3,
          4.42,
          4.11,
          5.75,
          5.38,
          4.78,
          3.76,
          3.54,
          2.26,
          2.57,
          2.02,
          2.57,
          4.16,
          4.4,
          3.66,
          3.53,
          3.43
         ]
        },
        {
         "marker": {
          "color": "rgb(158,202,225)",
          "line": {
           "color": "rgb(8,48,107)",
           "width": 1.5
          }
         },
         "name": "Rain (mm)",
         "opacity": 0.6,
         "type": "bar",
         "x": [
          "2023-12-08 12:00:00",
          "2023-12-08 15:00:00",
          "2023-12-08 18:00:00",
          "2023-12-08 21:00:00",
          "2023-12-09 00:00:00",
          "2023-12-09 03:00:00",
          "2023-12-09 06:00:00",
          "2023-12-09 09:00:00",
          "2023-12-09 12:00:00",
          "2023-12-09 15:00:00",
          "2023-12-09 18:00:00",
          "2023-12-09 21:00:00",
          "2023-12-10 00:00:00",
          "2023-12-10 03:00:00",
          "2023-12-10 06:00:00",
          "2023-12-10 09:00:00",
          "2023-12-10 12:00:00",
          "2023-12-10 15:00:00",
          "2023-12-10 18:00:00",
          "2023-12-10 21:00:00",
          "2023-12-11 00:00:00",
          "2023-12-11 03:00:00",
          "2023-12-11 06:00:00",
          "2023-12-11 09:00:00",
          "2023-12-11 12:00:00",
          "2023-12-11 15:00:00",
          "2023-12-11 18:00:00",
          "2023-12-11 21:00:00",
          "2023-12-12 00:00:00",
          "2023-12-12 03:00:00",
          "2023-12-12 06:00:00",
          "2023-12-12 09:00:00",
          "2023-12-12 12:00:00",
          "2023-12-12 15:00:00",
          "2023-12-12 18:00:00",
          "2023-12-12 21:00:00",
          "2023-12-13 00:00:00",
          "2023-12-13 03:00:00",
          "2023-12-13 06:00:00",
          "2023-12-13 09:00:00"
         ],
         "y": [
          0,
          0,
          0,
          0,
          0,
          0.13,
          0,
          0,
          1.79,
          3.56,
          1.82,
          0.16,
          0.22,
          1.18,
          2.78,
          0.22,
          0,
          0,
          1.69,
          0.88,
          0,
          0,
          0,
          0,
          0,
          0.92,
          0.51,
          0.13,
          0.15,
          0.15,
          0,
          0,
          0.13,
          1.83,
          0.29,
          0.82,
          2.02,
          0.78,
          1.32,
          0.36
         ]
        }
       ],
       "layout": {
        "template": {
         "data": {
          "bar": [
           {
            "error_x": {
             "color": "#2a3f5f"
            },
            "error_y": {
             "color": "#2a3f5f"
            },
            "marker": {
             "line": {
              "color": "#E5ECF6",
              "width": 0.5
             },
             "pattern": {
              "fillmode": "overlay",
              "size": 10,
              "solidity": 0.2
             }
            },
            "type": "bar"
           }
          ],
          "barpolar": [
           {
            "marker": {
             "line": {
              "color": "#E5ECF6",
              "width": 0.5
             },
             "pattern": {
              "fillmode": "overlay",
              "size": 10,
              "solidity": 0.2
             }
            },
            "type": "barpolar"
           }
          ],
          "carpet": [
           {
            "aaxis": {
             "endlinecolor": "#2a3f5f",
             "gridcolor": "white",
             "linecolor": "white",
             "minorgridcolor": "white",
             "startlinecolor": "#2a3f5f"
            },
            "baxis": {
             "endlinecolor": "#2a3f5f",
             "gridcolor": "white",
             "linecolor": "white",
             "minorgridcolor": "white",
             "startlinecolor": "#2a3f5f"
            },
            "type": "carpet"
           }
          ],
          "choropleth": [
           {
            "colorbar": {
             "outlinewidth": 0,
             "ticks": ""
            },
            "type": "choropleth"
           }
          ],
          "contour": [
           {
            "colorbar": {
             "outlinewidth": 0,
             "ticks": ""
            },
            "colorscale": [
             [
              0,
              "#0d0887"
             ],
             [
              0.1111111111111111,
              "#46039f"
             ],
             [
              0.2222222222222222,
              "#7201a8"
             ],
             [
              0.3333333333333333,
              "#9c179e"
             ],
             [
              0.4444444444444444,
              "#bd3786"
             ],
             [
              0.5555555555555556,
              "#d8576b"
             ],
             [
              0.6666666666666666,
              "#ed7953"
             ],
             [
              0.7777777777777778,
              "#fb9f3a"
             ],
             [
              0.8888888888888888,
              "#fdca26"
             ],
             [
              1,
              "#f0f921"
             ]
            ],
            "type": "contour"
           }
          ],
          "contourcarpet": [
           {
            "colorbar": {
             "outlinewidth": 0,
             "ticks": ""
            },
            "type": "contourcarpet"
           }
          ],
          "heatmap": [
           {
            "colorbar": {
             "outlinewidth": 0,
             "ticks": ""
            },
            "colorscale": [
             [
              0,
              "#0d0887"
             ],
             [
              0.1111111111111111,
              "#46039f"
             ],
             [
              0.2222222222222222,
              "#7201a8"
             ],
             [
              0.3333333333333333,
              "#9c179e"
             ],
             [
              0.4444444444444444,
              "#bd3786"
             ],
             [
              0.5555555555555556,
              "#d8576b"
             ],
             [
              0.6666666666666666,
              "#ed7953"
             ],
             [
              0.7777777777777778,
              "#fb9f3a"
             ],
             [
              0.8888888888888888,
              "#fdca26"
             ],
             [
              1,
              "#f0f921"
             ]
            ],
            "type": "heatmap"
           }
          ],
          "heatmapgl": [
           {
            "colorbar": {
             "outlinewidth": 0,
             "ticks": ""
            },
            "colorscale": [
             [
              0,
              "#0d0887"
             ],
             [
              0.1111111111111111,
              "#46039f"
             ],
             [
              0.2222222222222222,
              "#7201a8"
             ],
             [
              0.3333333333333333,
              "#9c179e"
             ],
             [
              0.4444444444444444,
              "#bd3786"
             ],
             [
              0.5555555555555556,
              "#d8576b"
             ],
             [
              0.6666666666666666,
              "#ed7953"
             ],
             [
              0.7777777777777778,
              "#fb9f3a"
             ],
             [
              0.8888888888888888,
              "#fdca26"
             ],
             [
              1,
              "#f0f921"
             ]
            ],
            "type": "heatmapgl"
           }
          ],
          "histogram": [
           {
            "marker": {
             "pattern": {
              "fillmode": "overlay",
              "size": 10,
              "solidity": 0.2
             }
            },
            "type": "histogram"
           }
          ],
          "histogram2d": [
           {
            "colorbar": {
             "outlinewidth": 0,
             "ticks": ""
            },
            "colorscale": [
             [
              0,
              "#0d0887"
             ],
             [
              0.1111111111111111,
              "#46039f"
             ],
             [
              0.2222222222222222,
              "#7201a8"
             ],
             [
              0.3333333333333333,
              "#9c179e"
             ],
             [
              0.4444444444444444,
              "#bd3786"
             ],
             [
              0.5555555555555556,
              "#d8576b"
             ],
             [
              0.6666666666666666,
              "#ed7953"
             ],
             [
              0.7777777777777778,
              "#fb9f3a"
             ],
             [
              0.8888888888888888,
              "#fdca26"
             ],
             [
              1,
              "#f0f921"
             ]
            ],
            "type": "histogram2d"
           }
          ],
          "histogram2dcontour": [
           {
            "colorbar": {
             "outlinewidth": 0,
             "ticks": ""
            },
            "colorscale": [
             [
              0,
              "#0d0887"
             ],
             [
              0.1111111111111111,
              "#46039f"
             ],
             [
              0.2222222222222222,
              "#7201a8"
             ],
             [
              0.3333333333333333,
              "#9c179e"
             ],
             [
              0.4444444444444444,
              "#bd3786"
             ],
             [
              0.5555555555555556,
              "#d8576b"
             ],
             [
              0.6666666666666666,
              "#ed7953"
             ],
             [
              0.7777777777777778,
              "#fb9f3a"
             ],
             [
              0.8888888888888888,
              "#fdca26"
             ],
             [
              1,
              "#f0f921"
             ]
            ],
            "type": "histogram2dcontour"
           }
          ],
          "mesh3d": [
           {
            "colorbar": {
             "outlinewidth": 0,
             "ticks": ""
            },
            "type": "mesh3d"
           }
          ],
          "parcoords": [
           {
            "line": {
             "colorbar": {
              "outlinewidth": 0,
              "ticks": ""
             }
            },
            "type": "parcoords"
           }
          ],
          "pie": [
           {
            "automargin": true,
            "type": "pie"
           }
          ],
          "scatter": [
           {
            "fillpattern": {
             "fillmode": "overlay",
             "size": 10,
             "solidity": 0.2
            },
            "type": "scatter"
           }
          ],
          "scatter3d": [
           {
            "line": {
             "colorbar": {
              "outlinewidth": 0,
              "ticks": ""
             }
            },
            "marker": {
             "colorbar": {
              "outlinewidth": 0,
              "ticks": ""
             }
            },
            "type": "scatter3d"
           }
          ],
          "scattercarpet": [
           {
            "marker": {
             "colorbar": {
              "outlinewidth": 0,
              "ticks": ""
             }
            },
            "type": "scattercarpet"
           }
          ],
          "scattergeo": [
           {
            "marker": {
             "colorbar": {
              "outlinewidth": 0,
              "ticks": ""
             }
            },
            "type": "scattergeo"
           }
          ],
          "scattergl": [
           {
            "marker": {
             "colorbar": {
              "outlinewidth": 0,
              "ticks": ""
             }
            },
            "type": "scattergl"
           }
          ],
          "scattermapbox": [
           {
            "marker": {
             "colorbar": {
              "outlinewidth": 0,
              "ticks": ""
             }
            },
            "type": "scattermapbox"
           }
          ],
          "scatterpolar": [
           {
            "marker": {
             "colorbar": {
              "outlinewidth": 0,
              "ticks": ""
             }
            },
            "type": "scatterpolar"
           }
          ],
          "scatterpolargl": [
           {
            "marker": {
             "colorbar": {
              "outlinewidth": 0,
              "ticks": ""
             }
            },
            "type": "scatterpolargl"
           }
          ],
          "scatterternary": [
           {
            "marker": {
             "colorbar": {
              "outlinewidth": 0,
              "ticks": ""
             }
            },
            "type": "scatterternary"
           }
          ],
          "surface": [
           {
            "colorbar": {
             "outlinewidth": 0,
             "ticks": ""
            },
            "colorscale": [
             [
              0,
              "#0d0887"
             ],
             [
              0.1111111111111111,
              "#46039f"
             ],
             [
              0.2222222222222222,
              "#7201a8"
             ],
             [
              0.3333333333333333,
              "#9c179e"
             ],
             [
              0.4444444444444444,
              "#bd3786"
             ],
             [
              0.5555555555555556,
              "#d8576b"
             ],
             [
              0.6666666666666666,
              "#ed7953"
             ],
             [
              0.7777777777777778,
              "#fb9f3a"
             ],
             [
              0.8888888888888888,
              "#fdca26"
             ],
             [
              1,
              "#f0f921"
             ]
            ],
            "type": "surface"
           }
          ],
          "table": [
           {
            "cells": {
             "fill": {
              "color": "#EBF0F8"
             },
             "line": {
              "color": "white"
             }
            },
            "header": {
             "fill": {
              "color": "#C8D4E3"
             },
             "line": {
              "color": "white"
             }
            },
            "type": "table"
           }
          ]
         },
         "layout": {
          "annotationdefaults": {
           "arrowcolor": "#2a3f5f",
           "arrowhead": 0,
           "arrowwidth": 1
          },
          "autotypenumbers": "strict",
          "coloraxis": {
           "colorbar": {
            "outlinewidth": 0,
            "ticks": ""
           }
          },
          "colorscale": {
           "diverging": [
            [
             0,
             "#8e0152"
            ],
            [
             0.1,
             "#c51b7d"
            ],
            [
             0.2,
             "#de77ae"
            ],
            [
             0.3,
             "#f1b6da"
            ],
            [
             0.4,
             "#fde0ef"
            ],
            [
             0.5,
             "#f7f7f7"
            ],
            [
             0.6,
             "#e6f5d0"
            ],
            [
             0.7,
             "#b8e186"
            ],
            [
             0.8,
             "#7fbc41"
            ],
            [
             0.9,
             "#4d9221"
            ],
            [
             1,
             "#276419"
            ]
           ],
           "sequential": [
            [
             0,
             "#0d0887"
            ],
            [
             0.1111111111111111,
             "#46039f"
            ],
            [
             0.2222222222222222,
             "#7201a8"
            ],
            [
             0.3333333333333333,
             "#9c179e"
            ],
            [
             0.4444444444444444,
             "#bd3786"
            ],
            [
             0.5555555555555556,
             "#d8576b"
            ],
            [
             0.6666666666666666,
             "#ed7953"
            ],
            [
             0.7777777777777778,
             "#fb9f3a"
            ],
            [
             0.8888888888888888,
             "#fdca26"
            ],
            [
             1,
             "#f0f921"
            ]
           ],
           "sequentialminus": [
            [
             0,
             "#0d0887"
            ],
            [
             0.1111111111111111,
             "#46039f"
            ],
            [
             0.2222222222222222,
             "#7201a8"
            ],
            [
             0.3333333333333333,
             "#9c179e"
            ],
            [
             0.4444444444444444,
             "#bd3786"
            ],
            [
             0.5555555555555556,
             "#d8576b"
            ],
            [
             0.6666666666666666,
             "#ed7953"
            ],
            [
             0.7777777777777778,
             "#fb9f3a"
            ],
            [
             0.8888888888888888,
             "#fdca26"
            ],
            [
             1,
             "#f0f921"
            ]
           ]
          },
          "colorway": [
           "#636efa",
           "#EF553B",
           "#00cc96",
           "#ab63fa",
           "#FFA15A",
           "#19d3f3",
           "#FF6692",
           "#B6E880",
           "#FF97FF",
           "#FECB52"
          ],
          "font": {
           "color": "#2a3f5f"
          },
          "geo": {
           "bgcolor": "white",
           "lakecolor": "white",
           "landcolor": "#E5ECF6",
           "showlakes": true,
           "showland": true,
           "subunitcolor": "white"
          },
          "hoverlabel": {
           "align": "left"
          },
          "hovermode": "closest",
          "mapbox": {
           "style": "light"
          },
          "paper_bgcolor": "white",
          "plot_bgcolor": "#E5ECF6",
          "polar": {
           "angularaxis": {
            "gridcolor": "white",
            "linecolor": "white",
            "ticks": ""
           },
           "bgcolor": "#E5ECF6",
           "radialaxis": {
            "gridcolor": "white",
            "linecolor": "white",
            "ticks": ""
           }
          },
          "scene": {
           "xaxis": {
            "backgroundcolor": "#E5ECF6",
            "gridcolor": "white",
            "gridwidth": 2,
            "linecolor": "white",
            "showbackground": true,
            "ticks": "",
            "zerolinecolor": "white"
           },
           "yaxis": {
            "backgroundcolor": "#E5ECF6",
            "gridcolor": "white",
            "gridwidth": 2,
            "linecolor": "white",
            "showbackground": true,
            "ticks": "",
            "zerolinecolor": "white"
           },
           "zaxis": {
            "backgroundcolor": "#E5ECF6",
            "gridcolor": "white",
            "gridwidth": 2,
            "linecolor": "white",
            "showbackground": true,
            "ticks": "",
            "zerolinecolor": "white"
           }
          },
          "shapedefaults": {
           "line": {
            "color": "#2a3f5f"
           }
          },
          "ternary": {
           "aaxis": {
            "gridcolor": "white",
            "linecolor": "white",
            "ticks": ""
           },
           "baxis": {
            "gridcolor": "white",
            "linecolor": "white",
            "ticks": ""
           },
           "bgcolor": "#E5ECF6",
           "caxis": {
            "gridcolor": "white",
            "linecolor": "white",
            "ticks": ""
           }
          },
          "title": {
           "x": 0.05
          },
          "xaxis": {
           "automargin": true,
           "gridcolor": "white",
           "linecolor": "white",
           "ticks": "",
           "title": {
            "standoff": 15
           },
           "zerolinecolor": "white",
           "zerolinewidth": 2
          },
          "yaxis": {
           "automargin": true,
           "gridcolor": "white",
           "linecolor": "white",
           "ticks": "",
           "title": {
            "standoff": 15
           },
           "zerolinecolor": "white",
           "zerolinewidth": 2
          }
         }
        }
       }
      }
     },
     "metadata": {},
     "output_type": "display_data"
    }
   ],
   "source": [
    "# show the figure\n",
    "fig.show()"
   ]
  },
  {
   "cell_type": "code",
   "execution_count": null,
   "metadata": {},
   "outputs": [],
   "source": []
  },
  {
   "cell_type": "markdown",
   "metadata": {},
   "source": [
    "# Grafiek met alle steden\n"
   ]
  },
  {
   "cell_type": "code",
   "execution_count": 88,
   "metadata": {},
   "outputs": [
    {
     "data": {
      "text/html": [
       "<div>\n",
       "<style scoped>\n",
       "    .dataframe tbody tr th:only-of-type {\n",
       "        vertical-align: middle;\n",
       "    }\n",
       "\n",
       "    .dataframe tbody tr th {\n",
       "        vertical-align: top;\n",
       "    }\n",
       "\n",
       "    .dataframe thead th {\n",
       "        text-align: right;\n",
       "    }\n",
       "</style>\n",
       "<table border=\"1\" class=\"dataframe\">\n",
       "  <thead>\n",
       "    <tr style=\"text-align: right;\">\n",
       "      <th></th>\n",
       "      <th>date</th>\n",
       "      <th>city</th>\n",
       "      <th>temperature</th>\n",
       "      <th>feels_like</th>\n",
       "      <th>rain_mm</th>\n",
       "      <th>wind_speed</th>\n",
       "      <th>description</th>\n",
       "    </tr>\n",
       "  </thead>\n",
       "  <tbody>\n",
       "    <tr>\n",
       "      <th>0</th>\n",
       "      <td>2023-12-08 12:00:00</td>\n",
       "      <td>Amsterdam</td>\n",
       "      <td>4.27</td>\n",
       "      <td>1.97</td>\n",
       "      <td>0.00</td>\n",
       "      <td>2.58</td>\n",
       "      <td>broken clouds</td>\n",
       "    </tr>\n",
       "    <tr>\n",
       "      <th>1</th>\n",
       "      <td>2023-12-08 15:00:00</td>\n",
       "      <td>Amsterdam</td>\n",
       "      <td>6.17</td>\n",
       "      <td>3.91</td>\n",
       "      <td>0.00</td>\n",
       "      <td>3.00</td>\n",
       "      <td>overcast clouds</td>\n",
       "    </tr>\n",
       "    <tr>\n",
       "      <th>2</th>\n",
       "      <td>2023-12-08 18:00:00</td>\n",
       "      <td>Amsterdam</td>\n",
       "      <td>6.17</td>\n",
       "      <td>3.60</td>\n",
       "      <td>0.00</td>\n",
       "      <td>3.48</td>\n",
       "      <td>broken clouds</td>\n",
       "    </tr>\n",
       "    <tr>\n",
       "      <th>3</th>\n",
       "      <td>2023-12-08 21:00:00</td>\n",
       "      <td>Amsterdam</td>\n",
       "      <td>7.08</td>\n",
       "      <td>4.01</td>\n",
       "      <td>0.00</td>\n",
       "      <td>4.84</td>\n",
       "      <td>broken clouds</td>\n",
       "    </tr>\n",
       "    <tr>\n",
       "      <th>4</th>\n",
       "      <td>2023-12-09 00:00:00</td>\n",
       "      <td>Amsterdam</td>\n",
       "      <td>7.45</td>\n",
       "      <td>4.35</td>\n",
       "      <td>0.00</td>\n",
       "      <td>5.13</td>\n",
       "      <td>overcast clouds</td>\n",
       "    </tr>\n",
       "    <tr>\n",
       "      <th>...</th>\n",
       "      <td>...</td>\n",
       "      <td>...</td>\n",
       "      <td>...</td>\n",
       "      <td>...</td>\n",
       "      <td>...</td>\n",
       "      <td>...</td>\n",
       "      <td>...</td>\n",
       "    </tr>\n",
       "    <tr>\n",
       "      <th>155</th>\n",
       "      <td>2023-12-12 21:00:00</td>\n",
       "      <td>Provincie Utrecht</td>\n",
       "      <td>9.40</td>\n",
       "      <td>7.25</td>\n",
       "      <td>0.25</td>\n",
       "      <td>4.04</td>\n",
       "      <td>light rain</td>\n",
       "    </tr>\n",
       "    <tr>\n",
       "      <th>156</th>\n",
       "      <td>2023-12-13 00:00:00</td>\n",
       "      <td>Provincie Utrecht</td>\n",
       "      <td>9.04</td>\n",
       "      <td>6.67</td>\n",
       "      <td>1.88</td>\n",
       "      <td>4.32</td>\n",
       "      <td>light rain</td>\n",
       "    </tr>\n",
       "    <tr>\n",
       "      <th>157</th>\n",
       "      <td>2023-12-13 03:00:00</td>\n",
       "      <td>Provincie Utrecht</td>\n",
       "      <td>8.21</td>\n",
       "      <td>6.20</td>\n",
       "      <td>0.13</td>\n",
       "      <td>3.26</td>\n",
       "      <td>light rain</td>\n",
       "    </tr>\n",
       "    <tr>\n",
       "      <th>158</th>\n",
       "      <td>2023-12-13 06:00:00</td>\n",
       "      <td>Provincie Utrecht</td>\n",
       "      <td>8.71</td>\n",
       "      <td>6.16</td>\n",
       "      <td>0.13</td>\n",
       "      <td>4.55</td>\n",
       "      <td>light rain</td>\n",
       "    </tr>\n",
       "    <tr>\n",
       "      <th>159</th>\n",
       "      <td>2023-12-13 09:00:00</td>\n",
       "      <td>Provincie Utrecht</td>\n",
       "      <td>8.34</td>\n",
       "      <td>6.14</td>\n",
       "      <td>0.00</td>\n",
       "      <td>3.66</td>\n",
       "      <td>overcast clouds</td>\n",
       "    </tr>\n",
       "  </tbody>\n",
       "</table>\n",
       "<p>160 rows × 7 columns</p>\n",
       "</div>"
      ],
      "text/plain": [
       "                    date               city  temperature  feels_like  rain_mm  \\\n",
       "0    2023-12-08 12:00:00          Amsterdam         4.27        1.97     0.00   \n",
       "1    2023-12-08 15:00:00          Amsterdam         6.17        3.91     0.00   \n",
       "2    2023-12-08 18:00:00          Amsterdam         6.17        3.60     0.00   \n",
       "3    2023-12-08 21:00:00          Amsterdam         7.08        4.01     0.00   \n",
       "4    2023-12-09 00:00:00          Amsterdam         7.45        4.35     0.00   \n",
       "..                   ...                ...          ...         ...      ...   \n",
       "155  2023-12-12 21:00:00  Provincie Utrecht         9.40        7.25     0.25   \n",
       "156  2023-12-13 00:00:00  Provincie Utrecht         9.04        6.67     1.88   \n",
       "157  2023-12-13 03:00:00  Provincie Utrecht         8.21        6.20     0.13   \n",
       "158  2023-12-13 06:00:00  Provincie Utrecht         8.71        6.16     0.13   \n",
       "159  2023-12-13 09:00:00  Provincie Utrecht         8.34        6.14     0.00   \n",
       "\n",
       "     wind_speed      description  \n",
       "0          2.58    broken clouds  \n",
       "1          3.00  overcast clouds  \n",
       "2          3.48    broken clouds  \n",
       "3          4.84    broken clouds  \n",
       "4          5.13  overcast clouds  \n",
       "..          ...              ...  \n",
       "155        4.04       light rain  \n",
       "156        4.32       light rain  \n",
       "157        3.26       light rain  \n",
       "158        4.55       light rain  \n",
       "159        3.66  overcast clouds  \n",
       "\n",
       "[160 rows x 7 columns]"
      ]
     },
     "execution_count": 88,
     "metadata": {},
     "output_type": "execute_result"
    }
   ],
   "source": [
    "weather_df_all"
   ]
  },
  {
   "cell_type": "code",
   "execution_count": 102,
   "metadata": {},
   "outputs": [],
   "source": [
    "# initiate the figure\n",
    "fig_all = go.Figure()"
   ]
  },
  {
   "cell_type": "code",
   "execution_count": 103,
   "metadata": {},
   "outputs": [
    {
     "data": {
      "text/plain": [
       "Index(['date', 'city', 'temperature', 'feels_like', 'rain_mm', 'wind_speed',\n",
       "       'description'],\n",
       "      dtype='object')"
      ]
     },
     "execution_count": 103,
     "metadata": {},
     "output_type": "execute_result"
    }
   ],
   "source": [
    "weather_df_all.columns"
   ]
  },
  {
   "cell_type": "code",
   "execution_count": 104,
   "metadata": {},
   "outputs": [],
   "source": [
    "# add bars for all the cities in the list\n",
    "unique_cities = weather_df_all['city'].unique()\n",
    "\n",
    "# define the colours\n",
    "colors = [\"green\", \"red\", \"blue\", \"yellow\"]\n",
    "\n",
    "for idx, city in enumerate(unique_cities):\n",
    "    # create a subset\n",
    "    df = weather_df_all.query(\"city == @city\")\n",
    "    \n",
    "    # add the rain\n",
    "    fig_all.add_trace(go.Bar(x=df['date'], y=df['temperature'], \n",
    "                        name=f'Temperature: {city}',\n",
    "                        text=df['temperature'],\n",
    "                        marker=dict(\n",
    "                        color=colors[idx],\n",
    "                        line=dict(\n",
    "                            color='rgb(8,48,107)',\n",
    "                            width=1.5),\n",
    "                        ),\n",
    "                        opacity=0.6))"
   ]
  },
  {
   "cell_type": "code",
   "execution_count": 105,
   "metadata": {},
   "outputs": [
    {
     "data": {
      "application/vnd.plotly.v1+json": {
       "config": {
        "plotlyServerURL": "https://plot.ly"
       },
       "data": [
        {
         "marker": {
          "color": "green",
          "line": {
           "color": "rgb(8,48,107)",
           "width": 1.5
          }
         },
         "name": "Temperature: Amsterdam",
         "opacity": 0.6,
         "text": [
          4.27,
          6.17,
          6.17,
          7.08,
          7.45,
          6.96,
          6.67,
          6.06,
          7.11,
          7.46,
          10.84,
          9.16,
          8.26,
          6.91,
          8.48,
          8.27,
          8.64,
          8.44,
          7.74,
          7.49,
          9.23,
          8.59,
          7.65,
          7.98,
          9.56,
          9.11,
          9.44,
          10.08,
          9.92,
          9.43,
          9.02,
          9.3,
          9.82,
          9.45,
          8.8,
          9.22,
          9.21,
          8.93,
          8.45,
          8.61
         ],
         "type": "bar",
         "x": [
          "2023-12-08 12:00:00",
          "2023-12-08 15:00:00",
          "2023-12-08 18:00:00",
          "2023-12-08 21:00:00",
          "2023-12-09 00:00:00",
          "2023-12-09 03:00:00",
          "2023-12-09 06:00:00",
          "2023-12-09 09:00:00",
          "2023-12-09 12:00:00",
          "2023-12-09 15:00:00",
          "2023-12-09 18:00:00",
          "2023-12-09 21:00:00",
          "2023-12-10 00:00:00",
          "2023-12-10 03:00:00",
          "2023-12-10 06:00:00",
          "2023-12-10 09:00:00",
          "2023-12-10 12:00:00",
          "2023-12-10 15:00:00",
          "2023-12-10 18:00:00",
          "2023-12-10 21:00:00",
          "2023-12-11 00:00:00",
          "2023-12-11 03:00:00",
          "2023-12-11 06:00:00",
          "2023-12-11 09:00:00",
          "2023-12-11 12:00:00",
          "2023-12-11 15:00:00",
          "2023-12-11 18:00:00",
          "2023-12-11 21:00:00",
          "2023-12-12 00:00:00",
          "2023-12-12 03:00:00",
          "2023-12-12 06:00:00",
          "2023-12-12 09:00:00",
          "2023-12-12 12:00:00",
          "2023-12-12 15:00:00",
          "2023-12-12 18:00:00",
          "2023-12-12 21:00:00",
          "2023-12-13 00:00:00",
          "2023-12-13 03:00:00",
          "2023-12-13 06:00:00",
          "2023-12-13 09:00:00"
         ],
         "y": [
          4.27,
          6.17,
          6.17,
          7.08,
          7.45,
          6.96,
          6.67,
          6.06,
          7.11,
          7.46,
          10.84,
          9.16,
          8.26,
          6.91,
          8.48,
          8.27,
          8.64,
          8.44,
          7.74,
          7.49,
          9.23,
          8.59,
          7.65,
          7.98,
          9.56,
          9.11,
          9.44,
          10.08,
          9.92,
          9.43,
          9.02,
          9.3,
          9.82,
          9.45,
          8.8,
          9.22,
          9.21,
          8.93,
          8.45,
          8.61
         ]
        },
        {
         "marker": {
          "color": "red",
          "line": {
           "color": "rgb(8,48,107)",
           "width": 1.5
          }
         },
         "name": "Temperature: Gemeente Eindhoven",
         "opacity": 0.6,
         "text": [
          6.13,
          7.04,
          7.46,
          7.89,
          7.13,
          6.57,
          6.14,
          6.95,
          7.49,
          8.25,
          11.49,
          9.08,
          8.51,
          7.66,
          7.95,
          8.41,
          9.12,
          9.17,
          8.31,
          9.54,
          10.46,
          9.9,
          8.67,
          8.52,
          10.25,
          9.88,
          9.53,
          10.11,
          9.84,
          8.82,
          8.9,
          9.24,
          9.86,
          9.54,
          9.52,
          9.31,
          9.06,
          9.02,
          8.33,
          8.24
         ],
         "type": "bar",
         "x": [
          "2023-12-08 12:00:00",
          "2023-12-08 15:00:00",
          "2023-12-08 18:00:00",
          "2023-12-08 21:00:00",
          "2023-12-09 00:00:00",
          "2023-12-09 03:00:00",
          "2023-12-09 06:00:00",
          "2023-12-09 09:00:00",
          "2023-12-09 12:00:00",
          "2023-12-09 15:00:00",
          "2023-12-09 18:00:00",
          "2023-12-09 21:00:00",
          "2023-12-10 00:00:00",
          "2023-12-10 03:00:00",
          "2023-12-10 06:00:00",
          "2023-12-10 09:00:00",
          "2023-12-10 12:00:00",
          "2023-12-10 15:00:00",
          "2023-12-10 18:00:00",
          "2023-12-10 21:00:00",
          "2023-12-11 00:00:00",
          "2023-12-11 03:00:00",
          "2023-12-11 06:00:00",
          "2023-12-11 09:00:00",
          "2023-12-11 12:00:00",
          "2023-12-11 15:00:00",
          "2023-12-11 18:00:00",
          "2023-12-11 21:00:00",
          "2023-12-12 00:00:00",
          "2023-12-12 03:00:00",
          "2023-12-12 06:00:00",
          "2023-12-12 09:00:00",
          "2023-12-12 12:00:00",
          "2023-12-12 15:00:00",
          "2023-12-12 18:00:00",
          "2023-12-12 21:00:00",
          "2023-12-13 00:00:00",
          "2023-12-13 03:00:00",
          "2023-12-13 06:00:00",
          "2023-12-13 09:00:00"
         ],
         "y": [
          6.13,
          7.04,
          7.46,
          7.89,
          7.13,
          6.57,
          6.14,
          6.95,
          7.49,
          8.25,
          11.49,
          9.08,
          8.51,
          7.66,
          7.95,
          8.41,
          9.12,
          9.17,
          8.31,
          9.54,
          10.46,
          9.9,
          8.67,
          8.52,
          10.25,
          9.88,
          9.53,
          10.11,
          9.84,
          8.82,
          8.9,
          9.24,
          9.86,
          9.54,
          9.52,
          9.31,
          9.06,
          9.02,
          8.33,
          8.24
         ]
        },
        {
         "marker": {
          "color": "blue",
          "line": {
           "color": "rgb(8,48,107)",
           "width": 1.5
          }
         },
         "name": "Temperature: Enschede",
         "opacity": 0.6,
         "text": [
          2.58,
          3.82,
          5.99,
          6.52,
          7.16,
          5.8,
          5.33,
          5.8,
          7.18,
          6.54,
          6.85,
          9.6,
          7.88,
          6.77,
          6.03,
          7.77,
          7.78,
          7.86,
          6.94,
          6.71,
          6.91,
          8.65,
          7.69,
          8.27,
          9,
          8.48,
          8.91,
          9.21,
          9.39,
          9.06,
          8.49,
          8.59,
          9.88,
          9,
          8.61,
          8.61,
          8.39,
          8.19,
          8.36,
          8.44
         ],
         "type": "bar",
         "x": [
          "2023-12-08 12:00:00",
          "2023-12-08 15:00:00",
          "2023-12-08 18:00:00",
          "2023-12-08 21:00:00",
          "2023-12-09 00:00:00",
          "2023-12-09 03:00:00",
          "2023-12-09 06:00:00",
          "2023-12-09 09:00:00",
          "2023-12-09 12:00:00",
          "2023-12-09 15:00:00",
          "2023-12-09 18:00:00",
          "2023-12-09 21:00:00",
          "2023-12-10 00:00:00",
          "2023-12-10 03:00:00",
          "2023-12-10 06:00:00",
          "2023-12-10 09:00:00",
          "2023-12-10 12:00:00",
          "2023-12-10 15:00:00",
          "2023-12-10 18:00:00",
          "2023-12-10 21:00:00",
          "2023-12-11 00:00:00",
          "2023-12-11 03:00:00",
          "2023-12-11 06:00:00",
          "2023-12-11 09:00:00",
          "2023-12-11 12:00:00",
          "2023-12-11 15:00:00",
          "2023-12-11 18:00:00",
          "2023-12-11 21:00:00",
          "2023-12-12 00:00:00",
          "2023-12-12 03:00:00",
          "2023-12-12 06:00:00",
          "2023-12-12 09:00:00",
          "2023-12-12 12:00:00",
          "2023-12-12 15:00:00",
          "2023-12-12 18:00:00",
          "2023-12-12 21:00:00",
          "2023-12-13 00:00:00",
          "2023-12-13 03:00:00",
          "2023-12-13 06:00:00",
          "2023-12-13 09:00:00"
         ],
         "y": [
          2.58,
          3.82,
          5.99,
          6.52,
          7.16,
          5.8,
          5.33,
          5.8,
          7.18,
          6.54,
          6.85,
          9.6,
          7.88,
          6.77,
          6.03,
          7.77,
          7.78,
          7.86,
          6.94,
          6.71,
          6.91,
          8.65,
          7.69,
          8.27,
          9,
          8.48,
          8.91,
          9.21,
          9.39,
          9.06,
          8.49,
          8.59,
          9.88,
          9,
          8.61,
          8.61,
          8.39,
          8.19,
          8.36,
          8.44
         ]
        },
        {
         "marker": {
          "color": "yellow",
          "line": {
           "color": "rgb(8,48,107)",
           "width": 1.5
          }
         },
         "name": "Temperature: Provincie Utrecht",
         "opacity": 0.6,
         "text": [
          4.77,
          6.2,
          7.24,
          6.66,
          6.23,
          6.32,
          6.12,
          6.24,
          7.27,
          7.63,
          10.98,
          8.82,
          7.76,
          7.01,
          7.91,
          8.03,
          8.47,
          8.22,
          8.17,
          7.36,
          9.59,
          9.25,
          8.55,
          7.41,
          9.68,
          9.73,
          9.68,
          9.92,
          9.94,
          9.3,
          9.12,
          8.99,
          10.11,
          9.52,
          9.49,
          9.4,
          9.04,
          8.21,
          8.71,
          8.34
         ],
         "type": "bar",
         "x": [
          "2023-12-08 12:00:00",
          "2023-12-08 15:00:00",
          "2023-12-08 18:00:00",
          "2023-12-08 21:00:00",
          "2023-12-09 00:00:00",
          "2023-12-09 03:00:00",
          "2023-12-09 06:00:00",
          "2023-12-09 09:00:00",
          "2023-12-09 12:00:00",
          "2023-12-09 15:00:00",
          "2023-12-09 18:00:00",
          "2023-12-09 21:00:00",
          "2023-12-10 00:00:00",
          "2023-12-10 03:00:00",
          "2023-12-10 06:00:00",
          "2023-12-10 09:00:00",
          "2023-12-10 12:00:00",
          "2023-12-10 15:00:00",
          "2023-12-10 18:00:00",
          "2023-12-10 21:00:00",
          "2023-12-11 00:00:00",
          "2023-12-11 03:00:00",
          "2023-12-11 06:00:00",
          "2023-12-11 09:00:00",
          "2023-12-11 12:00:00",
          "2023-12-11 15:00:00",
          "2023-12-11 18:00:00",
          "2023-12-11 21:00:00",
          "2023-12-12 00:00:00",
          "2023-12-12 03:00:00",
          "2023-12-12 06:00:00",
          "2023-12-12 09:00:00",
          "2023-12-12 12:00:00",
          "2023-12-12 15:00:00",
          "2023-12-12 18:00:00",
          "2023-12-12 21:00:00",
          "2023-12-13 00:00:00",
          "2023-12-13 03:00:00",
          "2023-12-13 06:00:00",
          "2023-12-13 09:00:00"
         ],
         "y": [
          4.77,
          6.2,
          7.24,
          6.66,
          6.23,
          6.32,
          6.12,
          6.24,
          7.27,
          7.63,
          10.98,
          8.82,
          7.76,
          7.01,
          7.91,
          8.03,
          8.47,
          8.22,
          8.17,
          7.36,
          9.59,
          9.25,
          8.55,
          7.41,
          9.68,
          9.73,
          9.68,
          9.92,
          9.94,
          9.3,
          9.12,
          8.99,
          10.11,
          9.52,
          9.49,
          9.4,
          9.04,
          8.21,
          8.71,
          8.34
         ]
        }
       ],
       "layout": {
        "template": {
         "data": {
          "bar": [
           {
            "error_x": {
             "color": "#2a3f5f"
            },
            "error_y": {
             "color": "#2a3f5f"
            },
            "marker": {
             "line": {
              "color": "#E5ECF6",
              "width": 0.5
             },
             "pattern": {
              "fillmode": "overlay",
              "size": 10,
              "solidity": 0.2
             }
            },
            "type": "bar"
           }
          ],
          "barpolar": [
           {
            "marker": {
             "line": {
              "color": "#E5ECF6",
              "width": 0.5
             },
             "pattern": {
              "fillmode": "overlay",
              "size": 10,
              "solidity": 0.2
             }
            },
            "type": "barpolar"
           }
          ],
          "carpet": [
           {
            "aaxis": {
             "endlinecolor": "#2a3f5f",
             "gridcolor": "white",
             "linecolor": "white",
             "minorgridcolor": "white",
             "startlinecolor": "#2a3f5f"
            },
            "baxis": {
             "endlinecolor": "#2a3f5f",
             "gridcolor": "white",
             "linecolor": "white",
             "minorgridcolor": "white",
             "startlinecolor": "#2a3f5f"
            },
            "type": "carpet"
           }
          ],
          "choropleth": [
           {
            "colorbar": {
             "outlinewidth": 0,
             "ticks": ""
            },
            "type": "choropleth"
           }
          ],
          "contour": [
           {
            "colorbar": {
             "outlinewidth": 0,
             "ticks": ""
            },
            "colorscale": [
             [
              0,
              "#0d0887"
             ],
             [
              0.1111111111111111,
              "#46039f"
             ],
             [
              0.2222222222222222,
              "#7201a8"
             ],
             [
              0.3333333333333333,
              "#9c179e"
             ],
             [
              0.4444444444444444,
              "#bd3786"
             ],
             [
              0.5555555555555556,
              "#d8576b"
             ],
             [
              0.6666666666666666,
              "#ed7953"
             ],
             [
              0.7777777777777778,
              "#fb9f3a"
             ],
             [
              0.8888888888888888,
              "#fdca26"
             ],
             [
              1,
              "#f0f921"
             ]
            ],
            "type": "contour"
           }
          ],
          "contourcarpet": [
           {
            "colorbar": {
             "outlinewidth": 0,
             "ticks": ""
            },
            "type": "contourcarpet"
           }
          ],
          "heatmap": [
           {
            "colorbar": {
             "outlinewidth": 0,
             "ticks": ""
            },
            "colorscale": [
             [
              0,
              "#0d0887"
             ],
             [
              0.1111111111111111,
              "#46039f"
             ],
             [
              0.2222222222222222,
              "#7201a8"
             ],
             [
              0.3333333333333333,
              "#9c179e"
             ],
             [
              0.4444444444444444,
              "#bd3786"
             ],
             [
              0.5555555555555556,
              "#d8576b"
             ],
             [
              0.6666666666666666,
              "#ed7953"
             ],
             [
              0.7777777777777778,
              "#fb9f3a"
             ],
             [
              0.8888888888888888,
              "#fdca26"
             ],
             [
              1,
              "#f0f921"
             ]
            ],
            "type": "heatmap"
           }
          ],
          "heatmapgl": [
           {
            "colorbar": {
             "outlinewidth": 0,
             "ticks": ""
            },
            "colorscale": [
             [
              0,
              "#0d0887"
             ],
             [
              0.1111111111111111,
              "#46039f"
             ],
             [
              0.2222222222222222,
              "#7201a8"
             ],
             [
              0.3333333333333333,
              "#9c179e"
             ],
             [
              0.4444444444444444,
              "#bd3786"
             ],
             [
              0.5555555555555556,
              "#d8576b"
             ],
             [
              0.6666666666666666,
              "#ed7953"
             ],
             [
              0.7777777777777778,
              "#fb9f3a"
             ],
             [
              0.8888888888888888,
              "#fdca26"
             ],
             [
              1,
              "#f0f921"
             ]
            ],
            "type": "heatmapgl"
           }
          ],
          "histogram": [
           {
            "marker": {
             "pattern": {
              "fillmode": "overlay",
              "size": 10,
              "solidity": 0.2
             }
            },
            "type": "histogram"
           }
          ],
          "histogram2d": [
           {
            "colorbar": {
             "outlinewidth": 0,
             "ticks": ""
            },
            "colorscale": [
             [
              0,
              "#0d0887"
             ],
             [
              0.1111111111111111,
              "#46039f"
             ],
             [
              0.2222222222222222,
              "#7201a8"
             ],
             [
              0.3333333333333333,
              "#9c179e"
             ],
             [
              0.4444444444444444,
              "#bd3786"
             ],
             [
              0.5555555555555556,
              "#d8576b"
             ],
             [
              0.6666666666666666,
              "#ed7953"
             ],
             [
              0.7777777777777778,
              "#fb9f3a"
             ],
             [
              0.8888888888888888,
              "#fdca26"
             ],
             [
              1,
              "#f0f921"
             ]
            ],
            "type": "histogram2d"
           }
          ],
          "histogram2dcontour": [
           {
            "colorbar": {
             "outlinewidth": 0,
             "ticks": ""
            },
            "colorscale": [
             [
              0,
              "#0d0887"
             ],
             [
              0.1111111111111111,
              "#46039f"
             ],
             [
              0.2222222222222222,
              "#7201a8"
             ],
             [
              0.3333333333333333,
              "#9c179e"
             ],
             [
              0.4444444444444444,
              "#bd3786"
             ],
             [
              0.5555555555555556,
              "#d8576b"
             ],
             [
              0.6666666666666666,
              "#ed7953"
             ],
             [
              0.7777777777777778,
              "#fb9f3a"
             ],
             [
              0.8888888888888888,
              "#fdca26"
             ],
             [
              1,
              "#f0f921"
             ]
            ],
            "type": "histogram2dcontour"
           }
          ],
          "mesh3d": [
           {
            "colorbar": {
             "outlinewidth": 0,
             "ticks": ""
            },
            "type": "mesh3d"
           }
          ],
          "parcoords": [
           {
            "line": {
             "colorbar": {
              "outlinewidth": 0,
              "ticks": ""
             }
            },
            "type": "parcoords"
           }
          ],
          "pie": [
           {
            "automargin": true,
            "type": "pie"
           }
          ],
          "scatter": [
           {
            "fillpattern": {
             "fillmode": "overlay",
             "size": 10,
             "solidity": 0.2
            },
            "type": "scatter"
           }
          ],
          "scatter3d": [
           {
            "line": {
             "colorbar": {
              "outlinewidth": 0,
              "ticks": ""
             }
            },
            "marker": {
             "colorbar": {
              "outlinewidth": 0,
              "ticks": ""
             }
            },
            "type": "scatter3d"
           }
          ],
          "scattercarpet": [
           {
            "marker": {
             "colorbar": {
              "outlinewidth": 0,
              "ticks": ""
             }
            },
            "type": "scattercarpet"
           }
          ],
          "scattergeo": [
           {
            "marker": {
             "colorbar": {
              "outlinewidth": 0,
              "ticks": ""
             }
            },
            "type": "scattergeo"
           }
          ],
          "scattergl": [
           {
            "marker": {
             "colorbar": {
              "outlinewidth": 0,
              "ticks": ""
             }
            },
            "type": "scattergl"
           }
          ],
          "scattermapbox": [
           {
            "marker": {
             "colorbar": {
              "outlinewidth": 0,
              "ticks": ""
             }
            },
            "type": "scattermapbox"
           }
          ],
          "scatterpolar": [
           {
            "marker": {
             "colorbar": {
              "outlinewidth": 0,
              "ticks": ""
             }
            },
            "type": "scatterpolar"
           }
          ],
          "scatterpolargl": [
           {
            "marker": {
             "colorbar": {
              "outlinewidth": 0,
              "ticks": ""
             }
            },
            "type": "scatterpolargl"
           }
          ],
          "scatterternary": [
           {
            "marker": {
             "colorbar": {
              "outlinewidth": 0,
              "ticks": ""
             }
            },
            "type": "scatterternary"
           }
          ],
          "surface": [
           {
            "colorbar": {
             "outlinewidth": 0,
             "ticks": ""
            },
            "colorscale": [
             [
              0,
              "#0d0887"
             ],
             [
              0.1111111111111111,
              "#46039f"
             ],
             [
              0.2222222222222222,
              "#7201a8"
             ],
             [
              0.3333333333333333,
              "#9c179e"
             ],
             [
              0.4444444444444444,
              "#bd3786"
             ],
             [
              0.5555555555555556,
              "#d8576b"
             ],
             [
              0.6666666666666666,
              "#ed7953"
             ],
             [
              0.7777777777777778,
              "#fb9f3a"
             ],
             [
              0.8888888888888888,
              "#fdca26"
             ],
             [
              1,
              "#f0f921"
             ]
            ],
            "type": "surface"
           }
          ],
          "table": [
           {
            "cells": {
             "fill": {
              "color": "#EBF0F8"
             },
             "line": {
              "color": "white"
             }
            },
            "header": {
             "fill": {
              "color": "#C8D4E3"
             },
             "line": {
              "color": "white"
             }
            },
            "type": "table"
           }
          ]
         },
         "layout": {
          "annotationdefaults": {
           "arrowcolor": "#2a3f5f",
           "arrowhead": 0,
           "arrowwidth": 1
          },
          "autotypenumbers": "strict",
          "coloraxis": {
           "colorbar": {
            "outlinewidth": 0,
            "ticks": ""
           }
          },
          "colorscale": {
           "diverging": [
            [
             0,
             "#8e0152"
            ],
            [
             0.1,
             "#c51b7d"
            ],
            [
             0.2,
             "#de77ae"
            ],
            [
             0.3,
             "#f1b6da"
            ],
            [
             0.4,
             "#fde0ef"
            ],
            [
             0.5,
             "#f7f7f7"
            ],
            [
             0.6,
             "#e6f5d0"
            ],
            [
             0.7,
             "#b8e186"
            ],
            [
             0.8,
             "#7fbc41"
            ],
            [
             0.9,
             "#4d9221"
            ],
            [
             1,
             "#276419"
            ]
           ],
           "sequential": [
            [
             0,
             "#0d0887"
            ],
            [
             0.1111111111111111,
             "#46039f"
            ],
            [
             0.2222222222222222,
             "#7201a8"
            ],
            [
             0.3333333333333333,
             "#9c179e"
            ],
            [
             0.4444444444444444,
             "#bd3786"
            ],
            [
             0.5555555555555556,
             "#d8576b"
            ],
            [
             0.6666666666666666,
             "#ed7953"
            ],
            [
             0.7777777777777778,
             "#fb9f3a"
            ],
            [
             0.8888888888888888,
             "#fdca26"
            ],
            [
             1,
             "#f0f921"
            ]
           ],
           "sequentialminus": [
            [
             0,
             "#0d0887"
            ],
            [
             0.1111111111111111,
             "#46039f"
            ],
            [
             0.2222222222222222,
             "#7201a8"
            ],
            [
             0.3333333333333333,
             "#9c179e"
            ],
            [
             0.4444444444444444,
             "#bd3786"
            ],
            [
             0.5555555555555556,
             "#d8576b"
            ],
            [
             0.6666666666666666,
             "#ed7953"
            ],
            [
             0.7777777777777778,
             "#fb9f3a"
            ],
            [
             0.8888888888888888,
             "#fdca26"
            ],
            [
             1,
             "#f0f921"
            ]
           ]
          },
          "colorway": [
           "#636efa",
           "#EF553B",
           "#00cc96",
           "#ab63fa",
           "#FFA15A",
           "#19d3f3",
           "#FF6692",
           "#B6E880",
           "#FF97FF",
           "#FECB52"
          ],
          "font": {
           "color": "#2a3f5f"
          },
          "geo": {
           "bgcolor": "white",
           "lakecolor": "white",
           "landcolor": "#E5ECF6",
           "showlakes": true,
           "showland": true,
           "subunitcolor": "white"
          },
          "hoverlabel": {
           "align": "left"
          },
          "hovermode": "closest",
          "mapbox": {
           "style": "light"
          },
          "paper_bgcolor": "white",
          "plot_bgcolor": "#E5ECF6",
          "polar": {
           "angularaxis": {
            "gridcolor": "white",
            "linecolor": "white",
            "ticks": ""
           },
           "bgcolor": "#E5ECF6",
           "radialaxis": {
            "gridcolor": "white",
            "linecolor": "white",
            "ticks": ""
           }
          },
          "scene": {
           "xaxis": {
            "backgroundcolor": "#E5ECF6",
            "gridcolor": "white",
            "gridwidth": 2,
            "linecolor": "white",
            "showbackground": true,
            "ticks": "",
            "zerolinecolor": "white"
           },
           "yaxis": {
            "backgroundcolor": "#E5ECF6",
            "gridcolor": "white",
            "gridwidth": 2,
            "linecolor": "white",
            "showbackground": true,
            "ticks": "",
            "zerolinecolor": "white"
           },
           "zaxis": {
            "backgroundcolor": "#E5ECF6",
            "gridcolor": "white",
            "gridwidth": 2,
            "linecolor": "white",
            "showbackground": true,
            "ticks": "",
            "zerolinecolor": "white"
           }
          },
          "shapedefaults": {
           "line": {
            "color": "#2a3f5f"
           }
          },
          "ternary": {
           "aaxis": {
            "gridcolor": "white",
            "linecolor": "white",
            "ticks": ""
           },
           "baxis": {
            "gridcolor": "white",
            "linecolor": "white",
            "ticks": ""
           },
           "bgcolor": "#E5ECF6",
           "caxis": {
            "gridcolor": "white",
            "linecolor": "white",
            "ticks": ""
           }
          },
          "title": {
           "x": 0.05
          },
          "xaxis": {
           "automargin": true,
           "gridcolor": "white",
           "linecolor": "white",
           "ticks": "",
           "title": {
            "standoff": 15
           },
           "zerolinecolor": "white",
           "zerolinewidth": 2
          },
          "yaxis": {
           "automargin": true,
           "gridcolor": "white",
           "linecolor": "white",
           "ticks": "",
           "title": {
            "standoff": 15
           },
           "zerolinecolor": "white",
           "zerolinewidth": 2
          }
         }
        }
       }
      }
     },
     "metadata": {},
     "output_type": "display_data"
    }
   ],
   "source": [
    "fig_all.show()"
   ]
  },
  {
   "cell_type": "code",
   "execution_count": 107,
   "metadata": {},
   "outputs": [
    {
     "data": {
      "application/vnd.plotly.v1+json": {
       "config": {
        "plotlyServerURL": "https://plot.ly"
       },
       "data": [
        {
         "marker": {
          "color": "green",
          "line": {
           "color": "rgb(8,48,107)",
           "width": 1.5
          }
         },
         "name": "Temperature: Amsterdam",
         "opacity": 0.6,
         "text": [
          4.27,
          6.17,
          6.17,
          7.08,
          7.45,
          6.96,
          6.67,
          6.06,
          7.11,
          7.46,
          10.84,
          9.16,
          8.26,
          6.91,
          8.48,
          8.27,
          8.64,
          8.44,
          7.74,
          7.49,
          9.23,
          8.59,
          7.65,
          7.98,
          9.56,
          9.11,
          9.44,
          10.08,
          9.92,
          9.43,
          9.02,
          9.3,
          9.82,
          9.45,
          8.8,
          9.22,
          9.21,
          8.93,
          8.45,
          8.61
         ],
         "type": "bar",
         "x": [
          "2023-12-08 12:00:00",
          "2023-12-08 15:00:00",
          "2023-12-08 18:00:00",
          "2023-12-08 21:00:00",
          "2023-12-09 00:00:00",
          "2023-12-09 03:00:00",
          "2023-12-09 06:00:00",
          "2023-12-09 09:00:00",
          "2023-12-09 12:00:00",
          "2023-12-09 15:00:00",
          "2023-12-09 18:00:00",
          "2023-12-09 21:00:00",
          "2023-12-10 00:00:00",
          "2023-12-10 03:00:00",
          "2023-12-10 06:00:00",
          "2023-12-10 09:00:00",
          "2023-12-10 12:00:00",
          "2023-12-10 15:00:00",
          "2023-12-10 18:00:00",
          "2023-12-10 21:00:00",
          "2023-12-11 00:00:00",
          "2023-12-11 03:00:00",
          "2023-12-11 06:00:00",
          "2023-12-11 09:00:00",
          "2023-12-11 12:00:00",
          "2023-12-11 15:00:00",
          "2023-12-11 18:00:00",
          "2023-12-11 21:00:00",
          "2023-12-12 00:00:00",
          "2023-12-12 03:00:00",
          "2023-12-12 06:00:00",
          "2023-12-12 09:00:00",
          "2023-12-12 12:00:00",
          "2023-12-12 15:00:00",
          "2023-12-12 18:00:00",
          "2023-12-12 21:00:00",
          "2023-12-13 00:00:00",
          "2023-12-13 03:00:00",
          "2023-12-13 06:00:00",
          "2023-12-13 09:00:00"
         ],
         "y": [
          4.27,
          6.17,
          6.17,
          7.08,
          7.45,
          6.96,
          6.67,
          6.06,
          7.11,
          7.46,
          10.84,
          9.16,
          8.26,
          6.91,
          8.48,
          8.27,
          8.64,
          8.44,
          7.74,
          7.49,
          9.23,
          8.59,
          7.65,
          7.98,
          9.56,
          9.11,
          9.44,
          10.08,
          9.92,
          9.43,
          9.02,
          9.3,
          9.82,
          9.45,
          8.8,
          9.22,
          9.21,
          8.93,
          8.45,
          8.61
         ]
        },
        {
         "marker": {
          "color": "red",
          "line": {
           "color": "rgb(8,48,107)",
           "width": 1.5
          }
         },
         "name": "Temperature: Gemeente Eindhoven",
         "opacity": 0.6,
         "text": [
          6.13,
          7.04,
          7.46,
          7.89,
          7.13,
          6.57,
          6.14,
          6.95,
          7.49,
          8.25,
          11.49,
          9.08,
          8.51,
          7.66,
          7.95,
          8.41,
          9.12,
          9.17,
          8.31,
          9.54,
          10.46,
          9.9,
          8.67,
          8.52,
          10.25,
          9.88,
          9.53,
          10.11,
          9.84,
          8.82,
          8.9,
          9.24,
          9.86,
          9.54,
          9.52,
          9.31,
          9.06,
          9.02,
          8.33,
          8.24
         ],
         "type": "bar",
         "x": [
          "2023-12-08 12:00:00",
          "2023-12-08 15:00:00",
          "2023-12-08 18:00:00",
          "2023-12-08 21:00:00",
          "2023-12-09 00:00:00",
          "2023-12-09 03:00:00",
          "2023-12-09 06:00:00",
          "2023-12-09 09:00:00",
          "2023-12-09 12:00:00",
          "2023-12-09 15:00:00",
          "2023-12-09 18:00:00",
          "2023-12-09 21:00:00",
          "2023-12-10 00:00:00",
          "2023-12-10 03:00:00",
          "2023-12-10 06:00:00",
          "2023-12-10 09:00:00",
          "2023-12-10 12:00:00",
          "2023-12-10 15:00:00",
          "2023-12-10 18:00:00",
          "2023-12-10 21:00:00",
          "2023-12-11 00:00:00",
          "2023-12-11 03:00:00",
          "2023-12-11 06:00:00",
          "2023-12-11 09:00:00",
          "2023-12-11 12:00:00",
          "2023-12-11 15:00:00",
          "2023-12-11 18:00:00",
          "2023-12-11 21:00:00",
          "2023-12-12 00:00:00",
          "2023-12-12 03:00:00",
          "2023-12-12 06:00:00",
          "2023-12-12 09:00:00",
          "2023-12-12 12:00:00",
          "2023-12-12 15:00:00",
          "2023-12-12 18:00:00",
          "2023-12-12 21:00:00",
          "2023-12-13 00:00:00",
          "2023-12-13 03:00:00",
          "2023-12-13 06:00:00",
          "2023-12-13 09:00:00"
         ],
         "y": [
          6.13,
          7.04,
          7.46,
          7.89,
          7.13,
          6.57,
          6.14,
          6.95,
          7.49,
          8.25,
          11.49,
          9.08,
          8.51,
          7.66,
          7.95,
          8.41,
          9.12,
          9.17,
          8.31,
          9.54,
          10.46,
          9.9,
          8.67,
          8.52,
          10.25,
          9.88,
          9.53,
          10.11,
          9.84,
          8.82,
          8.9,
          9.24,
          9.86,
          9.54,
          9.52,
          9.31,
          9.06,
          9.02,
          8.33,
          8.24
         ]
        },
        {
         "marker": {
          "color": "blue",
          "line": {
           "color": "rgb(8,48,107)",
           "width": 1.5
          }
         },
         "name": "Temperature: Enschede",
         "opacity": 0.6,
         "text": [
          2.58,
          3.82,
          5.99,
          6.52,
          7.16,
          5.8,
          5.33,
          5.8,
          7.18,
          6.54,
          6.85,
          9.6,
          7.88,
          6.77,
          6.03,
          7.77,
          7.78,
          7.86,
          6.94,
          6.71,
          6.91,
          8.65,
          7.69,
          8.27,
          9,
          8.48,
          8.91,
          9.21,
          9.39,
          9.06,
          8.49,
          8.59,
          9.88,
          9,
          8.61,
          8.61,
          8.39,
          8.19,
          8.36,
          8.44
         ],
         "type": "bar",
         "x": [
          "2023-12-08 12:00:00",
          "2023-12-08 15:00:00",
          "2023-12-08 18:00:00",
          "2023-12-08 21:00:00",
          "2023-12-09 00:00:00",
          "2023-12-09 03:00:00",
          "2023-12-09 06:00:00",
          "2023-12-09 09:00:00",
          "2023-12-09 12:00:00",
          "2023-12-09 15:00:00",
          "2023-12-09 18:00:00",
          "2023-12-09 21:00:00",
          "2023-12-10 00:00:00",
          "2023-12-10 03:00:00",
          "2023-12-10 06:00:00",
          "2023-12-10 09:00:00",
          "2023-12-10 12:00:00",
          "2023-12-10 15:00:00",
          "2023-12-10 18:00:00",
          "2023-12-10 21:00:00",
          "2023-12-11 00:00:00",
          "2023-12-11 03:00:00",
          "2023-12-11 06:00:00",
          "2023-12-11 09:00:00",
          "2023-12-11 12:00:00",
          "2023-12-11 15:00:00",
          "2023-12-11 18:00:00",
          "2023-12-11 21:00:00",
          "2023-12-12 00:00:00",
          "2023-12-12 03:00:00",
          "2023-12-12 06:00:00",
          "2023-12-12 09:00:00",
          "2023-12-12 12:00:00",
          "2023-12-12 15:00:00",
          "2023-12-12 18:00:00",
          "2023-12-12 21:00:00",
          "2023-12-13 00:00:00",
          "2023-12-13 03:00:00",
          "2023-12-13 06:00:00",
          "2023-12-13 09:00:00"
         ],
         "y": [
          2.58,
          3.82,
          5.99,
          6.52,
          7.16,
          5.8,
          5.33,
          5.8,
          7.18,
          6.54,
          6.85,
          9.6,
          7.88,
          6.77,
          6.03,
          7.77,
          7.78,
          7.86,
          6.94,
          6.71,
          6.91,
          8.65,
          7.69,
          8.27,
          9,
          8.48,
          8.91,
          9.21,
          9.39,
          9.06,
          8.49,
          8.59,
          9.88,
          9,
          8.61,
          8.61,
          8.39,
          8.19,
          8.36,
          8.44
         ]
        },
        {
         "marker": {
          "color": "yellow",
          "line": {
           "color": "rgb(8,48,107)",
           "width": 1.5
          }
         },
         "name": "Temperature: Provincie Utrecht",
         "opacity": 0.6,
         "text": [
          4.77,
          6.2,
          7.24,
          6.66,
          6.23,
          6.32,
          6.12,
          6.24,
          7.27,
          7.63,
          10.98,
          8.82,
          7.76,
          7.01,
          7.91,
          8.03,
          8.47,
          8.22,
          8.17,
          7.36,
          9.59,
          9.25,
          8.55,
          7.41,
          9.68,
          9.73,
          9.68,
          9.92,
          9.94,
          9.3,
          9.12,
          8.99,
          10.11,
          9.52,
          9.49,
          9.4,
          9.04,
          8.21,
          8.71,
          8.34
         ],
         "type": "bar",
         "x": [
          "2023-12-08 12:00:00",
          "2023-12-08 15:00:00",
          "2023-12-08 18:00:00",
          "2023-12-08 21:00:00",
          "2023-12-09 00:00:00",
          "2023-12-09 03:00:00",
          "2023-12-09 06:00:00",
          "2023-12-09 09:00:00",
          "2023-12-09 12:00:00",
          "2023-12-09 15:00:00",
          "2023-12-09 18:00:00",
          "2023-12-09 21:00:00",
          "2023-12-10 00:00:00",
          "2023-12-10 03:00:00",
          "2023-12-10 06:00:00",
          "2023-12-10 09:00:00",
          "2023-12-10 12:00:00",
          "2023-12-10 15:00:00",
          "2023-12-10 18:00:00",
          "2023-12-10 21:00:00",
          "2023-12-11 00:00:00",
          "2023-12-11 03:00:00",
          "2023-12-11 06:00:00",
          "2023-12-11 09:00:00",
          "2023-12-11 12:00:00",
          "2023-12-11 15:00:00",
          "2023-12-11 18:00:00",
          "2023-12-11 21:00:00",
          "2023-12-12 00:00:00",
          "2023-12-12 03:00:00",
          "2023-12-12 06:00:00",
          "2023-12-12 09:00:00",
          "2023-12-12 12:00:00",
          "2023-12-12 15:00:00",
          "2023-12-12 18:00:00",
          "2023-12-12 21:00:00",
          "2023-12-13 00:00:00",
          "2023-12-13 03:00:00",
          "2023-12-13 06:00:00",
          "2023-12-13 09:00:00"
         ],
         "y": [
          4.77,
          6.2,
          7.24,
          6.66,
          6.23,
          6.32,
          6.12,
          6.24,
          7.27,
          7.63,
          10.98,
          8.82,
          7.76,
          7.01,
          7.91,
          8.03,
          8.47,
          8.22,
          8.17,
          7.36,
          9.59,
          9.25,
          8.55,
          7.41,
          9.68,
          9.73,
          9.68,
          9.92,
          9.94,
          9.3,
          9.12,
          8.99,
          10.11,
          9.52,
          9.49,
          9.4,
          9.04,
          8.21,
          8.71,
          8.34
         ]
        }
       ],
       "layout": {
        "font": {
         "color": "#7f7f7f",
         "family": "Arial",
         "size": 10
        },
        "template": {
         "data": {
          "bar": [
           {
            "error_x": {
             "color": "#2a3f5f"
            },
            "error_y": {
             "color": "#2a3f5f"
            },
            "marker": {
             "line": {
              "color": "#E5ECF6",
              "width": 0.5
             },
             "pattern": {
              "fillmode": "overlay",
              "size": 10,
              "solidity": 0.2
             }
            },
            "type": "bar"
           }
          ],
          "barpolar": [
           {
            "marker": {
             "line": {
              "color": "#E5ECF6",
              "width": 0.5
             },
             "pattern": {
              "fillmode": "overlay",
              "size": 10,
              "solidity": 0.2
             }
            },
            "type": "barpolar"
           }
          ],
          "carpet": [
           {
            "aaxis": {
             "endlinecolor": "#2a3f5f",
             "gridcolor": "white",
             "linecolor": "white",
             "minorgridcolor": "white",
             "startlinecolor": "#2a3f5f"
            },
            "baxis": {
             "endlinecolor": "#2a3f5f",
             "gridcolor": "white",
             "linecolor": "white",
             "minorgridcolor": "white",
             "startlinecolor": "#2a3f5f"
            },
            "type": "carpet"
           }
          ],
          "choropleth": [
           {
            "colorbar": {
             "outlinewidth": 0,
             "ticks": ""
            },
            "type": "choropleth"
           }
          ],
          "contour": [
           {
            "colorbar": {
             "outlinewidth": 0,
             "ticks": ""
            },
            "colorscale": [
             [
              0,
              "#0d0887"
             ],
             [
              0.1111111111111111,
              "#46039f"
             ],
             [
              0.2222222222222222,
              "#7201a8"
             ],
             [
              0.3333333333333333,
              "#9c179e"
             ],
             [
              0.4444444444444444,
              "#bd3786"
             ],
             [
              0.5555555555555556,
              "#d8576b"
             ],
             [
              0.6666666666666666,
              "#ed7953"
             ],
             [
              0.7777777777777778,
              "#fb9f3a"
             ],
             [
              0.8888888888888888,
              "#fdca26"
             ],
             [
              1,
              "#f0f921"
             ]
            ],
            "type": "contour"
           }
          ],
          "contourcarpet": [
           {
            "colorbar": {
             "outlinewidth": 0,
             "ticks": ""
            },
            "type": "contourcarpet"
           }
          ],
          "heatmap": [
           {
            "colorbar": {
             "outlinewidth": 0,
             "ticks": ""
            },
            "colorscale": [
             [
              0,
              "#0d0887"
             ],
             [
              0.1111111111111111,
              "#46039f"
             ],
             [
              0.2222222222222222,
              "#7201a8"
             ],
             [
              0.3333333333333333,
              "#9c179e"
             ],
             [
              0.4444444444444444,
              "#bd3786"
             ],
             [
              0.5555555555555556,
              "#d8576b"
             ],
             [
              0.6666666666666666,
              "#ed7953"
             ],
             [
              0.7777777777777778,
              "#fb9f3a"
             ],
             [
              0.8888888888888888,
              "#fdca26"
             ],
             [
              1,
              "#f0f921"
             ]
            ],
            "type": "heatmap"
           }
          ],
          "heatmapgl": [
           {
            "colorbar": {
             "outlinewidth": 0,
             "ticks": ""
            },
            "colorscale": [
             [
              0,
              "#0d0887"
             ],
             [
              0.1111111111111111,
              "#46039f"
             ],
             [
              0.2222222222222222,
              "#7201a8"
             ],
             [
              0.3333333333333333,
              "#9c179e"
             ],
             [
              0.4444444444444444,
              "#bd3786"
             ],
             [
              0.5555555555555556,
              "#d8576b"
             ],
             [
              0.6666666666666666,
              "#ed7953"
             ],
             [
              0.7777777777777778,
              "#fb9f3a"
             ],
             [
              0.8888888888888888,
              "#fdca26"
             ],
             [
              1,
              "#f0f921"
             ]
            ],
            "type": "heatmapgl"
           }
          ],
          "histogram": [
           {
            "marker": {
             "pattern": {
              "fillmode": "overlay",
              "size": 10,
              "solidity": 0.2
             }
            },
            "type": "histogram"
           }
          ],
          "histogram2d": [
           {
            "colorbar": {
             "outlinewidth": 0,
             "ticks": ""
            },
            "colorscale": [
             [
              0,
              "#0d0887"
             ],
             [
              0.1111111111111111,
              "#46039f"
             ],
             [
              0.2222222222222222,
              "#7201a8"
             ],
             [
              0.3333333333333333,
              "#9c179e"
             ],
             [
              0.4444444444444444,
              "#bd3786"
             ],
             [
              0.5555555555555556,
              "#d8576b"
             ],
             [
              0.6666666666666666,
              "#ed7953"
             ],
             [
              0.7777777777777778,
              "#fb9f3a"
             ],
             [
              0.8888888888888888,
              "#fdca26"
             ],
             [
              1,
              "#f0f921"
             ]
            ],
            "type": "histogram2d"
           }
          ],
          "histogram2dcontour": [
           {
            "colorbar": {
             "outlinewidth": 0,
             "ticks": ""
            },
            "colorscale": [
             [
              0,
              "#0d0887"
             ],
             [
              0.1111111111111111,
              "#46039f"
             ],
             [
              0.2222222222222222,
              "#7201a8"
             ],
             [
              0.3333333333333333,
              "#9c179e"
             ],
             [
              0.4444444444444444,
              "#bd3786"
             ],
             [
              0.5555555555555556,
              "#d8576b"
             ],
             [
              0.6666666666666666,
              "#ed7953"
             ],
             [
              0.7777777777777778,
              "#fb9f3a"
             ],
             [
              0.8888888888888888,
              "#fdca26"
             ],
             [
              1,
              "#f0f921"
             ]
            ],
            "type": "histogram2dcontour"
           }
          ],
          "mesh3d": [
           {
            "colorbar": {
             "outlinewidth": 0,
             "ticks": ""
            },
            "type": "mesh3d"
           }
          ],
          "parcoords": [
           {
            "line": {
             "colorbar": {
              "outlinewidth": 0,
              "ticks": ""
             }
            },
            "type": "parcoords"
           }
          ],
          "pie": [
           {
            "automargin": true,
            "type": "pie"
           }
          ],
          "scatter": [
           {
            "fillpattern": {
             "fillmode": "overlay",
             "size": 10,
             "solidity": 0.2
            },
            "type": "scatter"
           }
          ],
          "scatter3d": [
           {
            "line": {
             "colorbar": {
              "outlinewidth": 0,
              "ticks": ""
             }
            },
            "marker": {
             "colorbar": {
              "outlinewidth": 0,
              "ticks": ""
             }
            },
            "type": "scatter3d"
           }
          ],
          "scattercarpet": [
           {
            "marker": {
             "colorbar": {
              "outlinewidth": 0,
              "ticks": ""
             }
            },
            "type": "scattercarpet"
           }
          ],
          "scattergeo": [
           {
            "marker": {
             "colorbar": {
              "outlinewidth": 0,
              "ticks": ""
             }
            },
            "type": "scattergeo"
           }
          ],
          "scattergl": [
           {
            "marker": {
             "colorbar": {
              "outlinewidth": 0,
              "ticks": ""
             }
            },
            "type": "scattergl"
           }
          ],
          "scattermapbox": [
           {
            "marker": {
             "colorbar": {
              "outlinewidth": 0,
              "ticks": ""
             }
            },
            "type": "scattermapbox"
           }
          ],
          "scatterpolar": [
           {
            "marker": {
             "colorbar": {
              "outlinewidth": 0,
              "ticks": ""
             }
            },
            "type": "scatterpolar"
           }
          ],
          "scatterpolargl": [
           {
            "marker": {
             "colorbar": {
              "outlinewidth": 0,
              "ticks": ""
             }
            },
            "type": "scatterpolargl"
           }
          ],
          "scatterternary": [
           {
            "marker": {
             "colorbar": {
              "outlinewidth": 0,
              "ticks": ""
             }
            },
            "type": "scatterternary"
           }
          ],
          "surface": [
           {
            "colorbar": {
             "outlinewidth": 0,
             "ticks": ""
            },
            "colorscale": [
             [
              0,
              "#0d0887"
             ],
             [
              0.1111111111111111,
              "#46039f"
             ],
             [
              0.2222222222222222,
              "#7201a8"
             ],
             [
              0.3333333333333333,
              "#9c179e"
             ],
             [
              0.4444444444444444,
              "#bd3786"
             ],
             [
              0.5555555555555556,
              "#d8576b"
             ],
             [
              0.6666666666666666,
              "#ed7953"
             ],
             [
              0.7777777777777778,
              "#fb9f3a"
             ],
             [
              0.8888888888888888,
              "#fdca26"
             ],
             [
              1,
              "#f0f921"
             ]
            ],
            "type": "surface"
           }
          ],
          "table": [
           {
            "cells": {
             "fill": {
              "color": "#EBF0F8"
             },
             "line": {
              "color": "white"
             }
            },
            "header": {
             "fill": {
              "color": "#C8D4E3"
             },
             "line": {
              "color": "white"
             }
            },
            "type": "table"
           }
          ]
         },
         "layout": {
          "annotationdefaults": {
           "arrowcolor": "#2a3f5f",
           "arrowhead": 0,
           "arrowwidth": 1
          },
          "autotypenumbers": "strict",
          "coloraxis": {
           "colorbar": {
            "outlinewidth": 0,
            "ticks": ""
           }
          },
          "colorscale": {
           "diverging": [
            [
             0,
             "#8e0152"
            ],
            [
             0.1,
             "#c51b7d"
            ],
            [
             0.2,
             "#de77ae"
            ],
            [
             0.3,
             "#f1b6da"
            ],
            [
             0.4,
             "#fde0ef"
            ],
            [
             0.5,
             "#f7f7f7"
            ],
            [
             0.6,
             "#e6f5d0"
            ],
            [
             0.7,
             "#b8e186"
            ],
            [
             0.8,
             "#7fbc41"
            ],
            [
             0.9,
             "#4d9221"
            ],
            [
             1,
             "#276419"
            ]
           ],
           "sequential": [
            [
             0,
             "#0d0887"
            ],
            [
             0.1111111111111111,
             "#46039f"
            ],
            [
             0.2222222222222222,
             "#7201a8"
            ],
            [
             0.3333333333333333,
             "#9c179e"
            ],
            [
             0.4444444444444444,
             "#bd3786"
            ],
            [
             0.5555555555555556,
             "#d8576b"
            ],
            [
             0.6666666666666666,
             "#ed7953"
            ],
            [
             0.7777777777777778,
             "#fb9f3a"
            ],
            [
             0.8888888888888888,
             "#fdca26"
            ],
            [
             1,
             "#f0f921"
            ]
           ],
           "sequentialminus": [
            [
             0,
             "#0d0887"
            ],
            [
             0.1111111111111111,
             "#46039f"
            ],
            [
             0.2222222222222222,
             "#7201a8"
            ],
            [
             0.3333333333333333,
             "#9c179e"
            ],
            [
             0.4444444444444444,
             "#bd3786"
            ],
            [
             0.5555555555555556,
             "#d8576b"
            ],
            [
             0.6666666666666666,
             "#ed7953"
            ],
            [
             0.7777777777777778,
             "#fb9f3a"
            ],
            [
             0.8888888888888888,
             "#fdca26"
            ],
            [
             1,
             "#f0f921"
            ]
           ]
          },
          "colorway": [
           "#636efa",
           "#EF553B",
           "#00cc96",
           "#ab63fa",
           "#FFA15A",
           "#19d3f3",
           "#FF6692",
           "#B6E880",
           "#FF97FF",
           "#FECB52"
          ],
          "font": {
           "color": "#2a3f5f"
          },
          "geo": {
           "bgcolor": "white",
           "lakecolor": "white",
           "landcolor": "#E5ECF6",
           "showlakes": true,
           "showland": true,
           "subunitcolor": "white"
          },
          "hoverlabel": {
           "align": "left"
          },
          "hovermode": "closest",
          "mapbox": {
           "style": "light"
          },
          "paper_bgcolor": "white",
          "plot_bgcolor": "#E5ECF6",
          "polar": {
           "angularaxis": {
            "gridcolor": "white",
            "linecolor": "white",
            "ticks": ""
           },
           "bgcolor": "#E5ECF6",
           "radialaxis": {
            "gridcolor": "white",
            "linecolor": "white",
            "ticks": ""
           }
          },
          "scene": {
           "xaxis": {
            "backgroundcolor": "#E5ECF6",
            "gridcolor": "white",
            "gridwidth": 2,
            "linecolor": "white",
            "showbackground": true,
            "ticks": "",
            "zerolinecolor": "white"
           },
           "yaxis": {
            "backgroundcolor": "#E5ECF6",
            "gridcolor": "white",
            "gridwidth": 2,
            "linecolor": "white",
            "showbackground": true,
            "ticks": "",
            "zerolinecolor": "white"
           },
           "zaxis": {
            "backgroundcolor": "#E5ECF6",
            "gridcolor": "white",
            "gridwidth": 2,
            "linecolor": "white",
            "showbackground": true,
            "ticks": "",
            "zerolinecolor": "white"
           }
          },
          "shapedefaults": {
           "line": {
            "color": "#2a3f5f"
           }
          },
          "ternary": {
           "aaxis": {
            "gridcolor": "white",
            "linecolor": "white",
            "ticks": ""
           },
           "baxis": {
            "gridcolor": "white",
            "linecolor": "white",
            "ticks": ""
           },
           "bgcolor": "#E5ECF6",
           "caxis": {
            "gridcolor": "white",
            "linecolor": "white",
            "ticks": ""
           }
          },
          "title": {
           "x": 0.05
          },
          "xaxis": {
           "automargin": true,
           "gridcolor": "white",
           "linecolor": "white",
           "ticks": "",
           "title": {
            "standoff": 15
           },
           "zerolinecolor": "white",
           "zerolinewidth": 2
          },
          "yaxis": {
           "automargin": true,
           "gridcolor": "white",
           "linecolor": "white",
           "ticks": "",
           "title": {
            "standoff": 15
           },
           "zerolinecolor": "white",
           "zerolinewidth": 2
          }
         }
        },
        "title": {
         "text": "3h weather forecast for 5 days for the cities Amsterdam Gemeente Eindhoven Enschede Provincie Utrecht"
        },
        "yaxis": {
         "title": {
          "text": "Temperature (C)"
         }
        }
       }
      }
     },
     "metadata": {},
     "output_type": "display_data"
    }
   ],
   "source": [
    "# update the styling\n",
    "fig_all.update_layout(\n",
    "    title=f\"3h weather forecast for 5 days for the cities {' '.join(unique_cities)}\",\n",
    "    yaxis_title=\"Temperature (C)\",\n",
    "    font=dict(\n",
    "        family=\"Arial\",\n",
    "        size=10,\n",
    "        color=\"#7f7f7f\"\n",
    "    )\n",
    ")"
   ]
  },
  {
   "cell_type": "code",
   "execution_count": 112,
   "metadata": {},
   "outputs": [
    {
     "data": {
      "application/vnd.plotly.v1+json": {
       "config": {
        "plotlyServerURL": "https://plot.ly"
       },
       "data": [
        {
         "coloraxis": "coloraxis",
         "hovertemplate": "wind_speed=%{x}<br>temperature=%{y}<br>count=%{z}<extra></extra>",
         "name": "",
         "type": "histogram2d",
         "x": [
          2.58,
          3,
          3.48,
          4.84,
          5.13,
          5.24,
          5.57,
          6.13,
          7.37,
          8.29,
          8.36,
          9.23,
          9.42,
          10.1,
          11.39,
          10.25,
          8.24,
          6.6,
          3.36,
          3.73,
          3.92,
          4.31,
          3.24,
          3.3,
          4.42,
          4.11,
          5.75,
          5.38,
          4.78,
          3.76,
          3.54,
          2.26,
          2.57,
          2.02,
          2.57,
          4.16,
          4.4,
          3.66,
          3.53,
          3.43,
          3.79,
          3.75,
          4.23,
          4.86,
          4.86,
          5.41,
          5.7,
          6.22,
          8.84,
          9.1,
          8.89,
          9.39,
          9.53,
          9.61,
          10.87,
          9.86,
          7.96,
          5.89,
          5.39,
          6.13,
          6.28,
          6.08,
          4.68,
          4.24,
          5.07,
          5.14,
          5.96,
          5.85,
          5.28,
          4.29,
          3.18,
          2.57,
          2.66,
          2.24,
          2.56,
          3.27,
          3.86,
          3.64,
          3.54,
          2.85,
          3.91,
          4.24,
          4.68,
          4.77,
          5.98,
          5.98,
          6.21,
          6.67,
          8.03,
          9.61,
          9.43,
          10.82,
          9.82,
          10.18,
          9.27,
          10.53,
          9.57,
          8.08,
          6.12,
          4.34,
          3.83,
          5.25,
          5.2,
          4.68,
          5.93,
          5.7,
          5.91,
          6.15,
          6.21,
          5.14,
          4.8,
          3.32,
          2.96,
          2.43,
          2.36,
          2.33,
          3.59,
          3.52,
          2.87,
          3.47,
          2.98,
          3.49,
          4.13,
          5.25,
          5.2,
          5.32,
          5.61,
          6.44,
          8.84,
          9.2,
          8.89,
          9.54,
          9.29,
          10.39,
          11.21,
          10.2,
          8.31,
          6.31,
          6.18,
          3.74,
          5.1,
          5.87,
          4.37,
          3.83,
          4.86,
          5.38,
          5.76,
          5.41,
          5.06,
          5.09,
          3.45,
          2.95,
          2.59,
          1.99,
          1.81,
          4.04,
          4.32,
          3.26,
          4.55,
          3.66
         ],
         "xaxis": "x",
         "xbingroup": "x",
         "y": [
          4.27,
          6.17,
          6.17,
          7.08,
          7.45,
          6.96,
          6.67,
          6.06,
          7.11,
          7.46,
          10.84,
          9.16,
          8.26,
          6.91,
          8.48,
          8.27,
          8.64,
          8.44,
          7.74,
          7.49,
          9.23,
          8.59,
          7.65,
          7.98,
          9.56,
          9.11,
          9.44,
          10.08,
          9.92,
          9.43,
          9.02,
          9.3,
          9.82,
          9.45,
          8.8,
          9.22,
          9.21,
          8.93,
          8.45,
          8.61,
          6.13,
          7.04,
          7.46,
          7.89,
          7.13,
          6.57,
          6.14,
          6.95,
          7.49,
          8.25,
          11.49,
          9.08,
          8.51,
          7.66,
          7.95,
          8.41,
          9.12,
          9.17,
          8.31,
          9.54,
          10.46,
          9.9,
          8.67,
          8.52,
          10.25,
          9.88,
          9.53,
          10.11,
          9.84,
          8.82,
          8.9,
          9.24,
          9.86,
          9.54,
          9.52,
          9.31,
          9.06,
          9.02,
          8.33,
          8.24,
          2.58,
          3.82,
          5.99,
          6.52,
          7.16,
          5.8,
          5.33,
          5.8,
          7.18,
          6.54,
          6.85,
          9.6,
          7.88,
          6.77,
          6.03,
          7.77,
          7.78,
          7.86,
          6.94,
          6.71,
          6.91,
          8.65,
          7.69,
          8.27,
          9,
          8.48,
          8.91,
          9.21,
          9.39,
          9.06,
          8.49,
          8.59,
          9.88,
          9,
          8.61,
          8.61,
          8.39,
          8.19,
          8.36,
          8.44,
          4.77,
          6.2,
          7.24,
          6.66,
          6.23,
          6.32,
          6.12,
          6.24,
          7.27,
          7.63,
          10.98,
          8.82,
          7.76,
          7.01,
          7.91,
          8.03,
          8.47,
          8.22,
          8.17,
          7.36,
          9.59,
          9.25,
          8.55,
          7.41,
          9.68,
          9.73,
          9.68,
          9.92,
          9.94,
          9.3,
          9.12,
          8.99,
          10.11,
          9.52,
          9.49,
          9.4,
          9.04,
          8.21,
          8.71,
          8.34
         ],
         "yaxis": "y",
         "ybingroup": "y"
        }
       ],
       "layout": {
        "coloraxis": {
         "colorbar": {
          "title": {
           "text": "count"
          }
         },
         "colorscale": [
          [
           0,
           "#0d0887"
          ],
          [
           0.1111111111111111,
           "#46039f"
          ],
          [
           0.2222222222222222,
           "#7201a8"
          ],
          [
           0.3333333333333333,
           "#9c179e"
          ],
          [
           0.4444444444444444,
           "#bd3786"
          ],
          [
           0.5555555555555556,
           "#d8576b"
          ],
          [
           0.6666666666666666,
           "#ed7953"
          ],
          [
           0.7777777777777778,
           "#fb9f3a"
          ],
          [
           0.8888888888888888,
           "#fdca26"
          ],
          [
           1,
           "#f0f921"
          ]
         ]
        },
        "legend": {
         "tracegroupgap": 0
        },
        "margin": {
         "t": 60
        },
        "template": {
         "data": {
          "bar": [
           {
            "error_x": {
             "color": "#2a3f5f"
            },
            "error_y": {
             "color": "#2a3f5f"
            },
            "marker": {
             "line": {
              "color": "#E5ECF6",
              "width": 0.5
             },
             "pattern": {
              "fillmode": "overlay",
              "size": 10,
              "solidity": 0.2
             }
            },
            "type": "bar"
           }
          ],
          "barpolar": [
           {
            "marker": {
             "line": {
              "color": "#E5ECF6",
              "width": 0.5
             },
             "pattern": {
              "fillmode": "overlay",
              "size": 10,
              "solidity": 0.2
             }
            },
            "type": "barpolar"
           }
          ],
          "carpet": [
           {
            "aaxis": {
             "endlinecolor": "#2a3f5f",
             "gridcolor": "white",
             "linecolor": "white",
             "minorgridcolor": "white",
             "startlinecolor": "#2a3f5f"
            },
            "baxis": {
             "endlinecolor": "#2a3f5f",
             "gridcolor": "white",
             "linecolor": "white",
             "minorgridcolor": "white",
             "startlinecolor": "#2a3f5f"
            },
            "type": "carpet"
           }
          ],
          "choropleth": [
           {
            "colorbar": {
             "outlinewidth": 0,
             "ticks": ""
            },
            "type": "choropleth"
           }
          ],
          "contour": [
           {
            "colorbar": {
             "outlinewidth": 0,
             "ticks": ""
            },
            "colorscale": [
             [
              0,
              "#0d0887"
             ],
             [
              0.1111111111111111,
              "#46039f"
             ],
             [
              0.2222222222222222,
              "#7201a8"
             ],
             [
              0.3333333333333333,
              "#9c179e"
             ],
             [
              0.4444444444444444,
              "#bd3786"
             ],
             [
              0.5555555555555556,
              "#d8576b"
             ],
             [
              0.6666666666666666,
              "#ed7953"
             ],
             [
              0.7777777777777778,
              "#fb9f3a"
             ],
             [
              0.8888888888888888,
              "#fdca26"
             ],
             [
              1,
              "#f0f921"
             ]
            ],
            "type": "contour"
           }
          ],
          "contourcarpet": [
           {
            "colorbar": {
             "outlinewidth": 0,
             "ticks": ""
            },
            "type": "contourcarpet"
           }
          ],
          "heatmap": [
           {
            "colorbar": {
             "outlinewidth": 0,
             "ticks": ""
            },
            "colorscale": [
             [
              0,
              "#0d0887"
             ],
             [
              0.1111111111111111,
              "#46039f"
             ],
             [
              0.2222222222222222,
              "#7201a8"
             ],
             [
              0.3333333333333333,
              "#9c179e"
             ],
             [
              0.4444444444444444,
              "#bd3786"
             ],
             [
              0.5555555555555556,
              "#d8576b"
             ],
             [
              0.6666666666666666,
              "#ed7953"
             ],
             [
              0.7777777777777778,
              "#fb9f3a"
             ],
             [
              0.8888888888888888,
              "#fdca26"
             ],
             [
              1,
              "#f0f921"
             ]
            ],
            "type": "heatmap"
           }
          ],
          "heatmapgl": [
           {
            "colorbar": {
             "outlinewidth": 0,
             "ticks": ""
            },
            "colorscale": [
             [
              0,
              "#0d0887"
             ],
             [
              0.1111111111111111,
              "#46039f"
             ],
             [
              0.2222222222222222,
              "#7201a8"
             ],
             [
              0.3333333333333333,
              "#9c179e"
             ],
             [
              0.4444444444444444,
              "#bd3786"
             ],
             [
              0.5555555555555556,
              "#d8576b"
             ],
             [
              0.6666666666666666,
              "#ed7953"
             ],
             [
              0.7777777777777778,
              "#fb9f3a"
             ],
             [
              0.8888888888888888,
              "#fdca26"
             ],
             [
              1,
              "#f0f921"
             ]
            ],
            "type": "heatmapgl"
           }
          ],
          "histogram": [
           {
            "marker": {
             "pattern": {
              "fillmode": "overlay",
              "size": 10,
              "solidity": 0.2
             }
            },
            "type": "histogram"
           }
          ],
          "histogram2d": [
           {
            "colorbar": {
             "outlinewidth": 0,
             "ticks": ""
            },
            "colorscale": [
             [
              0,
              "#0d0887"
             ],
             [
              0.1111111111111111,
              "#46039f"
             ],
             [
              0.2222222222222222,
              "#7201a8"
             ],
             [
              0.3333333333333333,
              "#9c179e"
             ],
             [
              0.4444444444444444,
              "#bd3786"
             ],
             [
              0.5555555555555556,
              "#d8576b"
             ],
             [
              0.6666666666666666,
              "#ed7953"
             ],
             [
              0.7777777777777778,
              "#fb9f3a"
             ],
             [
              0.8888888888888888,
              "#fdca26"
             ],
             [
              1,
              "#f0f921"
             ]
            ],
            "type": "histogram2d"
           }
          ],
          "histogram2dcontour": [
           {
            "colorbar": {
             "outlinewidth": 0,
             "ticks": ""
            },
            "colorscale": [
             [
              0,
              "#0d0887"
             ],
             [
              0.1111111111111111,
              "#46039f"
             ],
             [
              0.2222222222222222,
              "#7201a8"
             ],
             [
              0.3333333333333333,
              "#9c179e"
             ],
             [
              0.4444444444444444,
              "#bd3786"
             ],
             [
              0.5555555555555556,
              "#d8576b"
             ],
             [
              0.6666666666666666,
              "#ed7953"
             ],
             [
              0.7777777777777778,
              "#fb9f3a"
             ],
             [
              0.8888888888888888,
              "#fdca26"
             ],
             [
              1,
              "#f0f921"
             ]
            ],
            "type": "histogram2dcontour"
           }
          ],
          "mesh3d": [
           {
            "colorbar": {
             "outlinewidth": 0,
             "ticks": ""
            },
            "type": "mesh3d"
           }
          ],
          "parcoords": [
           {
            "line": {
             "colorbar": {
              "outlinewidth": 0,
              "ticks": ""
             }
            },
            "type": "parcoords"
           }
          ],
          "pie": [
           {
            "automargin": true,
            "type": "pie"
           }
          ],
          "scatter": [
           {
            "fillpattern": {
             "fillmode": "overlay",
             "size": 10,
             "solidity": 0.2
            },
            "type": "scatter"
           }
          ],
          "scatter3d": [
           {
            "line": {
             "colorbar": {
              "outlinewidth": 0,
              "ticks": ""
             }
            },
            "marker": {
             "colorbar": {
              "outlinewidth": 0,
              "ticks": ""
             }
            },
            "type": "scatter3d"
           }
          ],
          "scattercarpet": [
           {
            "marker": {
             "colorbar": {
              "outlinewidth": 0,
              "ticks": ""
             }
            },
            "type": "scattercarpet"
           }
          ],
          "scattergeo": [
           {
            "marker": {
             "colorbar": {
              "outlinewidth": 0,
              "ticks": ""
             }
            },
            "type": "scattergeo"
           }
          ],
          "scattergl": [
           {
            "marker": {
             "colorbar": {
              "outlinewidth": 0,
              "ticks": ""
             }
            },
            "type": "scattergl"
           }
          ],
          "scattermapbox": [
           {
            "marker": {
             "colorbar": {
              "outlinewidth": 0,
              "ticks": ""
             }
            },
            "type": "scattermapbox"
           }
          ],
          "scatterpolar": [
           {
            "marker": {
             "colorbar": {
              "outlinewidth": 0,
              "ticks": ""
             }
            },
            "type": "scatterpolar"
           }
          ],
          "scatterpolargl": [
           {
            "marker": {
             "colorbar": {
              "outlinewidth": 0,
              "ticks": ""
             }
            },
            "type": "scatterpolargl"
           }
          ],
          "scatterternary": [
           {
            "marker": {
             "colorbar": {
              "outlinewidth": 0,
              "ticks": ""
             }
            },
            "type": "scatterternary"
           }
          ],
          "surface": [
           {
            "colorbar": {
             "outlinewidth": 0,
             "ticks": ""
            },
            "colorscale": [
             [
              0,
              "#0d0887"
             ],
             [
              0.1111111111111111,
              "#46039f"
             ],
             [
              0.2222222222222222,
              "#7201a8"
             ],
             [
              0.3333333333333333,
              "#9c179e"
             ],
             [
              0.4444444444444444,
              "#bd3786"
             ],
             [
              0.5555555555555556,
              "#d8576b"
             ],
             [
              0.6666666666666666,
              "#ed7953"
             ],
             [
              0.7777777777777778,
              "#fb9f3a"
             ],
             [
              0.8888888888888888,
              "#fdca26"
             ],
             [
              1,
              "#f0f921"
             ]
            ],
            "type": "surface"
           }
          ],
          "table": [
           {
            "cells": {
             "fill": {
              "color": "#EBF0F8"
             },
             "line": {
              "color": "white"
             }
            },
            "header": {
             "fill": {
              "color": "#C8D4E3"
             },
             "line": {
              "color": "white"
             }
            },
            "type": "table"
           }
          ]
         },
         "layout": {
          "annotationdefaults": {
           "arrowcolor": "#2a3f5f",
           "arrowhead": 0,
           "arrowwidth": 1
          },
          "autotypenumbers": "strict",
          "coloraxis": {
           "colorbar": {
            "outlinewidth": 0,
            "ticks": ""
           }
          },
          "colorscale": {
           "diverging": [
            [
             0,
             "#8e0152"
            ],
            [
             0.1,
             "#c51b7d"
            ],
            [
             0.2,
             "#de77ae"
            ],
            [
             0.3,
             "#f1b6da"
            ],
            [
             0.4,
             "#fde0ef"
            ],
            [
             0.5,
             "#f7f7f7"
            ],
            [
             0.6,
             "#e6f5d0"
            ],
            [
             0.7,
             "#b8e186"
            ],
            [
             0.8,
             "#7fbc41"
            ],
            [
             0.9,
             "#4d9221"
            ],
            [
             1,
             "#276419"
            ]
           ],
           "sequential": [
            [
             0,
             "#0d0887"
            ],
            [
             0.1111111111111111,
             "#46039f"
            ],
            [
             0.2222222222222222,
             "#7201a8"
            ],
            [
             0.3333333333333333,
             "#9c179e"
            ],
            [
             0.4444444444444444,
             "#bd3786"
            ],
            [
             0.5555555555555556,
             "#d8576b"
            ],
            [
             0.6666666666666666,
             "#ed7953"
            ],
            [
             0.7777777777777778,
             "#fb9f3a"
            ],
            [
             0.8888888888888888,
             "#fdca26"
            ],
            [
             1,
             "#f0f921"
            ]
           ],
           "sequentialminus": [
            [
             0,
             "#0d0887"
            ],
            [
             0.1111111111111111,
             "#46039f"
            ],
            [
             0.2222222222222222,
             "#7201a8"
            ],
            [
             0.3333333333333333,
             "#9c179e"
            ],
            [
             0.4444444444444444,
             "#bd3786"
            ],
            [
             0.5555555555555556,
             "#d8576b"
            ],
            [
             0.6666666666666666,
             "#ed7953"
            ],
            [
             0.7777777777777778,
             "#fb9f3a"
            ],
            [
             0.8888888888888888,
             "#fdca26"
            ],
            [
             1,
             "#f0f921"
            ]
           ]
          },
          "colorway": [
           "#636efa",
           "#EF553B",
           "#00cc96",
           "#ab63fa",
           "#FFA15A",
           "#19d3f3",
           "#FF6692",
           "#B6E880",
           "#FF97FF",
           "#FECB52"
          ],
          "font": {
           "color": "#2a3f5f"
          },
          "geo": {
           "bgcolor": "white",
           "lakecolor": "white",
           "landcolor": "#E5ECF6",
           "showlakes": true,
           "showland": true,
           "subunitcolor": "white"
          },
          "hoverlabel": {
           "align": "left"
          },
          "hovermode": "closest",
          "mapbox": {
           "style": "light"
          },
          "paper_bgcolor": "white",
          "plot_bgcolor": "#E5ECF6",
          "polar": {
           "angularaxis": {
            "gridcolor": "white",
            "linecolor": "white",
            "ticks": ""
           },
           "bgcolor": "#E5ECF6",
           "radialaxis": {
            "gridcolor": "white",
            "linecolor": "white",
            "ticks": ""
           }
          },
          "scene": {
           "xaxis": {
            "backgroundcolor": "#E5ECF6",
            "gridcolor": "white",
            "gridwidth": 2,
            "linecolor": "white",
            "showbackground": true,
            "ticks": "",
            "zerolinecolor": "white"
           },
           "yaxis": {
            "backgroundcolor": "#E5ECF6",
            "gridcolor": "white",
            "gridwidth": 2,
            "linecolor": "white",
            "showbackground": true,
            "ticks": "",
            "zerolinecolor": "white"
           },
           "zaxis": {
            "backgroundcolor": "#E5ECF6",
            "gridcolor": "white",
            "gridwidth": 2,
            "linecolor": "white",
            "showbackground": true,
            "ticks": "",
            "zerolinecolor": "white"
           }
          },
          "shapedefaults": {
           "line": {
            "color": "#2a3f5f"
           }
          },
          "ternary": {
           "aaxis": {
            "gridcolor": "white",
            "linecolor": "white",
            "ticks": ""
           },
           "baxis": {
            "gridcolor": "white",
            "linecolor": "white",
            "ticks": ""
           },
           "bgcolor": "#E5ECF6",
           "caxis": {
            "gridcolor": "white",
            "linecolor": "white",
            "ticks": ""
           }
          },
          "title": {
           "x": 0.05
          },
          "xaxis": {
           "automargin": true,
           "gridcolor": "white",
           "linecolor": "white",
           "ticks": "",
           "title": {
            "standoff": 15
           },
           "zerolinecolor": "white",
           "zerolinewidth": 2
          },
          "yaxis": {
           "automargin": true,
           "gridcolor": "white",
           "linecolor": "white",
           "ticks": "",
           "title": {
            "standoff": 15
           },
           "zerolinecolor": "white",
           "zerolinewidth": 2
          }
         }
        },
        "xaxis": {
         "anchor": "y",
         "domain": [
          0,
          1
         ],
         "title": {
          "text": "wind_speed"
         }
        },
        "yaxis": {
         "anchor": "x",
         "domain": [
          0,
          1
         ],
         "title": {
          "text": "temperature"
         }
        }
       }
      }
     },
     "metadata": {},
     "output_type": "display_data"
    }
   ],
   "source": [
    "# example heatmap: https://plotly.com/python/2D-Histogram/\n",
    "df = weather_df_all\n",
    "\n",
    "fig = px.density_heatmap(df, x=\"wind_speed\", y=\"temperature\")\n",
    "fig.show()"
   ]
  },
  {
   "cell_type": "code",
   "execution_count": 114,
   "metadata": {},
   "outputs": [
    {
     "data": {
      "application/vnd.plotly.v1+json": {
       "config": {
        "plotlyServerURL": "https://plot.ly"
       },
       "data": [
        {
         "coloraxis": "coloraxis",
         "hovertemplate": "description=%{x}<br>city=%{y}<br>count=%{z}<extra></extra>",
         "name": "",
         "texttemplate": "%{z}",
         "type": "histogram2d",
         "x": [
          "broken clouds",
          "overcast clouds",
          "broken clouds",
          "broken clouds",
          "overcast clouds",
          "light rain",
          "overcast clouds",
          "overcast clouds",
          "light rain",
          "moderate rain",
          "light rain",
          "light rain",
          "light rain",
          "light rain",
          "light rain",
          "light rain",
          "overcast clouds",
          "overcast clouds",
          "light rain",
          "light rain",
          "overcast clouds",
          "overcast clouds",
          "overcast clouds",
          "overcast clouds",
          "overcast clouds",
          "light rain",
          "light rain",
          "light rain",
          "light rain",
          "light rain",
          "overcast clouds",
          "overcast clouds",
          "light rain",
          "light rain",
          "light rain",
          "light rain",
          "light rain",
          "light rain",
          "light rain",
          "light rain",
          "overcast clouds",
          "overcast clouds",
          "overcast clouds",
          "overcast clouds",
          "overcast clouds",
          "overcast clouds",
          "overcast clouds",
          "overcast clouds",
          "light rain",
          "moderate rain",
          "moderate rain",
          "light rain",
          "light rain",
          "light rain",
          "moderate rain",
          "light rain",
          "overcast clouds",
          "broken clouds",
          "light rain",
          "moderate rain",
          "light rain",
          "overcast clouds",
          "overcast clouds",
          "broken clouds",
          "broken clouds",
          "overcast clouds",
          "overcast clouds",
          "light rain",
          "overcast clouds",
          "overcast clouds",
          "overcast clouds",
          "light rain",
          "light rain",
          "moderate rain",
          "moderate rain",
          "light rain",
          "light rain",
          "light rain",
          "light rain",
          "overcast clouds",
          "overcast clouds",
          "overcast clouds",
          "overcast clouds",
          "overcast clouds",
          "overcast clouds",
          "overcast clouds",
          "overcast clouds",
          "broken clouds",
          "broken clouds",
          "moderate rain",
          "moderate rain",
          "light rain",
          "light rain",
          "light rain",
          "moderate rain",
          "light rain",
          "light rain",
          "overcast clouds",
          "overcast clouds",
          "moderate rain",
          "light rain",
          "overcast clouds",
          "overcast clouds",
          "overcast clouds",
          "overcast clouds",
          "light rain",
          "light rain",
          "light rain",
          "light rain",
          "light rain",
          "light rain",
          "overcast clouds",
          "overcast clouds",
          "light rain",
          "light rain",
          "light rain",
          "light rain",
          "light rain",
          "light rain",
          "light rain",
          "overcast clouds",
          "overcast clouds",
          "overcast clouds",
          "broken clouds",
          "broken clouds",
          "light rain",
          "overcast clouds",
          "broken clouds",
          "light rain",
          "moderate rain",
          "light rain",
          "light rain",
          "broken clouds",
          "light rain",
          "moderate rain",
          "light rain",
          "overcast clouds",
          "overcast clouds",
          "light rain",
          "light rain",
          "light rain",
          "overcast clouds",
          "overcast clouds",
          "overcast clouds",
          "overcast clouds",
          "light rain",
          "light rain",
          "light rain",
          "light rain",
          "light rain",
          "overcast clouds",
          "overcast clouds",
          "light rain",
          "light rain",
          "light rain",
          "light rain",
          "light rain",
          "light rain",
          "light rain",
          "overcast clouds"
         ],
         "xaxis": "x",
         "xbingroup": "x",
         "y": [
          "Amsterdam",
          "Amsterdam",
          "Amsterdam",
          "Amsterdam",
          "Amsterdam",
          "Amsterdam",
          "Amsterdam",
          "Amsterdam",
          "Amsterdam",
          "Amsterdam",
          "Amsterdam",
          "Amsterdam",
          "Amsterdam",
          "Amsterdam",
          "Amsterdam",
          "Amsterdam",
          "Amsterdam",
          "Amsterdam",
          "Amsterdam",
          "Amsterdam",
          "Amsterdam",
          "Amsterdam",
          "Amsterdam",
          "Amsterdam",
          "Amsterdam",
          "Amsterdam",
          "Amsterdam",
          "Amsterdam",
          "Amsterdam",
          "Amsterdam",
          "Amsterdam",
          "Amsterdam",
          "Amsterdam",
          "Amsterdam",
          "Amsterdam",
          "Amsterdam",
          "Amsterdam",
          "Amsterdam",
          "Amsterdam",
          "Amsterdam",
          "Gemeente Eindhoven",
          "Gemeente Eindhoven",
          "Gemeente Eindhoven",
          "Gemeente Eindhoven",
          "Gemeente Eindhoven",
          "Gemeente Eindhoven",
          "Gemeente Eindhoven",
          "Gemeente Eindhoven",
          "Gemeente Eindhoven",
          "Gemeente Eindhoven",
          "Gemeente Eindhoven",
          "Gemeente Eindhoven",
          "Gemeente Eindhoven",
          "Gemeente Eindhoven",
          "Gemeente Eindhoven",
          "Gemeente Eindhoven",
          "Gemeente Eindhoven",
          "Gemeente Eindhoven",
          "Gemeente Eindhoven",
          "Gemeente Eindhoven",
          "Gemeente Eindhoven",
          "Gemeente Eindhoven",
          "Gemeente Eindhoven",
          "Gemeente Eindhoven",
          "Gemeente Eindhoven",
          "Gemeente Eindhoven",
          "Gemeente Eindhoven",
          "Gemeente Eindhoven",
          "Gemeente Eindhoven",
          "Gemeente Eindhoven",
          "Gemeente Eindhoven",
          "Gemeente Eindhoven",
          "Gemeente Eindhoven",
          "Gemeente Eindhoven",
          "Gemeente Eindhoven",
          "Gemeente Eindhoven",
          "Gemeente Eindhoven",
          "Gemeente Eindhoven",
          "Gemeente Eindhoven",
          "Gemeente Eindhoven",
          "Enschede",
          "Enschede",
          "Enschede",
          "Enschede",
          "Enschede",
          "Enschede",
          "Enschede",
          "Enschede",
          "Enschede",
          "Enschede",
          "Enschede",
          "Enschede",
          "Enschede",
          "Enschede",
          "Enschede",
          "Enschede",
          "Enschede",
          "Enschede",
          "Enschede",
          "Enschede",
          "Enschede",
          "Enschede",
          "Enschede",
          "Enschede",
          "Enschede",
          "Enschede",
          "Enschede",
          "Enschede",
          "Enschede",
          "Enschede",
          "Enschede",
          "Enschede",
          "Enschede",
          "Enschede",
          "Enschede",
          "Enschede",
          "Enschede",
          "Enschede",
          "Enschede",
          "Enschede",
          "Provincie Utrecht",
          "Provincie Utrecht",
          "Provincie Utrecht",
          "Provincie Utrecht",
          "Provincie Utrecht",
          "Provincie Utrecht",
          "Provincie Utrecht",
          "Provincie Utrecht",
          "Provincie Utrecht",
          "Provincie Utrecht",
          "Provincie Utrecht",
          "Provincie Utrecht",
          "Provincie Utrecht",
          "Provincie Utrecht",
          "Provincie Utrecht",
          "Provincie Utrecht",
          "Provincie Utrecht",
          "Provincie Utrecht",
          "Provincie Utrecht",
          "Provincie Utrecht",
          "Provincie Utrecht",
          "Provincie Utrecht",
          "Provincie Utrecht",
          "Provincie Utrecht",
          "Provincie Utrecht",
          "Provincie Utrecht",
          "Provincie Utrecht",
          "Provincie Utrecht",
          "Provincie Utrecht",
          "Provincie Utrecht",
          "Provincie Utrecht",
          "Provincie Utrecht",
          "Provincie Utrecht",
          "Provincie Utrecht",
          "Provincie Utrecht",
          "Provincie Utrecht",
          "Provincie Utrecht",
          "Provincie Utrecht",
          "Provincie Utrecht",
          "Provincie Utrecht"
         ],
         "yaxis": "y",
         "ybingroup": "y"
        }
       ],
       "layout": {
        "coloraxis": {
         "colorbar": {
          "title": {
           "text": "count"
          }
         },
         "colorscale": [
          [
           0,
           "#0d0887"
          ],
          [
           0.1111111111111111,
           "#46039f"
          ],
          [
           0.2222222222222222,
           "#7201a8"
          ],
          [
           0.3333333333333333,
           "#9c179e"
          ],
          [
           0.4444444444444444,
           "#bd3786"
          ],
          [
           0.5555555555555556,
           "#d8576b"
          ],
          [
           0.6666666666666666,
           "#ed7953"
          ],
          [
           0.7777777777777778,
           "#fb9f3a"
          ],
          [
           0.8888888888888888,
           "#fdca26"
          ],
          [
           1,
           "#f0f921"
          ]
         ]
        },
        "legend": {
         "tracegroupgap": 0
        },
        "margin": {
         "t": 60
        },
        "template": {
         "data": {
          "bar": [
           {
            "error_x": {
             "color": "#2a3f5f"
            },
            "error_y": {
             "color": "#2a3f5f"
            },
            "marker": {
             "line": {
              "color": "#E5ECF6",
              "width": 0.5
             },
             "pattern": {
              "fillmode": "overlay",
              "size": 10,
              "solidity": 0.2
             }
            },
            "type": "bar"
           }
          ],
          "barpolar": [
           {
            "marker": {
             "line": {
              "color": "#E5ECF6",
              "width": 0.5
             },
             "pattern": {
              "fillmode": "overlay",
              "size": 10,
              "solidity": 0.2
             }
            },
            "type": "barpolar"
           }
          ],
          "carpet": [
           {
            "aaxis": {
             "endlinecolor": "#2a3f5f",
             "gridcolor": "white",
             "linecolor": "white",
             "minorgridcolor": "white",
             "startlinecolor": "#2a3f5f"
            },
            "baxis": {
             "endlinecolor": "#2a3f5f",
             "gridcolor": "white",
             "linecolor": "white",
             "minorgridcolor": "white",
             "startlinecolor": "#2a3f5f"
            },
            "type": "carpet"
           }
          ],
          "choropleth": [
           {
            "colorbar": {
             "outlinewidth": 0,
             "ticks": ""
            },
            "type": "choropleth"
           }
          ],
          "contour": [
           {
            "colorbar": {
             "outlinewidth": 0,
             "ticks": ""
            },
            "colorscale": [
             [
              0,
              "#0d0887"
             ],
             [
              0.1111111111111111,
              "#46039f"
             ],
             [
              0.2222222222222222,
              "#7201a8"
             ],
             [
              0.3333333333333333,
              "#9c179e"
             ],
             [
              0.4444444444444444,
              "#bd3786"
             ],
             [
              0.5555555555555556,
              "#d8576b"
             ],
             [
              0.6666666666666666,
              "#ed7953"
             ],
             [
              0.7777777777777778,
              "#fb9f3a"
             ],
             [
              0.8888888888888888,
              "#fdca26"
             ],
             [
              1,
              "#f0f921"
             ]
            ],
            "type": "contour"
           }
          ],
          "contourcarpet": [
           {
            "colorbar": {
             "outlinewidth": 0,
             "ticks": ""
            },
            "type": "contourcarpet"
           }
          ],
          "heatmap": [
           {
            "colorbar": {
             "outlinewidth": 0,
             "ticks": ""
            },
            "colorscale": [
             [
              0,
              "#0d0887"
             ],
             [
              0.1111111111111111,
              "#46039f"
             ],
             [
              0.2222222222222222,
              "#7201a8"
             ],
             [
              0.3333333333333333,
              "#9c179e"
             ],
             [
              0.4444444444444444,
              "#bd3786"
             ],
             [
              0.5555555555555556,
              "#d8576b"
             ],
             [
              0.6666666666666666,
              "#ed7953"
             ],
             [
              0.7777777777777778,
              "#fb9f3a"
             ],
             [
              0.8888888888888888,
              "#fdca26"
             ],
             [
              1,
              "#f0f921"
             ]
            ],
            "type": "heatmap"
           }
          ],
          "heatmapgl": [
           {
            "colorbar": {
             "outlinewidth": 0,
             "ticks": ""
            },
            "colorscale": [
             [
              0,
              "#0d0887"
             ],
             [
              0.1111111111111111,
              "#46039f"
             ],
             [
              0.2222222222222222,
              "#7201a8"
             ],
             [
              0.3333333333333333,
              "#9c179e"
             ],
             [
              0.4444444444444444,
              "#bd3786"
             ],
             [
              0.5555555555555556,
              "#d8576b"
             ],
             [
              0.6666666666666666,
              "#ed7953"
             ],
             [
              0.7777777777777778,
              "#fb9f3a"
             ],
             [
              0.8888888888888888,
              "#fdca26"
             ],
             [
              1,
              "#f0f921"
             ]
            ],
            "type": "heatmapgl"
           }
          ],
          "histogram": [
           {
            "marker": {
             "pattern": {
              "fillmode": "overlay",
              "size": 10,
              "solidity": 0.2
             }
            },
            "type": "histogram"
           }
          ],
          "histogram2d": [
           {
            "colorbar": {
             "outlinewidth": 0,
             "ticks": ""
            },
            "colorscale": [
             [
              0,
              "#0d0887"
             ],
             [
              0.1111111111111111,
              "#46039f"
             ],
             [
              0.2222222222222222,
              "#7201a8"
             ],
             [
              0.3333333333333333,
              "#9c179e"
             ],
             [
              0.4444444444444444,
              "#bd3786"
             ],
             [
              0.5555555555555556,
              "#d8576b"
             ],
             [
              0.6666666666666666,
              "#ed7953"
             ],
             [
              0.7777777777777778,
              "#fb9f3a"
             ],
             [
              0.8888888888888888,
              "#fdca26"
             ],
             [
              1,
              "#f0f921"
             ]
            ],
            "type": "histogram2d"
           }
          ],
          "histogram2dcontour": [
           {
            "colorbar": {
             "outlinewidth": 0,
             "ticks": ""
            },
            "colorscale": [
             [
              0,
              "#0d0887"
             ],
             [
              0.1111111111111111,
              "#46039f"
             ],
             [
              0.2222222222222222,
              "#7201a8"
             ],
             [
              0.3333333333333333,
              "#9c179e"
             ],
             [
              0.4444444444444444,
              "#bd3786"
             ],
             [
              0.5555555555555556,
              "#d8576b"
             ],
             [
              0.6666666666666666,
              "#ed7953"
             ],
             [
              0.7777777777777778,
              "#fb9f3a"
             ],
             [
              0.8888888888888888,
              "#fdca26"
             ],
             [
              1,
              "#f0f921"
             ]
            ],
            "type": "histogram2dcontour"
           }
          ],
          "mesh3d": [
           {
            "colorbar": {
             "outlinewidth": 0,
             "ticks": ""
            },
            "type": "mesh3d"
           }
          ],
          "parcoords": [
           {
            "line": {
             "colorbar": {
              "outlinewidth": 0,
              "ticks": ""
             }
            },
            "type": "parcoords"
           }
          ],
          "pie": [
           {
            "automargin": true,
            "type": "pie"
           }
          ],
          "scatter": [
           {
            "fillpattern": {
             "fillmode": "overlay",
             "size": 10,
             "solidity": 0.2
            },
            "type": "scatter"
           }
          ],
          "scatter3d": [
           {
            "line": {
             "colorbar": {
              "outlinewidth": 0,
              "ticks": ""
             }
            },
            "marker": {
             "colorbar": {
              "outlinewidth": 0,
              "ticks": ""
             }
            },
            "type": "scatter3d"
           }
          ],
          "scattercarpet": [
           {
            "marker": {
             "colorbar": {
              "outlinewidth": 0,
              "ticks": ""
             }
            },
            "type": "scattercarpet"
           }
          ],
          "scattergeo": [
           {
            "marker": {
             "colorbar": {
              "outlinewidth": 0,
              "ticks": ""
             }
            },
            "type": "scattergeo"
           }
          ],
          "scattergl": [
           {
            "marker": {
             "colorbar": {
              "outlinewidth": 0,
              "ticks": ""
             }
            },
            "type": "scattergl"
           }
          ],
          "scattermapbox": [
           {
            "marker": {
             "colorbar": {
              "outlinewidth": 0,
              "ticks": ""
             }
            },
            "type": "scattermapbox"
           }
          ],
          "scatterpolar": [
           {
            "marker": {
             "colorbar": {
              "outlinewidth": 0,
              "ticks": ""
             }
            },
            "type": "scatterpolar"
           }
          ],
          "scatterpolargl": [
           {
            "marker": {
             "colorbar": {
              "outlinewidth": 0,
              "ticks": ""
             }
            },
            "type": "scatterpolargl"
           }
          ],
          "scatterternary": [
           {
            "marker": {
             "colorbar": {
              "outlinewidth": 0,
              "ticks": ""
             }
            },
            "type": "scatterternary"
           }
          ],
          "surface": [
           {
            "colorbar": {
             "outlinewidth": 0,
             "ticks": ""
            },
            "colorscale": [
             [
              0,
              "#0d0887"
             ],
             [
              0.1111111111111111,
              "#46039f"
             ],
             [
              0.2222222222222222,
              "#7201a8"
             ],
             [
              0.3333333333333333,
              "#9c179e"
             ],
             [
              0.4444444444444444,
              "#bd3786"
             ],
             [
              0.5555555555555556,
              "#d8576b"
             ],
             [
              0.6666666666666666,
              "#ed7953"
             ],
             [
              0.7777777777777778,
              "#fb9f3a"
             ],
             [
              0.8888888888888888,
              "#fdca26"
             ],
             [
              1,
              "#f0f921"
             ]
            ],
            "type": "surface"
           }
          ],
          "table": [
           {
            "cells": {
             "fill": {
              "color": "#EBF0F8"
             },
             "line": {
              "color": "white"
             }
            },
            "header": {
             "fill": {
              "color": "#C8D4E3"
             },
             "line": {
              "color": "white"
             }
            },
            "type": "table"
           }
          ]
         },
         "layout": {
          "annotationdefaults": {
           "arrowcolor": "#2a3f5f",
           "arrowhead": 0,
           "arrowwidth": 1
          },
          "autotypenumbers": "strict",
          "coloraxis": {
           "colorbar": {
            "outlinewidth": 0,
            "ticks": ""
           }
          },
          "colorscale": {
           "diverging": [
            [
             0,
             "#8e0152"
            ],
            [
             0.1,
             "#c51b7d"
            ],
            [
             0.2,
             "#de77ae"
            ],
            [
             0.3,
             "#f1b6da"
            ],
            [
             0.4,
             "#fde0ef"
            ],
            [
             0.5,
             "#f7f7f7"
            ],
            [
             0.6,
             "#e6f5d0"
            ],
            [
             0.7,
             "#b8e186"
            ],
            [
             0.8,
             "#7fbc41"
            ],
            [
             0.9,
             "#4d9221"
            ],
            [
             1,
             "#276419"
            ]
           ],
           "sequential": [
            [
             0,
             "#0d0887"
            ],
            [
             0.1111111111111111,
             "#46039f"
            ],
            [
             0.2222222222222222,
             "#7201a8"
            ],
            [
             0.3333333333333333,
             "#9c179e"
            ],
            [
             0.4444444444444444,
             "#bd3786"
            ],
            [
             0.5555555555555556,
             "#d8576b"
            ],
            [
             0.6666666666666666,
             "#ed7953"
            ],
            [
             0.7777777777777778,
             "#fb9f3a"
            ],
            [
             0.8888888888888888,
             "#fdca26"
            ],
            [
             1,
             "#f0f921"
            ]
           ],
           "sequentialminus": [
            [
             0,
             "#0d0887"
            ],
            [
             0.1111111111111111,
             "#46039f"
            ],
            [
             0.2222222222222222,
             "#7201a8"
            ],
            [
             0.3333333333333333,
             "#9c179e"
            ],
            [
             0.4444444444444444,
             "#bd3786"
            ],
            [
             0.5555555555555556,
             "#d8576b"
            ],
            [
             0.6666666666666666,
             "#ed7953"
            ],
            [
             0.7777777777777778,
             "#fb9f3a"
            ],
            [
             0.8888888888888888,
             "#fdca26"
            ],
            [
             1,
             "#f0f921"
            ]
           ]
          },
          "colorway": [
           "#636efa",
           "#EF553B",
           "#00cc96",
           "#ab63fa",
           "#FFA15A",
           "#19d3f3",
           "#FF6692",
           "#B6E880",
           "#FF97FF",
           "#FECB52"
          ],
          "font": {
           "color": "#2a3f5f"
          },
          "geo": {
           "bgcolor": "white",
           "lakecolor": "white",
           "landcolor": "#E5ECF6",
           "showlakes": true,
           "showland": true,
           "subunitcolor": "white"
          },
          "hoverlabel": {
           "align": "left"
          },
          "hovermode": "closest",
          "mapbox": {
           "style": "light"
          },
          "paper_bgcolor": "white",
          "plot_bgcolor": "#E5ECF6",
          "polar": {
           "angularaxis": {
            "gridcolor": "white",
            "linecolor": "white",
            "ticks": ""
           },
           "bgcolor": "#E5ECF6",
           "radialaxis": {
            "gridcolor": "white",
            "linecolor": "white",
            "ticks": ""
           }
          },
          "scene": {
           "xaxis": {
            "backgroundcolor": "#E5ECF6",
            "gridcolor": "white",
            "gridwidth": 2,
            "linecolor": "white",
            "showbackground": true,
            "ticks": "",
            "zerolinecolor": "white"
           },
           "yaxis": {
            "backgroundcolor": "#E5ECF6",
            "gridcolor": "white",
            "gridwidth": 2,
            "linecolor": "white",
            "showbackground": true,
            "ticks": "",
            "zerolinecolor": "white"
           },
           "zaxis": {
            "backgroundcolor": "#E5ECF6",
            "gridcolor": "white",
            "gridwidth": 2,
            "linecolor": "white",
            "showbackground": true,
            "ticks": "",
            "zerolinecolor": "white"
           }
          },
          "shapedefaults": {
           "line": {
            "color": "#2a3f5f"
           }
          },
          "ternary": {
           "aaxis": {
            "gridcolor": "white",
            "linecolor": "white",
            "ticks": ""
           },
           "baxis": {
            "gridcolor": "white",
            "linecolor": "white",
            "ticks": ""
           },
           "bgcolor": "#E5ECF6",
           "caxis": {
            "gridcolor": "white",
            "linecolor": "white",
            "ticks": ""
           }
          },
          "title": {
           "x": 0.05
          },
          "xaxis": {
           "automargin": true,
           "gridcolor": "white",
           "linecolor": "white",
           "ticks": "",
           "title": {
            "standoff": 15
           },
           "zerolinecolor": "white",
           "zerolinewidth": 2
          },
          "yaxis": {
           "automargin": true,
           "gridcolor": "white",
           "linecolor": "white",
           "ticks": "",
           "title": {
            "standoff": 15
           },
           "zerolinecolor": "white",
           "zerolinewidth": 2
          }
         }
        },
        "xaxis": {
         "anchor": "y",
         "domain": [
          0,
          1
         ],
         "title": {
          "text": "description"
         }
        },
        "yaxis": {
         "anchor": "x",
         "domain": [
          0,
          1
         ],
         "title": {
          "text": "city"
         }
        }
       }
      }
     },
     "metadata": {},
     "output_type": "display_data"
    }
   ],
   "source": [
    "# example heatmap\n",
    "df = weather_df_all\n",
    "\n",
    "fig = px.density_heatmap(df, x=\"description\", y=\"city\", text_auto=True)\n",
    "fig.show()"
   ]
  },
  {
   "cell_type": "code",
   "execution_count": null,
   "metadata": {},
   "outputs": [],
   "source": []
  }
 ],
 "metadata": {
  "kernelspec": {
   "display_name": "venv",
   "language": "python",
   "name": "python3"
  },
  "language_info": {
   "codemirror_mode": {
    "name": "ipython",
    "version": 3
   },
   "file_extension": ".py",
   "mimetype": "text/x-python",
   "name": "python",
   "nbconvert_exporter": "python",
   "pygments_lexer": "ipython3",
   "version": "3.12.0"
  }
 },
 "nbformat": 4,
 "nbformat_minor": 2
}
